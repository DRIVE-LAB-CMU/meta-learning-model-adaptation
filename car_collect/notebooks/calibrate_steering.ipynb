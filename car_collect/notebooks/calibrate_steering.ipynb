{
 "cells": [
  {
   "cell_type": "markdown",
   "id": "aeb34bfb-10aa-4533-a6eb-b139cc4c885b",
   "metadata": {},
   "source": [
    "# Calibrate Steering"
   ]
  },
  {
   "cell_type": "markdown",
   "id": "0530ea26-43aa-40ea-aefa-65c78a9dacd0",
   "metadata": {},
   "source": [
    "**This notebook is used to find the correspondance between the command steering and the real steering**\n",
    "\n",
    "Assume $\\delta_{\\text{real}} = a \\times \\delta_\\text{target} + b$\n",
    "\n",
    "We collect data on cars driving in both clockwise and counterclockwise circles at a low speed of 3m/s using Vicon."
   ]
  },
  {
   "cell_type": "markdown",
   "id": "7c8302f9-2325-498f-a210-87513a7252f2",
   "metadata": {},
   "source": [
    "## Fetch data"
   ]
  },
  {
   "cell_type": "code",
   "execution_count": 7,
   "id": "e7b3e59e-d72d-4493-bdd3-c6982b41f2d0",
   "metadata": {},
   "outputs": [
    {
     "name": "stdout",
     "output_type": "stream",
     "text": [
      "The autoreload extension is already loaded. To reload it, use:\n",
      "  %reload_ext autoreload\n"
     ]
    }
   ],
   "source": [
    "import os\n",
    "import numpy as np\n",
    "import matplotlib.pyplot as plt\n",
    "import pandas as pd\n",
    "# import utm\n",
    "import scipy\n",
    "import scipy.interpolate\n",
    "import scipy.signal\n",
    "from scipy.spatial.transform import Rotation\n",
    "# from car_dynamics.envs.kinematic_bicycle_model import LF, LR\n",
    "from car_dynamics.analysis import pos2vel_savgol, calc_delta, interpolate, rotate_point, calc_delta_v\n",
    "from offroad.utils import load_state\n",
    "import ipywidgets as widgets\n",
    "from ipywidgets import interact\n",
    "from termcolor import colored\n",
    "%matplotlib inline\n",
    "%load_ext autoreload\n",
    "%autoreload 2\n",
    "LF = .16\n",
    "LR = .15\n",
    "log_dir = '/Users/wenlixiao/Dropbox/School/Graduate/LeCAR/safe-learning-control/playground/offroad/data/dataset/' \n"
   ]
  },
  {
   "cell_type": "code",
   "execution_count": 8,
   "id": "d5676249-52b4-4e47-b86d-2c983d4f4cdc",
   "metadata": {},
   "outputs": [
    {
     "data": {
      "text/html": [
       "<pre style=\"white-space:pre;overflow-x:auto;line-height:normal;font-family:Menlo,'DejaVu Sans Mono',consolas,'Courier New',monospace\">\n",
       "</pre>\n"
      ],
      "text/plain": [
       "\n"
      ]
     },
     "metadata": {},
     "output_type": "display_data"
    },
    {
     "ename": "ValueError",
     "evalue": "too many values to unpack (expected 4)",
     "output_type": "error",
     "traceback": [
      "\u001b[0;31m---------------------------------------------------------------------------\u001b[0m",
      "\u001b[0;31mValueError\u001b[0m                                Traceback (most recent call last)",
      "Cell \u001b[0;32mIn[8], line 1\u001b[0m\n\u001b[0;32m----> 1\u001b[0m t_list, p_dict, yaw_dict, action_list \u001b[38;5;241m=\u001b[39m load_state(log_dir \u001b[38;5;241m+\u001b[39m \u001b[38;5;124m'\u001b[39m\u001b[38;5;124mdata-20240111-234024\u001b[39m\u001b[38;5;124m'\u001b[39m, [\u001b[38;5;241m0\u001b[39m,\u001b[38;5;241m118\u001b[39m] , orientation_provider\u001b[38;5;241m=\u001b[39m\u001b[38;5;124m\"\u001b[39m\u001b[38;5;124mIENTATION_PROVIDOER\u001b[39m\u001b[38;5;124m\"\u001b[39m)\n",
      "\u001b[0;31mValueError\u001b[0m: too many values to unpack (expected 4)"
     ]
    }
   ],
   "source": [
    "t_list, p_dict, yaw_dict, action_list = load_state(log_dir + 'data-20240111-234024', [0,118] , orientation_provider=\"IENTATION_PROVIDOER\")"
   ]
  },
  {
   "cell_type": "code",
   "execution_count": 13,
   "id": "7006b816-3fe5-4a5f-98fa-4d5054507102",
   "metadata": {},
   "outputs": [],
   "source": [
    "log_dir = '/Users/wenlixiao/Dropbox/School/Graduate/LeCAR/safe-learning-control/playground/offroad/data/dataset/' \n",
    "\n",
    "data_list = [\n",
    "                # dict(name='straight', dir='data-20240105-131330', range=[0,3]),\n",
    "                # dict(name='straight', dir='data-20240105-131642', range=[0,3]),\n",
    "                # dict(name='straight', dir='data-20240105-131554', range=[0,3]),\n",
    "                # dict(name='arc left', dir='data-20240105-132023', range=[0,8]),\n",
    "                # dict(name='arc left', dir='data-20240105-132200', range=[0,8]),\n",
    "                # dict(name='arc left', dir='data-20240105-132304', range=[0,9]),\n",
    "                # dict(name='arc right', dir='data-20240105-132434', range=[0,13]),\n",
    "                # dict(name='arc right', dir='data-20240105-132718', range=[0,20]),\n",
    "                # dict(name='arc right', dir='data-20240105-133440', range=[0,13]),\n",
    "                # dict(name='circle', dir='data-20240105-144318', range=[0,101]),\n",
    "                # dict(name='circle', dir='data-20240105-151616', range=[0,55]),\n",
    "                # dict(name='clock', dir='data-20240105-151616', range=[0,43]),\n",
    "                # dict(name='clock', dir='data-20240105-151931', range=[0,38]),\n",
    "                # dict(name='clock', dir='data-20240105-152139', range=[0,38]),\n",
    "                # dict(name='clock', dir='data-20240105-152431', range=[0,38]),\n",
    "                # dict(name='clock', dir='data-20240105-171153', range=[0,158]),\n",
    "                dict(name='clock', dir='data-20240302-151638', range=[0,146]),\n",
    "                dict(name='clock', dir='data-20240302-151849', range=[0,201]),\n",
    "                # dict(name='clock', dir='data-20240105-160800', range=[0,90]),\n",
    "                # dict(name='clock', dir='data-20240105-164406', range=[0,58]),\n",
    "                # dict(name='clock', dir='data-20240105-172301', range=[0,61]),\n",
    "\n",
    "    # dict(name='clock', dir='data-20231226-171157', range=[10, 136]),\n",
    "                # dict(name='counter clock', dir='data-20231226-170639', range=[7, 213]),\n",
    "                # dict(name='clock', dir='data-20231226-171421', range=[20, 110]),\n",
    "                # dict(name='counter clock', dir='data-20231226-170909', range=[7, 82]),\n",
    "                # dict(name='unknown', dir='data-20231227-185416', range=[0, 52]),\n",
    "                # dict(name='unknown', dir='data-20231227-183524', range=[0, 161]),\n",
    "            ]"
   ]
  },
  {
   "cell_type": "code",
   "execution_count": 14,
   "id": "cc62ee24-1d68-4cd6-8532-195e22ee8ef6",
   "metadata": {},
   "outputs": [
    {
     "data": {
      "text/html": [
       "<pre style=\"white-space:pre;overflow-x:auto;line-height:normal;font-family:Menlo,'DejaVu Sans Mono',consolas,'Courier New',monospace\">\n",
       "</pre>\n"
      ],
      "text/plain": [
       "\n"
      ]
     },
     "metadata": {},
     "output_type": "display_data"
    },
    {
     "data": {
      "text/html": [
       "<pre style=\"white-space:pre;overflow-x:auto;line-height:normal;font-family:Menlo,'DejaVu Sans Mono',consolas,'Courier New',monospace\">\n",
       "</pre>\n"
      ],
      "text/plain": [
       "\n"
      ]
     },
     "metadata": {},
     "output_type": "display_data"
    }
   ],
   "source": [
    "result_list = []\n",
    "for data in data_list:\n",
    "    t_list, p_dict, yaw_dict, action_list, _ = load_state(log_dir + data['dir'], data['range'] , orientation_provider=\"IMU\")\n",
    "    yaw_vicon = yaw_dict['vicon']\n",
    "    p_list = p_dict['vicon']\n",
    "    \n",
    "    ## Calibrate pos and yaw\n",
    "    px, py = rotate_point(p_list[:, 0], p_list[:, 1], 90)\n",
    "    p_rot = np.zeros((len(px),2))\n",
    "    p_rot[:,0] = px\n",
    "    p_rot[:,1] = py\n",
    "    yaw_vicon_calibrated = yaw_vicon + np.pi/2\n",
    "    yaw_vicon_calibrated = np.arctan2(np.sin(yaw_vicon_calibrated), np.cos(yaw_vicon_calibrated))\n",
    "\n",
    "    yaw_smooth = [yaw_vicon_calibrated[0]]\n",
    "    running_yaw = yaw_smooth[0]\n",
    "    yaw_alpha = 1.0\n",
    "    for yaw in yaw_vicon_calibrated[1:]:\n",
    "        yaw_smooth.append(yaw_smooth[-1] + yaw_alpha * (yaw - yaw_smooth[-1]))\n",
    "    # plt.figure()\n",
    "    # plt.plot(yaw_smooth, label='smooth')\n",
    "    # plt.plot(yaw_vicon_calibrated, label='raw')\n",
    "    # plt.legend()\n",
    "    dt = 0.05\n",
    "    p_smooth, vel, vel_vec = pos2vel_savgol(p_rot,window_length=5, delta=dt)\n",
    "    # delta, beta = calc_delta_v(vel_vec, yaw_vicon_calibrated, LF, LR)\n",
    "    delta, beta = calc_delta_v(vel_vec, yaw_smooth, LF, LR)\n",
    "    result_list.append(\n",
    "        dict(name=data['name'], action=action_list.copy(), delta=delta.copy())\n",
    "    )\n",
    "def plot(a=.46, b=-0.13, delay=4):\n",
    "    fig, axs = plt.subplots(1, len(result_list), figsize=(10*len(result_list), 5))\n",
    "    for i, result in enumerate(result_list):\n",
    "        axs[i].plot(result['delta'], label='real delta')\n",
    "        proj_action = result['action'][:, 1]*a+b\n",
    "        delayed_action = np.zeros_like(proj_action)\n",
    "        delayed_action[delay:] = proj_action[:len(proj_action)-delay]\n",
    "        axs[i].plot(delayed_action, label='target delta')\n",
    "        axs[i].legend()\n",
    "        axs[i].set_title(f\"{result['name']}\")"
   ]
  },
  {
   "cell_type": "code",
   "execution_count": 15,
   "id": "10f2b94c-8ce7-496c-ae25-128928f3120e",
   "metadata": {},
   "outputs": [
    {
     "data": {
      "application/vnd.jupyter.widget-view+json": {
       "model_id": "1fe1479b7b604a81ae72cd9d89e1f1a0",
       "version_major": 2,
       "version_minor": 0
      },
      "text/plain": [
       "interactive(children=(FloatSlider(value=0.46, description='a', max=1.0, min=-1.0, step=0.01), FloatSlider(valu…"
      ]
     },
     "metadata": {},
     "output_type": "display_data"
    },
    {
     "data": {
      "text/plain": [
       "<function __main__.plot(a=0.46, b=-0.13, delay=4)>"
      ]
     },
     "execution_count": 15,
     "metadata": {},
     "output_type": "execute_result"
    }
   ],
   "source": [
    "interact(plot, \n",
    "         a = (-1, 1, 0.01),\n",
    "         b = (-1, 1, 0.01),\n",
    "         delay=(0, 100, 1),\n",
    "        )"
   ]
  },
  {
   "cell_type": "code",
   "execution_count": null,
   "id": "7703cfff-a521-4251-ad8d-2058fc66d508",
   "metadata": {},
   "outputs": [],
   "source": []
  },
  {
   "cell_type": "code",
   "execution_count": null,
   "id": "1c8e68ec-6698-4a25-8985-2ce36111daf4",
   "metadata": {},
   "outputs": [],
   "source": []
  }
 ],
 "metadata": {
  "kernelspec": {
   "display_name": "Python 3 (ipykernel)",
   "language": "python",
   "name": "python3"
  },
  "language_info": {
   "codemirror_mode": {
    "name": "ipython",
    "version": 3
   },
   "file_extension": ".py",
   "mimetype": "text/x-python",
   "name": "python",
   "nbconvert_exporter": "python",
   "pygments_lexer": "ipython3",
   "version": "3.8.18"
  }
 },
 "nbformat": 4,
 "nbformat_minor": 5
}
