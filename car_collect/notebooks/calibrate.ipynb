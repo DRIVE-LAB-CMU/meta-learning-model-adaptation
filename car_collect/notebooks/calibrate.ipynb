{
 "cells": [
  {
   "cell_type": "code",
   "execution_count": 2,
   "id": "c682c05a-0efb-4bc2-9612-be245fe903be",
   "metadata": {},
   "outputs": [],
   "source": [
    "import matplotlib.pyplot as plt\n",
    "import numpy as np\n",
    "import os\n",
    "from offroad.utils import load_state\n",
    "import json\n",
    "import ipywidgets as widgets\n",
    "from ipywidgets import interact\n",
    "%matplotlib inline\n",
    "%load_ext autoreload\n",
    "%autoreload 2"
   ]
  },
  {
   "cell_type": "code",
   "execution_count": 10,
   "id": "08e1a2d1-5de9-4a08-b2d9-c1aee293282a",
   "metadata": {
    "scrolled": true
   },
   "outputs": [
    {
     "data": {
      "text/html": [
       "<pre style=\"white-space:pre;overflow-x:auto;line-height:normal;font-family:Menlo,'DejaVu Sans Mono',consolas,'Courier New',monospace\">\n",
       "</pre>\n"
      ],
      "text/plain": [
       "\n"
      ]
     },
     "metadata": {},
     "output_type": "display_data"
    },
    {
     "data": {
      "text/html": [
       "<pre style=\"white-space:pre;overflow-x:auto;line-height:normal;font-family:Menlo,'DejaVu Sans Mono',consolas,'Courier New',monospace\">\n",
       "</pre>\n"
      ],
      "text/plain": [
       "\n"
      ]
     },
     "metadata": {},
     "output_type": "display_data"
    }
   ],
   "source": [
    "# -1.\n",
    "\n",
    "log_dir_base = '/Users/wenlixiao/Dropbox/School/Graduate/LeCAR/safe-learning-control/playground/offroad/data/dataset/' \n",
    "\n",
    "log_dir = os.path.join(log_dir_base, 'data-20240302-151638')\n",
    "with open(os.path.join(log_dir, 'header.json')) as f:\n",
    "    header_info = json.load(f)\n",
    "t_list, p_dict, yaw_dict, action_list, _ = load_state(log_dir, [50, 146], orientation_provider=\"ORIENTATION_PROVIDOER\")\n",
    "obs_clock_1 = p_dict['obs']\n",
    "\n",
    "\n",
    "log_dir = os.path.join(log_dir_base, 'data-20240302-151849')\n",
    "with open(os.path.join(log_dir, 'header.json')) as f:\n",
    "    header_info = json.load(f)\n",
    "t_list, p_dict, yaw_dict, action_list, _ = load_state(log_dir, [50, 201], orientation_provider=\"ORIENTATION_PROVIDOER\")\n",
    "obs_clock_75 = p_dict['obs']\n",
    "\n"
   ]
  },
  {
   "cell_type": "code",
   "execution_count": 16,
   "id": "25af0539-a7ab-4040-a441-0b57cef65fa7",
   "metadata": {},
   "outputs": [
    {
     "data": {
      "application/vnd.jupyter.widget-view+json": {
       "model_id": "4252bd62fcba422683c9bfde75c4c080",
       "version_major": 2,
       "version_minor": 0
      },
      "text/plain": [
       "interactive(children=(FloatSlider(value=0.0, description='offset_x', max=2.0, min=-2.0, step=0.01), FloatSlide…"
      ]
     },
     "metadata": {},
     "output_type": "display_data"
    },
    {
     "data": {
      "text/plain": [
       "<function __main__.plot(offset_x=0, offset_y=0)>"
      ]
     },
     "execution_count": 16,
     "metadata": {},
     "output_type": "execute_result"
    }
   ],
   "source": [
    "def plot(offset_x=0, offset_y=0):\n",
    "    # plt.plot(obs_clock_1[:, 0], obs_clock_1[:, 1], label='-1 yesterday')\n",
    "    # plt.plot(obs_clock_1_new[:, 0], obs_clock_1_new[:, 1], label='-1')\n",
    "    # plt.plot(obs_clock_75[:, 0] + offset_x, obs_clock_75[:, 1] + offset_y, label='-0.75')\n",
    "    # plt.plot(obs_clock_85[:, 0] + offset_x, obs_clock_85[:, 1] + offset_y, label='-0.85')\n",
    "    plt.scatter(obs_clock_1[:, 0], obs_clock_1[:, 1], label='-1', s=1)\n",
    "    # plt.plot(obs_clock_74[:, 0], obs_clock_74[:, 1], label='-0.74')\n",
    "    # plt.plot(obs_clock_07[:, 0], obs_clock_07[:, 1], label='-0.7')\n",
    "    # plt.plot(obs_clock_715[:, 0], obs_clock_715[:, 1], label='-0.715')\n",
    "    # plt.scatter(obs_clock_05[:, 0]+offset_x, obs_clock_05[:, 1]+offset_y, label='-0.5')\n",
    "    # plt.plot(obs_counter_clock_1[:, 0], obs_counter_clock_1[:, 1], label='+1 yesterday')\n",
    "    # plt.plot(obs_counter_clock_1_new[:, 0] + offset_x, obs_counter_clock_1_new[:, 1] + offset_y, label='+1 today')\n",
    "    # plt.scatter(obs_counter_clock_75[:, 0], obs_counter_clock_75[:, 1], label='+0.75')\n",
    "    # plt.scatter(obs_counter_clock_05[:, 0], obs_counter_clock_05[:, 1], label='+0.5')\n",
    "    # plt.scatter(obs_counter_clock_07[:, 0] + offset_x, obs_counter_clock_07[:, 1] + offset_y, label='+0.7')\n",
    "    # plt.plot(obs_counter_clock_06[:, 0] + offset_x, obs_counter_clock_06[:, 1] + offset_y, label='+0.6')\n",
    "    # plt.plot(obs_counter_clock_65[:, 0] + offset_x, obs_counter_clock_65[:, 1] + offset_y, label='+0.65')\n",
    "    # plt.plot(obs_counter_clock_625[:, 0] + offset_x, obs_counter_clock_625[:, 1] + offset_y, label='+0.625')\n",
    "    # plt.plot(obs_counter_clock_63[:, 0] + offset_x, obs_counter_clock_63[:, 1] + offset_y, label='+0.63')\n",
    "    plt.scatter(obs_clock_75[:, 0] + offset_x, obs_clock_75[:, 1] + offset_y, label='+1', s=1)\n",
    "    plt.axis('equal')\n",
    "    plt.xlim([-1, 3])\n",
    "    plt.ylim([-1, 4])\n",
    "    plt.xlabel(\"x (m)\")\n",
    "    plt.ylabel(\"y (m)\")\n",
    "    plt.legend()\n",
    "interact(\n",
    "    plot, \n",
    "    offset_x = (-2, 2, 0.01),\n",
    "    offset_y = (-2, 2, 0.01),\n",
    ")"
   ]
  },
  {
   "cell_type": "code",
   "execution_count": 5,
   "id": "db65dd83-89a5-4683-bf6a-2a3b1368ec65",
   "metadata": {},
   "outputs": [
    {
     "data": {
      "application/vnd.jupyter.widget-view+json": {
       "model_id": "3c3c96cf679d472aada2df7687b865ef",
       "version_major": 2,
       "version_minor": 0
      },
      "text/plain": [
       "Output()"
      ]
     },
     "metadata": {},
     "output_type": "display_data"
    },
    {
     "data": {
      "text/html": [
       "<pre style=\"white-space:pre;overflow-x:auto;line-height:normal;font-family:Menlo,'DejaVu Sans Mono',consolas,'Courier New',monospace\"></pre>\n"
      ],
      "text/plain": []
     },
     "metadata": {},
     "output_type": "display_data"
    },
    {
     "data": {
      "text/html": [
       "<pre style=\"white-space:pre;overflow-x:auto;line-height:normal;font-family:Menlo,'DejaVu Sans Mono',consolas,'Courier New',monospace\">\n",
       "</pre>\n"
      ],
      "text/plain": [
       "\n"
      ]
     },
     "metadata": {},
     "output_type": "display_data"
    },
    {
     "name": "stdout",
     "output_type": "stream",
     "text": [
      "\u001b[32m[INFO] In total 128 logs\u001b[0m\n"
     ]
    }
   ],
   "source": [
    "log_dir = '/Users/wenlixiao/Desktop/offroad/' + 'data/data-20240111-000920'\n",
    "with open(os.path.join(log_dir, 'header.json')) as f:\n",
    "    header_info = json.load(f)\n",
    "t_list, p_dict, yaw_dict, action_list = load_state(log_dir, [1, 129], orientation_provider=\"ORIENTATION_PROVIDOER\")\n",
    "obs_counter_clock_05 = p_dict['obs']"
   ]
  },
  {
   "cell_type": "code",
   "execution_count": 73,
   "id": "97731ac3-0ff0-4595-a57d-1b6461cd9888",
   "metadata": {},
   "outputs": [],
   "source": [
    "min_delta = -0.76\n",
    "max_delta = 0.69\n",
    "b = (min_delta + max_delta) / 2\n",
    "a = max_delta -b"
   ]
  },
  {
   "cell_type": "code",
   "execution_count": 74,
   "id": "3c1dd2e7-8c63-4c42-bf66-3dacc082b023",
   "metadata": {},
   "outputs": [
    {
     "data": {
      "text/plain": [
       "(0.725, -0.03500000000000003)"
      ]
     },
     "execution_count": 74,
     "metadata": {},
     "output_type": "execute_result"
    }
   ],
   "source": [
    "a, b"
   ]
  },
  {
   "cell_type": "code",
   "execution_count": null,
   "id": "7a7f57be-b72e-41a5-abeb-276a5c6df99d",
   "metadata": {},
   "outputs": [],
   "source": []
  }
 ],
 "metadata": {
  "kernelspec": {
   "display_name": "Python 3 (ipykernel)",
   "language": "python",
   "name": "python3"
  },
  "language_info": {
   "codemirror_mode": {
    "name": "ipython",
    "version": 3
   },
   "file_extension": ".py",
   "mimetype": "text/x-python",
   "name": "python",
   "nbconvert_exporter": "python",
   "pygments_lexer": "ipython3",
   "version": "3.8.18"
  }
 },
 "nbformat": 4,
 "nbformat_minor": 5
}
