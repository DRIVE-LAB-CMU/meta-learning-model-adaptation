{
 "cells": [
  {
   "cell_type": "markdown",
   "id": "c0beeafa-5e08-426f-9e20-50b86de7ba44",
   "metadata": {},
   "source": [
    "## DEBUG MPPI"
   ]
  },
  {
   "cell_type": "code",
   "execution_count": 3,
   "id": "02653e15-7fb7-4129-8b8e-fd0cfc83b9f1",
   "metadata": {},
   "outputs": [
    {
     "name": "stdout",
     "output_type": "stream",
     "text": [
      "The autoreload extension is already loaded. To reload it, use:\n",
      "  %reload_ext autoreload\n"
     ]
    }
   ],
   "source": [
    "import torch\n",
    "import matplotlib.pyplot as plt\n",
    "from car_dynamics.envs import make_env, KinematicBicycleModel, KinematicParams\n",
    "import numpy as np\n",
    "import os\n",
    "from offroad.utils import load_state\n",
    "import json\n",
    "import ipywidgets as widgets\n",
    "from ipywidgets import interact\n",
    "%matplotlib inline\n",
    "%load_ext autoreload\n",
    "%autoreload 2"
   ]
  },
  {
   "cell_type": "code",
   "execution_count": 12,
   "id": "50f44228-629c-4877-9d55-2a3366f4051f",
   "metadata": {},
   "outputs": [
    {
     "data": {
      "application/vnd.jupyter.widget-view+json": {
       "model_id": "7ae19bc2eb5944cd9e6a77981fff987c",
       "version_major": 2,
       "version_minor": 0
      },
      "text/plain": [
       "Output()"
      ]
     },
     "metadata": {},
     "output_type": "display_data"
    },
    {
     "data": {
      "text/html": [
       "<pre style=\"white-space:pre;overflow-x:auto;line-height:normal;font-family:Menlo,'DejaVu Sans Mono',consolas,'Courier New',monospace\"></pre>\n"
      ],
      "text/plain": []
     },
     "metadata": {},
     "output_type": "display_data"
    },
    {
     "data": {
      "text/html": [
       "<pre style=\"white-space:pre;overflow-x:auto;line-height:normal;font-family:Menlo,'DejaVu Sans Mono',consolas,'Courier New',monospace\">\n",
       "</pre>\n"
      ],
      "text/plain": [
       "\n"
      ]
     },
     "metadata": {},
     "output_type": "display_data"
    },
    {
     "name": "stdout",
     "output_type": "stream",
     "text": [
      "\u001b[32m[INFO] In total 58 logs\u001b[0m\n"
     ]
    }
   ],
   "source": [
    "log_dir = '/Users/wenlixiao/Desktop/offroad/' + 'data/data-20240112-202254'\n",
    "\n",
    "\n",
    "with open(os.path.join(log_dir, 'header.json')) as f:\n",
    "    header_info = json.load(f)\n",
    "t_list, p_dict, yaw_dict, action_list, controller_info = load_state(log_dir, [0, 58], orientation_provider=\"ORIENTATION_PROVIDOER\")\n",
    "obs_np = p_dict['obs']\n",
    "mppi_action = controller_info"
   ]
  },
  {
   "cell_type": "code",
   "execution_count": 13,
   "id": "84917735-aa47-41f3-aae3-b6390316face",
   "metadata": {},
   "outputs": [
    {
     "name": "stdout",
     "output_type": "stream",
     "text": [
      "DEVICE cpu\n"
     ]
    }
   ],
   "source": [
    "DEVICE = torch.device(\"cuda:0\" if torch.cuda.is_available() else \"cpu\")\n",
    "# DEVICE = torch.device(\"cpu\")\n",
    "MPPI_STEER_PROJ = .46\n",
    "MPPI_STEER_SHIFT = -.13\n",
    "MAX_VEL = 8.\n",
    "print(\"DEVICE\", DEVICE)\n",
    "model_params = KinematicParams(\n",
    "                    num_envs=1,\n",
    "                    last_diff_vel=torch.zeros([1, 1]).to(DEVICE),\n",
    "                    KP_VEL=7.,\n",
    "                    KD_VEL=.02,\n",
    "                    MAX_VEL=MAX_VEL,\n",
    "                    PROJ_STEER=MPPI_STEER_PROJ,\n",
    "                    SHIFT_STEER=MPPI_STEER_SHIFT,\n",
    ")   \n",
    "\n",
    "\n",
    "dynamics = KinematicBicycleModel(model_params, device=DEVICE)\n",
    "dynamics.reset()"
   ]
  },
  {
   "cell_type": "code",
   "execution_count": 14,
   "id": "7ab2c640-8f1a-4d10-be9e-a1d6e283252e",
   "metadata": {},
   "outputs": [
    {
     "ename": "SyntaxError",
     "evalue": "unexpected EOF while parsing (3453547888.py, line 3)",
     "output_type": "error",
     "traceback": [
      "\u001b[0;36m  Cell \u001b[0;32mIn[14], line 3\u001b[0;36m\u001b[0m\n\u001b[0;31m    next_obs = dynamics.single_step_numpy(obs,\u001b[0m\n\u001b[0m                                               ^\u001b[0m\n\u001b[0;31mSyntaxError\u001b[0m\u001b[0;31m:\u001b[0m unexpected EOF while parsing\n"
     ]
    }
   ],
   "source": [
    "\n",
    "\n",
    "N = 100\n",
    "obs = obs_np[N, :4]\n",
    "next_obs = dynamics.single_step_numpy(obs, "
   ]
  },
  {
   "cell_type": "code",
   "execution_count": null,
   "id": "7a2995a0-8d8f-43bf-95c6-2ac9748fb5b6",
   "metadata": {},
   "outputs": [],
   "source": []
  }
 ],
 "metadata": {
  "kernelspec": {
   "display_name": "Python 3 (ipykernel)",
   "language": "python",
   "name": "python3"
  },
  "language_info": {
   "codemirror_mode": {
    "name": "ipython",
    "version": 3
   },
   "file_extension": ".py",
   "mimetype": "text/x-python",
   "name": "python",
   "nbconvert_exporter": "python",
   "pygments_lexer": "ipython3",
   "version": "3.8.18"
  }
 },
 "nbformat": 4,
 "nbformat_minor": 5
}
