{
 "cells": [
  {
   "cell_type": "markdown",
   "id": "8918bb72-17eb-46a4-bd07-d58d6367b7f9",
   "metadata": {},
   "source": [
    "# Quantify kinematic bicycle model (in Vicon)"
   ]
  },
  {
   "cell_type": "markdown",
   "id": "d907f1e5-cf71-4175-a733-875b393a7b3c",
   "metadata": {},
   "source": [
    "## Fetch data"
   ]
  },
  {
   "cell_type": "code",
   "execution_count": 1,
   "id": "c946c05f-a9c8-4491-9dd7-9f750a4b7106",
   "metadata": {},
   "outputs": [],
   "source": [
    "import os\n",
    "import numpy as np\n",
    "import matplotlib.pyplot as plt\n",
    "import pandas as pd\n",
    "# import utm\n",
    "import scipy\n",
    "import scipy.interpolate\n",
    "import scipy.signal\n",
    "from scipy.spatial.transform import Rotation\n",
    "# from car_dynamics.envs.kinematic_bicycle_model import LF, LR\n",
    "from car_dynamics.analysis import pos2vel_savgol, calc_delta, interpolate, rotate_point, calc_delta_v\n",
    "from offroad.utils import load_state\n",
    "import ipywidgets as widgets\n",
    "from ipywidgets import interact\n",
    "from termcolor import colored\n",
    "%matplotlib inline\n",
    "%load_ext autoreload\n",
    "%autoreload 2\n",
    "\n",
    "LF = .16\n",
    "LR = .15"
   ]
  },
  {
   "cell_type": "code",
   "execution_count": 2,
   "id": "fb6a17b7-71fb-4d29-852c-3ea5d25f3c4e",
   "metadata": {},
   "outputs": [
    {
     "data": {
      "text/html": [
       "<pre style=\"white-space:pre;overflow-x:auto;line-height:normal;font-family:Menlo,'DejaVu Sans Mono',consolas,'Courier New',monospace\">\n",
       "</pre>\n"
      ],
      "text/plain": [
       "\n"
      ]
     },
     "metadata": {},
     "output_type": "display_data"
    }
   ],
   "source": [
    "log_dir = '/Users/wenlixiao/Dropbox/School/Graduate/LeCAR/safe-learning-control/playground/offroad/' + 'data/data-20240204-225343'\n",
    "t_list, p_dict, yaw_dict, action_list, _ = load_state(log_dir, [0, 243], orientation_provider=\"NONE\")\n",
    "obs_np = p_dict['obs']"
   ]
  },
  {
   "cell_type": "markdown",
   "id": "77650d49-324e-4187-a8fc-01af1eb27550",
   "metadata": {},
   "source": [
    "## Input To Target Error"
   ]
  },
  {
   "cell_type": "code",
   "execution_count": 3,
   "id": "646d0887-163b-4e3a-9cc2-07d50ea91505",
   "metadata": {},
   "outputs": [],
   "source": [
    "def plot_input_to_target_error(p_list, yaw_list, action_list, LF, LR, speed_max=8., delta_offset = -1.6, frequency=20, delta_proj=-1.32,st=0,ed=-1,delay=0):\n",
    "    '''Error between \n",
    "        - vel_real and vel_target\n",
    "        - steer_real and steer_target          \n",
    "    '''\n",
    "    fig, axs = plt.subplots(1,2,figsize=(15,5))\n",
    "    dt = 1./frequency\n",
    "    print(dt)\n",
    "    p_smooth, vel, vel_vec = pos2vel_savgol(p_list,window_length=5, delta=dt)\n",
    "    delta, beta = calc_delta_v(vel_vec, yaw_list, LF, LR)\n",
    "    # Project velocity\n",
    "    vel_real = vel[st:ed]\n",
    "    vel_tar = action_list[st:ed, 0]*speed_max\n",
    "    delayed_vel_tar = np.zeros_like(vel_tar)\n",
    "    delayed_vel_tar[delay:] = vel_tar[:len(vel_tar)-delay]\n",
    "\n",
    "    # Project Steering\n",
    "    delta_real = delta[st:ed]\n",
    "    delta_tar = action_list[st:ed, 1]*delta_proj + delta_offset\n",
    "    delta_tar = delta_tar[:-1]\n",
    "    delayed_delta_tar = np.zeros_like(delta_tar)\n",
    "    delayed_delta_tar[delay:] = delta_tar[:len(delta_tar)-delay]\n",
    "    axs[0].plot(vel_real,label='real')\n",
    "    axs[0].plot(delayed_vel_tar,label='target')\n",
    "    axs[0].set_xlabel(f\"frequency: {frequency}\")\n",
    "\n",
    "    axs[1].plot(delta_real,label='real')\n",
    "    axs[1].plot(delayed_delta_tar,label='target')\n",
    "    axs[0].set_title(\"velocity\")\n",
    "    axs[1].set_title(\"steering\")\n",
    "    axs[0].legend()\n",
    "    axs[1].legend()\n",
    "    plt.suptitle(\"Command (vel, steering) to real error (Vicon input) \" + log_dir)"
   ]
  },
  {
   "cell_type": "code",
   "execution_count": 4,
   "id": "3e1459b0-c48b-49c1-b38d-3f12279ed700",
   "metadata": {},
   "outputs": [
    {
     "data": {
      "application/vnd.jupyter.widget-view+json": {
       "model_id": "5508d0c21bd74b10836637caf0fd6051",
       "version_major": 2,
       "version_minor": 0
      },
      "text/plain": [
       "interactive(children=(IntSlider(value=100, description='st', max=1000), IntSlider(value=-60, description='ed',…"
      ]
     },
     "metadata": {},
     "output_type": "display_data"
    },
    {
     "data": {
      "text/plain": [
       "<function __main__.<lambda>(st=100, ed=-60, frequency=16.6, speed_max=5.2, delta_offset=-0.16, delta_proj=0.11, delay=4)>"
      ]
     },
     "execution_count": 4,
     "metadata": {},
     "output_type": "execute_result"
    }
   ],
   "source": [
    "f = lambda st=100,ed=-60, frequency=16.6, speed_max=5.2, delta_offset=-.16, delta_proj=.11, delay=4: plot_input_to_target_error(\n",
    "                                                obs_np[:,:2], obs_np[:,2], action_list, LF, LR, delta_proj=delta_proj,\n",
    "                                                speed_max=speed_max, delta_offset = delta_offset, frequency=frequency,\n",
    "                                                st=st,ed=ed,delay=delay)\n",
    "interact(f, frequency=(1, 100, 1),\n",
    "            speed_max=(4., 8., 0.1), \n",
    "            steer_max=(0.2, 0.8, 0.01),\n",
    "            delta_offset=(-4, 4, 0.01),\n",
    "             delta_proj=(-2., 2., 0.01),\n",
    "             st=(0,1000,1),\n",
    "             ed=(-1000,0,1),\n",
    "             delay=(0,10,1),\n",
    "        )"
   ]
  },
  {
   "cell_type": "markdown",
   "id": "837826c3-5dd5-429d-a45c-fc3546a216f0",
   "metadata": {},
   "source": [
    "## Open Loop Trajectory"
   ]
  },
  {
   "cell_type": "code",
   "execution_count": 102,
   "id": "f722da39-dfea-4101-be29-cef9060ae0b0",
   "metadata": {},
   "outputs": [],
   "source": [
    "def plot_open_loop_trajectory(p_list, yaw_list, action_list, LF, LR, speed_max=8., st=0, ed=-1,\n",
    "                               steer_max=.34,delta_offset = -1.6, frequency=22, delta_proj=-1.32, beta_offset=0.1, vel_type='target vel', \n",
    "                              steer_type='target steer', real_yaw=False,delay=0):\n",
    "    dt = 1./frequency\n",
    "\n",
    "    obs_vel_list = p_list[:, 3]\n",
    "    obs_vel_list[obs_vel_list < .0] = .0\n",
    "    p_list = p_list[:, :2]\n",
    "    p_smooth, vel, vel_vec = pos2vel_savgol(p_list,window_length=5, delta=dt)\n",
    "    # delta, beta = calc_delta(p_smooth, yaw_list, LF, LR)\n",
    "    delta, beta = calc_delta_v(vel_vec, yaw_list, LF, LR)\n",
    "   \n",
    "    vel_tar = action_list[:, 0]*speed_max\n",
    "    delayed_vel_tar = np.zeros_like(vel_tar)\n",
    "    delayed_vel_tar[delay:] = vel_tar[:len(vel_tar)-delay]\n",
    "\n",
    "    delta_tar = action_list[:, 1]*delta_proj + delta_offset\n",
    "    delta_tar = np.arctan2(np.sin(delta_tar), np.cos(delta_tar))\n",
    "    delayed_delta_tar = np.zeros_like(delta_tar)\n",
    "    delayed_delta_tar[delay:] = delta_tar[:len(delta_tar)-delay]\n",
    "    # plt.plot(obs_vel_list, label='obs')\n",
    "    # plt.plot(vel, label='calc')\n",
    "    # plt.legend()\n",
    "    if vel_type == 'target vel':\n",
    "        vel = delayed_vel_tar\n",
    "    elif vel_type =='obs vel':\n",
    "        vel = obs_vel_list\n",
    "\n",
    "    if steer_type != 'real steer':\n",
    "        delta = delayed_delta_tar\n",
    "        \n",
    "    x = p_list[st, 0]\n",
    "    y = p_list[st, 1]\n",
    "    x_list = [x]\n",
    "    y_list = [y]\n",
    "    psi = yaw_list[st]\n",
    "    delta_list = [delta[st]]\n",
    "    \n",
    "    # print(state[1:3]-state[0:2])\n",
    "    for i, (v_t, beta_t_ground, delta_t, yaw_t) in enumerate(zip(vel[st:ed], beta[st:ed], delta[st:ed], yaw_list[st:ed])):\n",
    "        if real_yaw:\n",
    "            beta_t = beta_t_ground\n",
    "        else:\n",
    "            beta_t = np.arctan2(np.tan(delta_t)*LR,(LF+LR))\n",
    "\n",
    "        # dt = t_list[i+1]-t_list[i]\n",
    "        dx = v_t * np.cos(yaw_t + beta_t) * dt\n",
    "        dy = v_t * np.sin(yaw_t + beta_t) * dt\n",
    "        \n",
    "        x += dx\n",
    "        y += dy\n",
    "        x_list.append(x)\n",
    "        y_list.append(y)\n",
    "        delta_list.append(delta_t)\n",
    "        \n",
    "    print(len(p_list[st:ed]))\n",
    "    # t = t_20hz[:-1]\n",
    "    plt.scatter(x_list,y_list, c='green',s=2,marker='o', label='predict')\n",
    "    # plt.xlim([-60,0])\n",
    "    plt.scatter(p_smooth[st:ed,0],p_smooth[st:ed,1], c='red', alpha=0.5, s=2, label='ground truth')\n",
    "    plt.xlabel('x')\n",
    "    plt.ylabel('y')\n",
    "    plt.title(\"Open Loop Trajectory (Vicon input)\\n\"+log_dir+\"\\n\"+f\"{vel_type}\\n\"+f\"{steer_type}\")\n",
    "    plt.axis('equal')\n",
    "    plt.legend()"
   ]
  },
  {
   "cell_type": "code",
   "execution_count": 105,
   "id": "3fea7a69-c883-444a-a76e-c280aa7f1de7",
   "metadata": {},
   "outputs": [
    {
     "data": {
      "application/vnd.jupyter.widget-view+json": {
       "model_id": "f4e77264a68147a88d03b062fa20a523",
       "version_major": 2,
       "version_minor": 0
      },
      "text/plain": [
       "interactive(children=(Dropdown(description='steer_type', options=('real steer', 'target steer'), value='real s…"
      ]
     },
     "metadata": {},
     "output_type": "display_data"
    },
    {
     "data": {
      "text/plain": [
       "<function __main__.<lambda>(steer_type='real steer', vel_type='real vel', real_yaw=False, st=0, ed=-106, frequency=16.6, speed_max=5.7, delta_offset=-0.11, beta_offset=0.0, delta_proj=0.33, delay=4)>"
      ]
     },
     "execution_count": 105,
     "metadata": {},
     "output_type": "execute_result"
    }
   ],
   "source": [
    "f = lambda steer_type='real steer', vel_type='real vel', real_yaw=False, st=0, ed=-106, frequency=16.6, speed_max=5.7, \\\n",
    "            delta_offset=-0.11, beta_offset=0.0, delta_proj=0.33,delay=4: plot_open_loop_trajectory(obs_np[:,:4], obs_np[:,2], action_list, LF, LR, delta_proj=delta_proj,\n",
    "                                                speed_max=speed_max, delta_offset = delta_offset, frequency=frequency,\n",
    "                                                steer_type=steer_type, vel_type=vel_type, real_yaw=real_yaw, st=st,ed=ed,beta_offset=beta_offset,delay=delay)\n",
    "\n",
    "interact(f, \n",
    "                     real_yaw=[True,False],\n",
    "                     vel_type=['real vel',  'target vel', 'obs vel'],\n",
    "                    steer_type = ['real steer', 'target steer'],\n",
    "                     frequency=(1, 100, .1),\n",
    "                    speed_max=(4., 8., 0.1), \n",
    "                    steer_max=(0.2, 0.8, 0.01),\n",
    "                    delta_offset=(-np.pi, np.pi, 0.01),\n",
    "                     delta_proj=(-2., 2, 0.01),\n",
    "                    st=(0, 2000, 1),\n",
    "                     ed=(-1000, -1, 1),\n",
    "                     beta_offset = (-np.pi,np.pi,0.01),\n",
    "                     delay=(0,10,1),\n",
    "        )"
   ]
  },
  {
   "cell_type": "markdown",
   "id": "d56670cb-1819-4faf-9b75-f469c40ad099",
   "metadata": {},
   "source": [
    "## Compare Smoothed Vel, Observed Vel, and Deducted Vel"
   ]
  },
  {
   "cell_type": "code",
   "execution_count": 94,
   "id": "c1538e7e-ea78-4c57-8b9a-33c4f82b0e69",
   "metadata": {},
   "outputs": [],
   "source": [
    "def plot_open_loop_trajectory(p_list, yaw_list, LF, LR, st=0, ed=200, frequency=16.6,):\n",
    "    dt = 1./frequency\n",
    "\n",
    "    obs_vel_list = p_list[:, 3]\n",
    "    obs_vel_list[obs_vel_list < .0] = .0\n",
    "    p_list = p_list[:, :2]\n",
    "    p_smooth, vel, vel_vec = pos2vel_savgol(p_list,window_length=5, delta=dt)\n",
    "    vel_calc = np.linalg.norm(p_list[1:,:2] - p_list[:-1,:2], axis=-1) /dt\n",
    "    # delta, beta = calc_delta_v(vel_vec, yaw_list, LF, LR)\n",
    "   \n",
    "    plt.plot(obs_vel_list[st:ed], label='obs vel')\n",
    "    plt.plot(vel[st:ed], label='smoothed vel')\n",
    "    # plt.plot(vel_calc[st-1:ed-1], label='deducted vel')\n",
    "    # print(vel_calc)\n",
    "    plt.legend()"
   ]
  },
  {
   "cell_type": "code",
   "execution_count": 97,
   "id": "0c89ab63-f133-4b49-b9f2-f71f74c8b764",
   "metadata": {},
   "outputs": [
    {
     "data": {
      "application/vnd.jupyter.widget-view+json": {
       "model_id": "563acf2ddba440489baf7f2370179ce9",
       "version_major": 2,
       "version_minor": 0
      },
      "text/plain": [
       "interactive(children=(IntSlider(value=1, description='st', max=210), IntSlider(value=100, description='ed', ma…"
      ]
     },
     "metadata": {},
     "output_type": "display_data"
    },
    {
     "data": {
      "text/plain": [
       "<function __main__.<lambda>(st=1, ed=100, frequency=16.6)>"
      ]
     },
     "execution_count": 97,
     "metadata": {},
     "output_type": "execute_result"
    }
   ],
   "source": [
    "f = lambda st=1, ed=100, frequency=16.6: plot_open_loop_trajectory(obs_np[:,:4], obs_np[:,2], LF, LR, st=st,ed=ed,frequency=frequency,)\n",
    "\n",
    "interact(f, \n",
    "         st=(0,len(obs_np),1),\n",
    "        ed=(0,len(obs_np),1),\n",
    "         frequency=(1, 20, .1),\n",
    ")"
   ]
  },
  {
   "cell_type": "code",
   "execution_count": 64,
   "id": "b5657cf3-3b18-4979-ad16-5672a73e6967",
   "metadata": {},
   "outputs": [
    {
     "data": {
      "text/plain": [
       "(210, 7)"
      ]
     },
     "execution_count": 64,
     "metadata": {},
     "output_type": "execute_result"
    }
   ],
   "source": [
    "obs_np.shape"
   ]
  },
  {
   "cell_type": "code",
   "execution_count": null,
   "id": "784474b4-eb16-4d3b-baae-1d997d67cf9f",
   "metadata": {},
   "outputs": [],
   "source": []
  }
 ],
 "metadata": {
  "kernelspec": {
   "display_name": "Python 3 (ipykernel)",
   "language": "python",
   "name": "python3"
  },
  "language_info": {
   "codemirror_mode": {
    "name": "ipython",
    "version": 3
   },
   "file_extension": ".py",
   "mimetype": "text/x-python",
   "name": "python",
   "nbconvert_exporter": "python",
   "pygments_lexer": "ipython3",
   "version": "3.8.0"
  }
 },
 "nbformat": 4,
 "nbformat_minor": 5
}
