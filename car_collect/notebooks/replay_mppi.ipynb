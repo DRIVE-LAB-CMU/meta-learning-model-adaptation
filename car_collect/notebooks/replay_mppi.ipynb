{
 "cells": [
  {
   "cell_type": "code",
   "execution_count": 26,
   "metadata": {},
   "outputs": [
    {
     "name": "stdout",
     "output_type": "stream",
     "text": [
      "The autoreload extension is already loaded. To reload it, use:\n",
      "  %reload_ext autoreload\n"
     ]
    }
   ],
   "source": [
    "import matplotlib.pyplot as plt\n",
    "import numpy as np\n",
    "import os\n",
    "import torch\n",
    "from offroad.utils import load_state\n",
    "import json\n",
    "import ipywidgets as widgets\n",
    "from ipywidgets import interact\n",
    "from car_dynamics.models_torch import MLP\n",
    "from car_dynamics.envs import make_env, KinematicBicycleModel, KinematicParams, DynamicBicycleModel, DynamicParams\n",
    "from car_dynamics.controllers_torch import MPPIController, rollout_fn_select, reward_track_fn\n",
    "import matplotlib.colors as colors\n",
    "from car_dynamics.models_torch import MLP, parse_data_end2end_norm \n",
    "\n",
    "%matplotlib inline\n",
    "%load_ext autoreload\n",
    "%autoreload 2\n",
    "\n",
    "PROJ_DIR = '/Users/wenlixiao/Dropbox/School/Graduate/LeCAR/safe-learning-control/playground/offroad/'\n",
    "SPEED = 1.0\n",
    "LF = .16\n",
    "LR = .15\n",
    "L = LF+LR\n",
    "N_ROLLOUTS = 10000\n",
    "H = 4\n",
    "DT = 0.05\n",
    "SIGMA = 1.0\n",
    "\n",
    "DEVICE = torch.device(\"cuda:0\" if torch.cuda.is_available() else \"cpu\")"
   ]
  },
  {
   "cell_type": "code",
   "execution_count": 28,
   "metadata": {},
   "outputs": [
    {
     "data": {
      "text/html": [
       "<pre style=\"white-space:pre;overflow-x:auto;line-height:normal;font-family:Menlo,'DejaVu Sans Mono',consolas,'Courier New',monospace\">\n",
       "</pre>\n"
      ],
      "text/plain": [
       "\n"
      ]
     },
     "metadata": {},
     "output_type": "display_data"
    }
   ],
   "source": [
    "# log_dir = os.path.join(PROJ_DIR, 'data', 'data-20240131-195144') # drag\n",
    "log_dir = os.path.join(PROJ_DIR, 'data', 'data-20240229-114933') # counter \n",
    "# log_dir = os.path.join(PROJ_DIR, 'data', 'data-20240205-000620') # circle\n",
    "# log_dir = os.path.join(PROJ_DIR, 'data', 'sim-data-20240131-134617')\n",
    "with open(os.path.join(log_dir, 'header.json')) as f:\n",
    "    header_info = json.load(f)\n",
    "# t_list, p_dict, yaw_dict, action_list, controller_info = load_state(log_dir, [0, 144], orientation_provider=\"ORIENTATION_PROVIDOER\")\n",
    "t_list, p_dict, yaw_dict, action_list, controller_info = load_state(log_dir, [10, 81], orientation_provider=\"ORIENTATION_PROVIDOER\")\n",
    "# t_list, p_dict, yaw_dict, action_list, controller_info = load_state(log_dir, [0, 303], orientation_provider=\"ORIENTATION_PROVIDOER\")\n",
    "# t_list, p_dict, yaw_dict, action_list, controller_info = load_state(log_dir, [0, 1], orientation_provider=\"ORIENTATION_PROVIDOER\")\n",
    "obs_np = p_dict['obs']\n",
    "obs_np_1 = obs_np + .0\n",
    "targets = controller_info['targets']\n",
    "# targets = np.array([target[0] for target in controller_info['targets']])\n",
    "is_recover = controller_info['is_recover']"
   ]
  },
  {
   "cell_type": "markdown",
   "metadata": {},
   "source": [
    "## Dynamic Bicycle Model"
   ]
  },
  {
   "cell_type": "code",
   "execution_count": 17,
   "metadata": {},
   "outputs": [
    {
     "data": {
      "application/vnd.jupyter.widget-view+json": {
       "model_id": "a2bea90aab9847098977ad42ec16c0ca",
       "version_major": 2,
       "version_minor": 0
      },
      "text/plain": [
       "interactive(children=(IntSlider(value=570, description='N', max=3030), Output()), _dom_classes=('widget-intera…"
      ]
     },
     "metadata": {},
     "output_type": "display_data"
    },
    {
     "data": {
      "text/plain": [
       "<function __main__.plot(N=570)>"
      ]
     },
     "execution_count": 17,
     "metadata": {},
     "output_type": "execute_result"
    }
   ],
   "source": [
    "model_params = DynamicParams(\n",
    "                    num_envs=N_ROLLOUTS,\n",
    "                    DT=DT,\n",
    ")   \n",
    "\n",
    "\n",
    "dynamics = DynamicBicycleModel(model_params, device=DEVICE)\n",
    "rollout_fn = rollout_fn_select('dbm', dynamics, DT, L, LR)\n",
    "dynamics.reset()\n",
    "\n",
    "def rollout_start_kbm():\n",
    "    dynamics.reset()\n",
    "\n",
    "sigmas = torch.tensor([SIGMA] * 2)\n",
    "a_cov_per_step = torch.diag(sigmas**2)\n",
    "a_cov_init = a_cov_per_step.unsqueeze(0).repeat(H, 1, 1)\n",
    "# a_cov_prev =  torch.full((H, 2, 2), 3.0**2) * torch.eye(2).unsqueeze(0).repeat(H, 1, 1)\n",
    "\n",
    "# import pdb; pdb.set_trace()\n",
    "\n",
    "mppi = MPPIController(\n",
    "    gamma_mean=1.0,\n",
    "    gamma_sigma=0.0,\n",
    "    discount=1.0,\n",
    "    sample_sigma = 0.5,\n",
    "    lam = 0.01,\n",
    "    a_mean=torch.zeros(H, 2, device=DEVICE),\n",
    "    a_cov = a_cov_init.to(DEVICE),\n",
    "    n_rollouts=N_ROLLOUTS,\n",
    "    H=H,\n",
    "    device=DEVICE,\n",
    "    rollout_fn=rollout_fn,\n",
    "    a_min = [-1., -1],\n",
    "    a_max = [1., 1.],\n",
    "    a_mag = [.25, 1.],\n",
    "    a_shift= [0.25, 0.],\n",
    "    delay=0,\n",
    "    len_history=3,\n",
    "    rollout_start_fn=rollout_start_kbm,\n",
    "    debug=False,\n",
    "    fix_history=False\n",
    ")\n",
    "\n",
    "def plot(N=570):\n",
    "    target_N = np.array(targets[N])\n",
    "    for i in range(N):\n",
    "        mppi.feed_hist(obs_np[i, :4], torch.tensor(action_list[i, :2], device=DEVICE))\n",
    "\n",
    "    target_pos_tensor = torch.Tensor(targets[N]).to(DEVICE).squeeze(dim=-1)\n",
    "    action, mppi_info = mppi(obs_tensor[N, :4], reward_track_fn(target_pos_tensor, SPEED), vis_all_traj=True, vis_optim_traj=True)\n",
    "    all_traj = mppi_info['all_trajectory']\n",
    "    optim_traj = mppi_info['trajectory']\n",
    "    # plt.plot(obs_np[max(0,N-20):, 0], obs_np[max(0,N-20):, 1], alpha=0.5)\n",
    "    fig, axs = plt.subplots(1, 2, figsize=(10, 5))\n",
    "    axs[0].plot(obs_np[:, 0], obs_np[:, 1], alpha=0.5)\n",
    "    for i in range(H+1):\n",
    "        axs[0].scatter(all_traj[i][:, 0], all_traj[i][:, 1], s=1, alpha=0.2)\n",
    "    axs[0].plot(optim_traj[:, 0], optim_traj[:, 1], 'cyan', marker='o')\n",
    "    for i in range(H+1):\n",
    "        axs[1].scatter(all_traj[i][:, 0], all_traj[i][:, 1], s=1, alpha=0.2,)\n",
    "    axs[1].plot(target_N[:, 0], target_N[:, 1], 'pink', marker='^', label='reference')\n",
    "    axs[1].plot(optim_traj[:, 0], optim_traj[:, 1], 'cyan', marker='o', label='optim traj')\n",
    "    axs[1].plot(obs_np[N:N+H, 0], obs_np[N:N+H, 1], alpha=1, marker='x', color='black', label='real traj')\n",
    "    axs[1].set_aspect('equal')\n",
    "    axs[0].set_aspect('equal')\n",
    "    axs[1].legend()\n",
    "    \n",
    "    plt.suptitle(\"mppi-KBM\")\n",
    "interact(\n",
    "    plot,\n",
    "    N=(0, len(obs_np))\n",
    ")\n"
   ]
  },
  {
   "cell_type": "code",
   "execution_count": 18,
   "metadata": {},
   "outputs": [
    {
     "ename": "KeyError",
     "evalue": "'state_dict'",
     "output_type": "error",
     "traceback": [
      "\u001b[0;31m---------------------------------------------------------------------------\u001b[0m",
      "\u001b[0;31mKeyError\u001b[0m                                  Traceback (most recent call last)",
      "Cell \u001b[0;32mIn[18], line 4\u001b[0m\n\u001b[1;32m      2\u001b[0m model_dir \u001b[38;5;241m=\u001b[39m os\u001b[38;5;241m.\u001b[39mpath\u001b[38;5;241m.\u001b[39mjoin(PROJ_DIR, \u001b[38;5;124m'\u001b[39m\u001b[38;5;124mtmp\u001b[39m\u001b[38;5;124m'\u001b[39m, \u001b[38;5;124m'\u001b[39m\u001b[38;5;124m20240131-155022\u001b[39m\u001b[38;5;124m'\u001b[39m, \u001b[38;5;124m'\u001b[39m\u001b[38;5;124mmodel.pt\u001b[39m\u001b[38;5;124m'\u001b[39m)\n\u001b[1;32m      3\u001b[0m dynamics_nn \u001b[38;5;241m=\u001b[39m MLP(input_size\u001b[38;5;241m=\u001b[39m\u001b[38;5;241m7\u001b[39m\u001b[38;5;241m*\u001b[39mlen_history, hidden_size\u001b[38;5;241m=\u001b[39m\u001b[38;5;241m32\u001b[39m, output_size\u001b[38;5;241m=\u001b[39m\u001b[38;5;241m5\u001b[39m)\n\u001b[0;32m----> 4\u001b[0m \u001b[43mdynamics_nn\u001b[49m\u001b[38;5;241;43m.\u001b[39;49m\u001b[43mload\u001b[49m\u001b[43m(\u001b[49m\u001b[43mmodel_dir\u001b[49m\u001b[43m)\u001b[49m\n\u001b[1;32m      5\u001b[0m dynamics_nn\u001b[38;5;241m.\u001b[39mto(DEVICE)\n\u001b[1;32m      6\u001b[0m rollout_fn \u001b[38;5;241m=\u001b[39m rollout_fn_select(\u001b[38;5;124m'\u001b[39m\u001b[38;5;124mnn-end2end\u001b[39m\u001b[38;5;124m'\u001b[39m, dynamics_nn, DT, L, LR)\n",
      "File \u001b[0;32m~/Dropbox/School/Graduate/LeCAR/safe-learning-control/playground/car_dynamics/car_dynamics/models_torch/model.py:33\u001b[0m, in \u001b[0;36mModel.load\u001b[0;34m(self, path, map_location)\u001b[0m\n\u001b[1;32m     30\u001b[0m combined_dict \u001b[38;5;241m=\u001b[39m torch\u001b[38;5;241m.\u001b[39mload(path, map_location\u001b[38;5;241m=\u001b[39mmap_location)\n\u001b[1;32m     32\u001b[0m \u001b[38;5;66;03m# Set the model state dict\u001b[39;00m\n\u001b[0;32m---> 33\u001b[0m \u001b[38;5;28mself\u001b[39m\u001b[38;5;241m.\u001b[39mload_state_dict(\u001b[43mcombined_dict\u001b[49m\u001b[43m[\u001b[49m\u001b[38;5;124;43m'\u001b[39;49m\u001b[38;5;124;43mstate_dict\u001b[39;49m\u001b[38;5;124;43m'\u001b[39;49m\u001b[43m]\u001b[49m)\n\u001b[1;32m     35\u001b[0m \u001b[38;5;66;03m# Update the model's spec dictionary\u001b[39;00m\n\u001b[1;32m     36\u001b[0m \u001b[38;5;28mself\u001b[39m\u001b[38;5;241m.\u001b[39mspec \u001b[38;5;241m=\u001b[39m combined_dict[\u001b[38;5;124m'\u001b[39m\u001b[38;5;124mspec\u001b[39m\u001b[38;5;124m'\u001b[39m]\n",
      "\u001b[0;31mKeyError\u001b[0m: 'state_dict'"
     ]
    }
   ],
   "source": [
    "len_history = 8\n",
    "model_dir = os.path.join(PROJ_DIR, 'tmp', '20240131-155022', 'model.pt')\n",
    "dynamics_nn = MLP(input_size=7*len_history, hidden_size=32, output_size=5)\n",
    "dynamics_nn.load(model_dir)\n",
    "dynamics_nn.to(DEVICE)\n",
    "rollout_fn = rollout_fn_select('nn-end2end', dynamics_nn, DT, L, LR)\n",
    "\n",
    "def rollout_start_nn():\n",
    "    ...\n",
    "\n",
    "sigmas = torch.tensor([SIGMA] * 2)\n",
    "a_cov_per_step = torch.diag(sigmas**2)\n",
    "a_cov_init = a_cov_per_step.unsqueeze(0).repeat(H, 1, 1)\n",
    "# a_cov_prev =  torch.full((H, 2, 2), 3.0**2) * torch.eye(2).unsqueeze(0).repeat(H, 1, 1)\n",
    "\n",
    "# import pdb; pdb.set_trace()\n",
    "\n",
    "mppi = MPPIController(\n",
    "    gamma_mean=1.0,\n",
    "    gamma_sigma=0.0,\n",
    "    discount=1.0,\n",
    "    sample_sigma = 0.5,\n",
    "    lam = 0.01,\n",
    "    a_mean=torch.zeros(H, 2, device=DEVICE),\n",
    "    a_cov = a_cov_init.to(DEVICE),\n",
    "    n_rollouts=N_ROLLOUTS,\n",
    "    H=H,\n",
    "    device=DEVICE,\n",
    "    rollout_fn=rollout_fn,\n",
    "    a_min = [-1., -1],\n",
    "    a_max = [1., 1.],\n",
    "    a_mag = [.05, 1.],\n",
    "    a_shift= [0.15, 0.],\n",
    "    delay=0,\n",
    "    len_history=len_history,\n",
    "    rollout_start_fn=rollout_start_nn,\n",
    ")\n",
    "\n",
    "def plot(N=300):\n",
    "    target_N = np.array(targets[N])\n",
    "    for i in range(N):\n",
    "        mppi.feed_hist(obs_np[i, :4], torch.tensor(action_list[i, :2], device=DEVICE))\n",
    "\n",
    "    target_pos_tensor = torch.Tensor(targets[N]).to(DEVICE).squeeze(dim=-1)\n",
    "    action, mppi_info = mppi(obs_np[N, :4], reward_track_fn(target_pos_tensor, SPEED), vis_all_traj=True, vis_optim_traj=True, use_nn=True)\n",
    "    all_traj = mppi_info['all_trajectory']\n",
    "    optim_traj = mppi_info['trajectory']\n",
    "    all_actions = mppi_info['action_candidate']\n",
    "    # plt.plot(obs_np[max(0,N-20):, 0], obs_np[max(0,N-20):, 1], alpha=0.5)\n",
    "    fig, axs = plt.subplots(1, 3, figsize=(15, 5))\n",
    "    axs[0].plot(obs_np[:, 0], obs_np[:, 1], alpha=0.5)\n",
    "    for i in range(H+1):\n",
    "        axs[0].scatter(all_traj[i][:, 0], all_traj[i][:, 1], s=1, alpha=0.2)\n",
    "    axs[0].plot(optim_traj[:, 0], optim_traj[:, 1], 'cyan', marker='o', )\n",
    "    axs[0].set_aspect('equal')\n",
    "    \n",
    "    for i in range(H+1):\n",
    "        axs[1].scatter(all_traj[i][:, 0], all_traj[i][:, 1], s=1, alpha=0.2,)\n",
    "    axs[1].plot(target_N[:, 0], target_N[:, 1], 'pink', marker='^', label='reference')\n",
    "    axs[1].plot(optim_traj[:, 0], optim_traj[:, 1], 'cyan', marker='o', label='optim traj')\n",
    "    axs[1].plot(obs_np[N:N+H, 0], obs_np[N:N+H, 1], alpha=1, marker='x', color='black', label='real traj')\n",
    "    axs[1].set_aspect('equal')\n",
    "    h = axs[2].hist2d(all_actions[:, 0,0], all_actions[:, 0, 1],norm=colors.LogNorm(), bins=50)\n",
    "    fig.colorbar(h[3], ax=axs[2])\n",
    "    plt.suptitle(\"mppi-NN (Real)\")\n",
    "    plt.tight_layout()\n",
    "interact(\n",
    "    plot,\n",
    "    N=(555, 580, 1)\n",
    ")\n"
   ]
  },
  {
   "cell_type": "code",
   "execution_count": 115,
   "metadata": {},
   "outputs": [
    {
     "ename": "TypeError",
     "evalue": "__init__() missing 2 required positional arguments: 'debug' and 'fix_history'",
     "output_type": "error",
     "traceback": [
      "\u001b[0;31m---------------------------------------------------------------------------\u001b[0m",
      "\u001b[0;31mTypeError\u001b[0m                                 Traceback (most recent call last)",
      "Cell \u001b[0;32mIn[115], line 18\u001b[0m\n\u001b[1;32m     13\u001b[0m a_cov_init \u001b[38;5;241m=\u001b[39m a_cov_per_step\u001b[38;5;241m.\u001b[39munsqueeze(\u001b[38;5;241m0\u001b[39m)\u001b[38;5;241m.\u001b[39mrepeat(H, \u001b[38;5;241m1\u001b[39m, \u001b[38;5;241m1\u001b[39m)\n\u001b[1;32m     14\u001b[0m \u001b[38;5;66;03m# a_cov_prev =  torch.full((H, 2, 2), 3.0**2) * torch.eye(2).unsqueeze(0).repeat(H, 1, 1)\u001b[39;00m\n\u001b[1;32m     15\u001b[0m \n\u001b[1;32m     16\u001b[0m \u001b[38;5;66;03m# import pdb; pdb.set_trace()\u001b[39;00m\n\u001b[0;32m---> 18\u001b[0m mppi \u001b[38;5;241m=\u001b[39m \u001b[43mMPPIController\u001b[49m\u001b[43m(\u001b[49m\n\u001b[1;32m     19\u001b[0m \u001b[43m    \u001b[49m\u001b[43mgamma_mean\u001b[49m\u001b[38;5;241;43m=\u001b[39;49m\u001b[38;5;241;43m1.0\u001b[39;49m\u001b[43m,\u001b[49m\n\u001b[1;32m     20\u001b[0m \u001b[43m    \u001b[49m\u001b[43mgamma_sigma\u001b[49m\u001b[38;5;241;43m=\u001b[39;49m\u001b[38;5;241;43m0.0\u001b[39;49m\u001b[43m,\u001b[49m\n\u001b[1;32m     21\u001b[0m \u001b[43m    \u001b[49m\u001b[43mdiscount\u001b[49m\u001b[38;5;241;43m=\u001b[39;49m\u001b[38;5;241;43m1.0\u001b[39;49m\u001b[43m,\u001b[49m\n\u001b[1;32m     22\u001b[0m \u001b[43m    \u001b[49m\u001b[43msample_sigma\u001b[49m\u001b[43m \u001b[49m\u001b[38;5;241;43m=\u001b[39;49m\u001b[43m \u001b[49m\u001b[38;5;241;43m0.5\u001b[39;49m\u001b[43m,\u001b[49m\n\u001b[1;32m     23\u001b[0m \u001b[43m    \u001b[49m\u001b[43mlam\u001b[49m\u001b[43m \u001b[49m\u001b[38;5;241;43m=\u001b[39;49m\u001b[43m \u001b[49m\u001b[38;5;241;43m0.01\u001b[39;49m\u001b[43m,\u001b[49m\n\u001b[1;32m     24\u001b[0m \u001b[43m    \u001b[49m\u001b[43ma_mean\u001b[49m\u001b[38;5;241;43m=\u001b[39;49m\u001b[43mtorch\u001b[49m\u001b[38;5;241;43m.\u001b[39;49m\u001b[43mzeros\u001b[49m\u001b[43m(\u001b[49m\u001b[43mH\u001b[49m\u001b[43m,\u001b[49m\u001b[43m \u001b[49m\u001b[38;5;241;43m2\u001b[39;49m\u001b[43m,\u001b[49m\u001b[43m \u001b[49m\u001b[43mdevice\u001b[49m\u001b[38;5;241;43m=\u001b[39;49m\u001b[43mDEVICE\u001b[49m\u001b[43m)\u001b[49m\u001b[43m,\u001b[49m\n\u001b[1;32m     25\u001b[0m \u001b[43m    \u001b[49m\u001b[43ma_cov\u001b[49m\u001b[43m \u001b[49m\u001b[38;5;241;43m=\u001b[39;49m\u001b[43m \u001b[49m\u001b[43ma_cov_init\u001b[49m\u001b[38;5;241;43m.\u001b[39;49m\u001b[43mto\u001b[49m\u001b[43m(\u001b[49m\u001b[43mDEVICE\u001b[49m\u001b[43m)\u001b[49m\u001b[43m,\u001b[49m\n\u001b[1;32m     26\u001b[0m \u001b[43m    \u001b[49m\u001b[43mn_rollouts\u001b[49m\u001b[38;5;241;43m=\u001b[39;49m\u001b[43mN_ROLLOUTS\u001b[49m\u001b[43m,\u001b[49m\n\u001b[1;32m     27\u001b[0m \u001b[43m    \u001b[49m\u001b[43mH\u001b[49m\u001b[38;5;241;43m=\u001b[39;49m\u001b[43mH\u001b[49m\u001b[43m,\u001b[49m\n\u001b[1;32m     28\u001b[0m \u001b[43m    \u001b[49m\u001b[43mdevice\u001b[49m\u001b[38;5;241;43m=\u001b[39;49m\u001b[43mDEVICE\u001b[49m\u001b[43m,\u001b[49m\n\u001b[1;32m     29\u001b[0m \u001b[43m    \u001b[49m\u001b[43mrollout_fn\u001b[49m\u001b[38;5;241;43m=\u001b[39;49m\u001b[43mrollout_fn\u001b[49m\u001b[43m,\u001b[49m\n\u001b[1;32m     30\u001b[0m \u001b[43m    \u001b[49m\u001b[43ma_min\u001b[49m\u001b[43m \u001b[49m\u001b[38;5;241;43m=\u001b[39;49m\u001b[43m \u001b[49m\u001b[43m[\u001b[49m\u001b[38;5;241;43m-\u001b[39;49m\u001b[38;5;241;43m1.\u001b[39;49m\u001b[43m,\u001b[49m\u001b[43m \u001b[49m\u001b[38;5;241;43m-\u001b[39;49m\u001b[38;5;241;43m1\u001b[39;49m\u001b[43m]\u001b[49m\u001b[43m,\u001b[49m\n\u001b[1;32m     31\u001b[0m \u001b[43m    \u001b[49m\u001b[43ma_max\u001b[49m\u001b[43m \u001b[49m\u001b[38;5;241;43m=\u001b[39;49m\u001b[43m \u001b[49m\u001b[43m[\u001b[49m\u001b[38;5;241;43m1.\u001b[39;49m\u001b[43m,\u001b[49m\u001b[43m \u001b[49m\u001b[38;5;241;43m1.\u001b[39;49m\u001b[43m]\u001b[49m\u001b[43m,\u001b[49m\n\u001b[1;32m     32\u001b[0m \u001b[43m    \u001b[49m\u001b[43ma_mag\u001b[49m\u001b[43m \u001b[49m\u001b[38;5;241;43m=\u001b[39;49m\u001b[43m \u001b[49m\u001b[43m[\u001b[49m\u001b[38;5;241;43m.25\u001b[39;49m\u001b[43m,\u001b[49m\u001b[43m \u001b[49m\u001b[38;5;241;43m1.\u001b[39;49m\u001b[43m]\u001b[49m\u001b[43m,\u001b[49m\n\u001b[1;32m     33\u001b[0m \u001b[43m    \u001b[49m\u001b[43ma_shift\u001b[49m\u001b[38;5;241;43m=\u001b[39;49m\u001b[43m \u001b[49m\u001b[43m[\u001b[49m\u001b[38;5;241;43m0.25\u001b[39;49m\u001b[43m,\u001b[49m\u001b[43m \u001b[49m\u001b[38;5;241;43m0.\u001b[39;49m\u001b[43m]\u001b[49m\u001b[43m,\u001b[49m\n\u001b[1;32m     34\u001b[0m \u001b[43m    \u001b[49m\u001b[43mdelay\u001b[49m\u001b[38;5;241;43m=\u001b[39;49m\u001b[38;5;241;43m0\u001b[39;49m\u001b[43m,\u001b[49m\n\u001b[1;32m     35\u001b[0m \u001b[43m    \u001b[49m\u001b[43mlen_history\u001b[49m\u001b[38;5;241;43m=\u001b[39;49m\u001b[43mlen_history\u001b[49m\u001b[43m,\u001b[49m\n\u001b[1;32m     36\u001b[0m \u001b[43m    \u001b[49m\u001b[43mrollout_start_fn\u001b[49m\u001b[38;5;241;43m=\u001b[39;49m\u001b[43mrollout_start_nn\u001b[49m\u001b[43m,\u001b[49m\n\u001b[1;32m     37\u001b[0m \u001b[43m)\u001b[49m\n\u001b[1;32m     39\u001b[0m \u001b[38;5;28;01mdef\u001b[39;00m \u001b[38;5;21mplot\u001b[39m(N\u001b[38;5;241m=\u001b[39m\u001b[38;5;241m300\u001b[39m):\n\u001b[1;32m     40\u001b[0m     target_N \u001b[38;5;241m=\u001b[39m np\u001b[38;5;241m.\u001b[39marray(targets[N])\n",
      "\u001b[0;31mTypeError\u001b[0m: __init__() missing 2 required positional arguments: 'debug' and 'fix_history'"
     ]
    }
   ],
   "source": [
    "len_history = 8\n",
    "model_dir = os.path.join(PROJ_DIR, 'tmp', '20240131-165751', 'model.pt')\n",
    "dynamics_nn = MLP(input_size=7*len_history, hidden_size=32, output_size=5)\n",
    "dynamics_nn.load(model_dir)\n",
    "dynamics_nn.to(DEVICE)\n",
    "rollout_fn = rollout_fn_select('nn-end2end', dynamics_nn, DT, L, LR)\n",
    "\n",
    "def rollout_start_nn():\n",
    "    ...\n",
    "\n",
    "sigmas = torch.tensor([SIGMA] * 2)\n",
    "a_cov_per_step = torch.diag(sigmas**2)\n",
    "a_cov_init = a_cov_per_step.unsqueeze(0).repeat(H, 1, 1)\n",
    "# a_cov_prev =  torch.full((H, 2, 2), 3.0**2) * torch.eye(2).unsqueeze(0).repeat(H, 1, 1)\n",
    "\n",
    "# import pdb; pdb.set_trace()\n",
    "\n",
    "mppi = MPPIController(\n",
    "    gamma_mean=1.0,\n",
    "    gamma_sigma=0.0,\n",
    "    discount=1.0,\n",
    "    sample_sigma = 0.5,\n",
    "    lam = 0.01,\n",
    "    a_mean=torch.zeros(H, 2, device=DEVICE),\n",
    "    a_cov = a_cov_init.to(DEVICE),\n",
    "    n_rollouts=N_ROLLOUTS,\n",
    "    H=H,\n",
    "    device=DEVICE,\n",
    "    rollout_fn=rollout_fn,\n",
    "    a_min = [-1., -1],\n",
    "    a_max = [1., 1.],\n",
    "    a_mag = [.25, 1.],\n",
    "    a_shift= [0.25, 0.],\n",
    "    delay=0,\n",
    "    len_history=len_history,\n",
    "    rollout_start_fn=rollout_start_nn,\n",
    ")\n",
    "\n",
    "def plot(N=300):\n",
    "    target_N = np.array(targets[N])\n",
    "    for i in range(N):\n",
    "        mppi.feed_hist(obs_np[i, :4], torch.tensor(action_list[i, :2], device=DEVICE))\n",
    "\n",
    "    target_pos_tensor = torch.Tensor(targets[N]).to(DEVICE).squeeze(dim=-1)\n",
    "    action, mppi_info = mppi(obs_np[N, :4], reward_track_fn(target_pos_tensor, SPEED), vis_all_traj=True, vis_optim_traj=True, use_nn=True)\n",
    "    all_traj = mppi_info['all_trajectory']\n",
    "    optim_traj = mppi_info['trajectory']\n",
    "    all_actions = mppi_info['action_candidate']\n",
    "    # plt.plot(obs_np[max(0,N-20):, 0], obs_np[max(0,N-20):, 1], alpha=0.5)\n",
    "    fig, axs = plt.subplots(1, 2, figsize=(10, 5))\n",
    "    axs[0].plot(obs_np[:, 0], obs_np[:, 1], alpha=0.5)\n",
    "    for i in range(H+1):\n",
    "        axs[0].scatter(all_traj[i][:, 0], all_traj[i][:, 1], s=1, alpha=0.2)\n",
    "    axs[0].plot(optim_traj[:, 0], optim_traj[:, 1], 'cyan', marker='o', )\n",
    "    axs[0].set_aspect('equal')\n",
    "    \n",
    "    for i in range(H+1):\n",
    "        axs[1].scatter(all_traj[i][:, 0], all_traj[i][:, 1], s=1, alpha=0.2,)\n",
    "    axs[1].plot(target_N[:, 0], target_N[:, 1], 'pink', marker='^', label='reference')\n",
    "    axs[1].plot(optim_traj[:, 0], optim_traj[:, 1], 'cyan', marker='o', label='optim traj')\n",
    "    axs[1].plot(obs_np[N:N+H, 0], obs_np[N:N+H, 1], alpha=1, marker='x', color='black', label='real traj')\n",
    "    axs[1].set_aspect('equal')\n",
    "    axs[1].legend()\n",
    "    # axs[2].hist2d(all_actions[:, 0,0], all_actions[:, 0, 1],norm=colors.LogNorm())\n",
    "    plt.suptitle(\"mppi-NN (Mix 1:1)\")\n",
    "    plt.tight_layout()\n",
    "interact(\n",
    "    plot,\n",
    "    N=(0, len(obs_np))\n",
    ")\n"
   ]
  },
  {
   "cell_type": "code",
   "execution_count": 116,
   "metadata": {},
   "outputs": [
    {
     "ename": "RuntimeError",
     "evalue": "Error(s) in loading state_dict for MLP:\n\tsize mismatch for fc1.weight: copying a param with shape torch.Size([32, 56]) from checkpoint, the shape in current model is torch.Size([64, 14]).\n\tsize mismatch for fc1.bias: copying a param with shape torch.Size([32]) from checkpoint, the shape in current model is torch.Size([64]).\n\tsize mismatch for fc2.weight: copying a param with shape torch.Size([5, 32]) from checkpoint, the shape in current model is torch.Size([5, 64]).",
     "output_type": "error",
     "traceback": [
      "\u001b[0;31m---------------------------------------------------------------------------\u001b[0m",
      "\u001b[0;31mRuntimeError\u001b[0m                              Traceback (most recent call last)",
      "Cell \u001b[0;32mIn[116], line 4\u001b[0m\n\u001b[1;32m      2\u001b[0m model_dir \u001b[38;5;241m=\u001b[39m os\u001b[38;5;241m.\u001b[39mpath\u001b[38;5;241m.\u001b[39mjoin(PROJ_DIR, \u001b[38;5;124m'\u001b[39m\u001b[38;5;124mtmp\u001b[39m\u001b[38;5;124m'\u001b[39m, \u001b[38;5;124m'\u001b[39m\u001b[38;5;124m20240201-182437\u001b[39m\u001b[38;5;124m'\u001b[39m, \u001b[38;5;124m'\u001b[39m\u001b[38;5;124mmodel.pt\u001b[39m\u001b[38;5;124m'\u001b[39m)\n\u001b[1;32m      3\u001b[0m dynamics_nn \u001b[38;5;241m=\u001b[39m MLP(input_size\u001b[38;5;241m=\u001b[39m\u001b[38;5;241m7\u001b[39m\u001b[38;5;241m*\u001b[39mlen_history, hidden_size\u001b[38;5;241m=\u001b[39m\u001b[38;5;241m64\u001b[39m, output_size\u001b[38;5;241m=\u001b[39m\u001b[38;5;241m5\u001b[39m)\n\u001b[0;32m----> 4\u001b[0m \u001b[43mdynamics_nn\u001b[49m\u001b[38;5;241;43m.\u001b[39;49m\u001b[43mload\u001b[49m\u001b[43m(\u001b[49m\u001b[43mmodel_dir\u001b[49m\u001b[43m)\u001b[49m\n\u001b[1;32m      5\u001b[0m dynamics_nn\u001b[38;5;241m.\u001b[39mto(DEVICE)\n\u001b[1;32m      6\u001b[0m rollout_fn \u001b[38;5;241m=\u001b[39m rollout_fn_select(\u001b[38;5;124m'\u001b[39m\u001b[38;5;124mnn-end2end\u001b[39m\u001b[38;5;124m'\u001b[39m, dynamics_nn, DT, L, LR)\n",
      "File \u001b[0;32m~/car_dynamics/car_dynamics/models_torch/model.py:31\u001b[0m, in \u001b[0;36mMLP.load\u001b[0;34m(self, path, map_location)\u001b[0m\n\u001b[1;32m     29\u001b[0m \u001b[38;5;28;01mif\u001b[39;00m map_location \u001b[38;5;129;01mis\u001b[39;00m \u001b[38;5;28;01mNone\u001b[39;00m:\n\u001b[1;32m     30\u001b[0m     map_location \u001b[38;5;241m=\u001b[39m \u001b[38;5;124m\"\u001b[39m\u001b[38;5;124mcuda\u001b[39m\u001b[38;5;124m\"\u001b[39m \u001b[38;5;28;01mif\u001b[39;00m torch\u001b[38;5;241m.\u001b[39mcuda\u001b[38;5;241m.\u001b[39mis_available() \u001b[38;5;28;01melse\u001b[39;00m \u001b[38;5;124m\"\u001b[39m\u001b[38;5;124mcpu\u001b[39m\u001b[38;5;124m\"\u001b[39m\n\u001b[0;32m---> 31\u001b[0m \u001b[38;5;28;43mself\u001b[39;49m\u001b[38;5;241;43m.\u001b[39;49m\u001b[43mload_state_dict\u001b[49m\u001b[43m(\u001b[49m\u001b[43mtorch\u001b[49m\u001b[38;5;241;43m.\u001b[39;49m\u001b[43mload\u001b[49m\u001b[43m(\u001b[49m\u001b[43mpath\u001b[49m\u001b[43m,\u001b[49m\u001b[43m \u001b[49m\u001b[43mmap_location\u001b[49m\u001b[38;5;241;43m=\u001b[39;49m\u001b[43mmap_location\u001b[49m\u001b[43m)\u001b[49m\u001b[43m)\u001b[49m\n",
      "File \u001b[0;32m~/miniforge3/envs/offroad/lib/python3.8/site-packages/torch/nn/modules/module.py:2152\u001b[0m, in \u001b[0;36mModule.load_state_dict\u001b[0;34m(self, state_dict, strict, assign)\u001b[0m\n\u001b[1;32m   2147\u001b[0m         error_msgs\u001b[38;5;241m.\u001b[39minsert(\n\u001b[1;32m   2148\u001b[0m             \u001b[38;5;241m0\u001b[39m, \u001b[38;5;124m'\u001b[39m\u001b[38;5;124mMissing key(s) in state_dict: \u001b[39m\u001b[38;5;132;01m{}\u001b[39;00m\u001b[38;5;124m. \u001b[39m\u001b[38;5;124m'\u001b[39m\u001b[38;5;241m.\u001b[39mformat(\n\u001b[1;32m   2149\u001b[0m                 \u001b[38;5;124m'\u001b[39m\u001b[38;5;124m, \u001b[39m\u001b[38;5;124m'\u001b[39m\u001b[38;5;241m.\u001b[39mjoin(\u001b[38;5;124mf\u001b[39m\u001b[38;5;124m'\u001b[39m\u001b[38;5;124m\"\u001b[39m\u001b[38;5;132;01m{\u001b[39;00mk\u001b[38;5;132;01m}\u001b[39;00m\u001b[38;5;124m\"\u001b[39m\u001b[38;5;124m'\u001b[39m \u001b[38;5;28;01mfor\u001b[39;00m k \u001b[38;5;129;01min\u001b[39;00m missing_keys)))\n\u001b[1;32m   2151\u001b[0m \u001b[38;5;28;01mif\u001b[39;00m \u001b[38;5;28mlen\u001b[39m(error_msgs) \u001b[38;5;241m>\u001b[39m \u001b[38;5;241m0\u001b[39m:\n\u001b[0;32m-> 2152\u001b[0m     \u001b[38;5;28;01mraise\u001b[39;00m \u001b[38;5;167;01mRuntimeError\u001b[39;00m(\u001b[38;5;124m'\u001b[39m\u001b[38;5;124mError(s) in loading state_dict for \u001b[39m\u001b[38;5;132;01m{}\u001b[39;00m\u001b[38;5;124m:\u001b[39m\u001b[38;5;130;01m\\n\u001b[39;00m\u001b[38;5;130;01m\\t\u001b[39;00m\u001b[38;5;132;01m{}\u001b[39;00m\u001b[38;5;124m'\u001b[39m\u001b[38;5;241m.\u001b[39mformat(\n\u001b[1;32m   2153\u001b[0m                        \u001b[38;5;28mself\u001b[39m\u001b[38;5;241m.\u001b[39m\u001b[38;5;18m__class__\u001b[39m\u001b[38;5;241m.\u001b[39m\u001b[38;5;18m__name__\u001b[39m, \u001b[38;5;124m\"\u001b[39m\u001b[38;5;130;01m\\n\u001b[39;00m\u001b[38;5;130;01m\\t\u001b[39;00m\u001b[38;5;124m\"\u001b[39m\u001b[38;5;241m.\u001b[39mjoin(error_msgs)))\n\u001b[1;32m   2154\u001b[0m \u001b[38;5;28;01mreturn\u001b[39;00m _IncompatibleKeys(missing_keys, unexpected_keys)\n",
      "\u001b[0;31mRuntimeError\u001b[0m: Error(s) in loading state_dict for MLP:\n\tsize mismatch for fc1.weight: copying a param with shape torch.Size([32, 56]) from checkpoint, the shape in current model is torch.Size([64, 14]).\n\tsize mismatch for fc1.bias: copying a param with shape torch.Size([32]) from checkpoint, the shape in current model is torch.Size([64]).\n\tsize mismatch for fc2.weight: copying a param with shape torch.Size([5, 32]) from checkpoint, the shape in current model is torch.Size([5, 64])."
     ]
    }
   ],
   "source": [
    "len_history = 2\n",
    "model_dir = os.path.join(PROJ_DIR, 'tmp', '20240201-182437', 'model.pt')\n",
    "dynamics_nn = MLP(input_size=7*len_history, hidden_size=64, output_size=5)\n",
    "dynamics_nn.load(model_dir)\n",
    "dynamics_nn.to(DEVICE)\n",
    "rollout_fn = rollout_fn_select('nn-end2end', dynamics_nn, DT, L, LR)\n",
    "\n",
    "def rollout_start_nn():\n",
    "    ...\n",
    "\n",
    "sigmas = torch.tensor([SIGMA] * 2)\n",
    "a_cov_per_step = torch.diag(sigmas**2)\n",
    "a_cov_init = a_cov_per_step.unsqueeze(0).repeat(H, 1, 1)\n",
    "# a_cov_prev =  torch.full((H, 2, 2), 3.0**2) * torch.eye(2).unsqueeze(0).repeat(H, 1, 1)\n",
    "\n",
    "# import pdb; pdb.set_trace()\n",
    "\n",
    "mppi = MPPIController(\n",
    "    gamma_mean=1.0,\n",
    "    gamma_sigma=0.0,\n",
    "    discount=1.0,\n",
    "    sample_sigma = 0.5,\n",
    "    lam = 0.01,\n",
    "    a_mean=torch.zeros(H, 2, device=DEVICE),\n",
    "    a_cov = a_cov_init.to(DEVICE),\n",
    "    n_rollouts=N_ROLLOUTS,\n",
    "    H=H,\n",
    "    device=DEVICE,\n",
    "    rollout_fn=rollout_fn,\n",
    "    a_min = [-1., -1],\n",
    "    a_max = [1., 1.],\n",
    "    a_mag = [.25, 1.],\n",
    "    a_shift= [0.25, 0.],\n",
    "    delay=0,\n",
    "    len_history=len_history,\n",
    "    rollout_start_fn=rollout_start_nn,\n",
    ")\n",
    "\n",
    "def plot(N=300):\n",
    "    target_N = np.array(targets[N])\n",
    "    for i in range(N):\n",
    "        mppi.feed_hist(obs_np[i, :4], torch.tensor(action_list[i, :2], device=DEVICE))\n",
    "\n",
    "    target_pos_tensor = torch.Tensor(targets[N]).to(DEVICE).squeeze(dim=-1)\n",
    "    action, mppi_info = mppi(obs_np[N, :4], reward_track_fn(target_pos_tensor, SPEED), vis_all_traj=True, vis_optim_traj=True, use_nn=True)\n",
    "    all_traj = mppi_info['all_trajectory']\n",
    "    optim_traj = mppi_info['trajectory']\n",
    "    all_actions = mppi_info['action_candidate']\n",
    "    # plt.plot(obs_np[max(0,N-20):, 0], obs_np[max(0,N-20):, 1], alpha=0.5)\n",
    "    fig, axs = plt.subplots(1, 2, figsize=(10, 5))\n",
    "    axs[0].plot(obs_np[:, 0], obs_np[:, 1], alpha=0.5)\n",
    "    for i in range(H+1):\n",
    "        axs[0].scatter(all_traj[i][:, 0], all_traj[i][:, 1], s=1, alpha=0.2)\n",
    "    axs[0].plot(optim_traj[:, 0], optim_traj[:, 1], 'cyan', marker='o', )\n",
    "    axs[0].set_aspect('equal')\n",
    "    \n",
    "    for i in range(H+1):\n",
    "        axs[1].scatter(all_traj[i][:, 0], all_traj[i][:, 1], s=1, alpha=0.2,)\n",
    "    axs[1].plot(target_N[:, 0], target_N[:, 1], 'pink', marker='^', label='reference')\n",
    "    axs[1].plot(optim_traj[:, 0], optim_traj[:, 1], 'cyan', marker='o', label='optim traj')\n",
    "    axs[1].plot(obs_np[N:N+H, 0], obs_np[N:N+H, 1], alpha=1, marker='x', color='black', label='real traj')\n",
    "    axs[1].set_aspect('equal')\n",
    "    axs[1].legend()\n",
    "    axs[2].hist2d(all_actions[:, 0,0], all_actions[:, 0, 1],norm=colors.LogNorm())\n",
    "    plt.suptitle(\"mppi-NN (Sim)\")\n",
    "    plt.tight_layout()\n",
    "interact(\n",
    "    plot,\n",
    "    N=(0, len(obs_np))\n",
    ")\n"
   ]
  },
  {
   "cell_type": "code",
   "execution_count": 39,
   "metadata": {},
   "outputs": [
    {
     "data": {
      "application/vnd.jupyter.widget-view+json": {
       "model_id": "5267c30c328b4992b9ed58a4b9028c39",
       "version_major": 2,
       "version_minor": 0
      },
      "text/plain": [
       "interactive(children=(IntSlider(value=570, description='N', max=710), Output()), _dom_classes=('widget-interac…"
      ]
     },
     "metadata": {},
     "output_type": "display_data"
    },
    {
     "data": {
      "text/plain": [
       "<function __main__.plot(N=570)>"
      ]
     },
     "execution_count": 39,
     "metadata": {},
     "output_type": "execute_result"
    }
   ],
   "source": [
    "len_history = 3\n",
    "model_params = DynamicParams(\n",
    "                    num_envs=N_ROLLOUTS,\n",
    "                    DT=DT,\n",
    "                    Ta=10,\n",
    ")   \n",
    "\n",
    "\n",
    "dynamics = DynamicBicycleModel(model_params, device=DEVICE)\n",
    "rollout_fn = rollout_fn_select('dbm', dynamics, DT, L, LR)\n",
    "\n",
    "def rollout_start_nn():\n",
    "    ...\n",
    "\n",
    "SIGMA = 10.\n",
    "sigmas = torch.tensor([SIGMA] * 2)\n",
    "a_cov_per_step = torch.diag(sigmas**2)\n",
    "a_cov_init = a_cov_per_step.unsqueeze(0).repeat(H, 1, 1)\n",
    "# a_cov_prev =  torch.full((H, 2, 2), 3.0**2) * torch.eye(2).unsqueeze(0).repeat(H, 1, 1)\n",
    "\n",
    "# import pdb; pdb.set_trace()\n",
    "\n",
    "mppi = MPPIController(\n",
    "    gamma_mean=1.0,\n",
    "    gamma_sigma=0.0,\n",
    "    discount=1.,\n",
    "    sample_sigma = 0.5,\n",
    "    lam = 0.01,\n",
    "    a_mean=torch.zeros(H, 2, device=DEVICE),\n",
    "    a_cov = a_cov_init.to(DEVICE),\n",
    "    n_rollouts=N_ROLLOUTS,\n",
    "    H=H,\n",
    "    device=DEVICE,\n",
    "    rollout_fn=rollout_fn,\n",
    "    a_min = [-1., -1],\n",
    "    a_max = [1., 1.],\n",
    "    a_mag = [.075, 1.],\n",
    "    a_shift= [0.127, 0.],\n",
    "    delay=0,\n",
    "    len_history=len_history,\n",
    "    rollout_start_fn=rollout_start_nn,\n",
    "    debug=False,\n",
    "    fix_history=False,\n",
    "    num_actions=2,\n",
    "    num_obs=6,\n",
    ")\n",
    "\n",
    "def plot(N=570):\n",
    "    target_N = np.array(targets[N])\n",
    "    obs_tensor = torch.tensor(obs_np, device=DEVICE)\n",
    "    v_vec = ( obs_tensor[1:, :2] - obs_tensor[:-1, :2] ) / DT\n",
    "    vx = v_vec[:, 0] * torch.cos(obs_tensor[1:, 2]) + v_vec[:, 1] * torch.sin(obs_tensor[1:, 2])\n",
    "    vy = v_vec[:, 1] * torch.cos(obs_tensor[1:, 2]) - v_vec[:, 0] * torch.sin(obs_tensor[1:, 2])\n",
    "    omega = obs_tensor[1:,2] - obs_tensor[:-1,2]\n",
    "    omega = torch.atan2(torch.sin(omega), torch.cos(omega)) / DT\n",
    "    for i in range(1, N):\n",
    "        obs_t = torch.tensor([obs_tensor[i,0], obs_tensor[i,1],obs_tensor[i,2],vx[i-1],vy[i-1],omega[i-1]], device=DEVICE)\n",
    "        mppi.feed_hist(obs_t, torch.tensor(action_list[i, :2], device=DEVICE))\n",
    "\n",
    "\n",
    "    target_pos_tensor = torch.Tensor(targets[N]).to(DEVICE).squeeze(dim=-1)\n",
    "    obs_N = torch.tensor([obs_tensor[N,0], obs_tensor[N,1],obs_tensor[N,2],vx[N-1],vy[N-1],omega[N-1]], device=DEVICE)\n",
    "    action, mppi_info = mppi(obs_N, reward_track_fn(target_pos_tensor, SPEED), vis_all_traj=True, vis_optim_traj=True, use_nn=True)\n",
    "    all_traj = mppi_info['all_trajectory']\n",
    "    optim_traj = mppi_info['trajectory']\n",
    "    all_actions = mppi_info['action_candidate']\n",
    "    # plt.plot(obs_np[max(0,N-20):, 0], obs_np[max(0,N-20):, 1], alpha=0.5)\n",
    "    fig, axs = plt.subplots(1, 2, figsize=(10, 5))\n",
    "    axs[0].plot(obs_np[:, 0], obs_np[:, 1], alpha=0.5)\n",
    "    # print(all_traj)\n",
    "    for i in range(H+1):\n",
    "        axs[0].scatter(all_traj[i][:, 0], all_traj[i][:, 1], s=1, alpha=0.2)\n",
    "    axs[0].plot(optim_traj[:, 0], optim_traj[:, 1], 'cyan', marker='o', )\n",
    "    axs[0].set_aspect('equal')\n",
    "    \n",
    "    for i in range(H+1):\n",
    "        axs[1].scatter(all_traj[i][:, 0], all_traj[i][:, 1], s=1, alpha=0.2,)\n",
    "    axs[1].plot(target_N[:, 0], target_N[:, 1], 'pink', marker='^', label='reference')\n",
    "    axs[1].plot(optim_traj[:, 0], optim_traj[:, 1], 'cyan', marker='o', label='optim traj')\n",
    "    axs[1].plot(obs_np[N:N+H, 0], obs_np[N:N+H, 1], alpha=1, marker='x', color='black', label='real traj')\n",
    "    axs[1].set_aspect('equal')\n",
    "    axs[1].legend()\n",
    "    # axs[2].hist2d(all_actions[:, 0,0], all_actions[:, 0, 1],norm=colors.LogNorm())\n",
    "    plt.suptitle(\"mppi-DBM\")\n",
    "    plt.tight_layout()\n",
    "interact(\n",
    "    plot,\n",
    "    N=(0, len(obs_np))\n",
    ")\n"
   ]
  },
  {
   "cell_type": "code",
   "execution_count": 37,
   "metadata": {},
   "outputs": [
    {
     "ename": "NameError",
     "evalue": "name 'all_traj' is not defined",
     "output_type": "error",
     "traceback": [
      "\u001b[0;31m---------------------------------------------------------------------------\u001b[0m",
      "\u001b[0;31mNameError\u001b[0m                                 Traceback (most recent call last)",
      "Cell \u001b[0;32mIn[37], line 1\u001b[0m\n\u001b[0;32m----> 1\u001b[0m \u001b[43mall_traj\u001b[49m\n",
      "\u001b[0;31mNameError\u001b[0m: name 'all_traj' is not defined"
     ]
    }
   ],
   "source": [
    "all_traj"
   ]
  },
  {
   "cell_type": "markdown",
   "metadata": {},
   "source": [
    "## Evaluate"
   ]
  },
  {
   "cell_type": "code",
   "execution_count": 19,
   "metadata": {},
   "outputs": [],
   "source": [
    "import numpy as np \n",
    "def sig(x):\n",
    " return 1/(1 + np.exp(-x))"
   ]
  },
  {
   "cell_type": "code",
   "execution_count": 35,
   "metadata": {},
   "outputs": [
    {
     "ename": "FileNotFoundError",
     "evalue": "[Errno 2] No such file or directory: '/Users/wenlixiao/Dropbox/School/Graduate/LeCAR/safe-learning-control/playground/offroad/tmp/20240212-101637/model.pt'",
     "output_type": "error",
     "traceback": [
      "\u001b[0;31m---------------------------------------------------------------------------\u001b[0m",
      "\u001b[0;31mFileNotFoundError\u001b[0m                         Traceback (most recent call last)",
      "Cell \u001b[0;32mIn[35], line 7\u001b[0m\n\u001b[1;32m      5\u001b[0m \u001b[38;5;66;03m# model_dir = os.path.join(PROJ_DIR, 'tmp', '20240131-142206', 'model.pt')\u001b[39;00m\n\u001b[1;32m      6\u001b[0m dynamics_nn \u001b[38;5;241m=\u001b[39m MLP(input_size\u001b[38;5;241m=\u001b[39m\u001b[38;5;241m6\u001b[39m\u001b[38;5;241m*\u001b[39mlen_history, hidden_size\u001b[38;5;241m=\u001b[39m\u001b[38;5;241m128\u001b[39m, output_size\u001b[38;5;241m=\u001b[39m\u001b[38;5;241m4\u001b[39m)\n\u001b[0;32m----> 7\u001b[0m \u001b[43mdynamics_nn\u001b[49m\u001b[38;5;241;43m.\u001b[39;49m\u001b[43mload\u001b[49m\u001b[43m(\u001b[49m\u001b[43mmodel_dir\u001b[49m\u001b[43m)\u001b[49m\n\u001b[1;32m      8\u001b[0m dynamics_nn\u001b[38;5;241m.\u001b[39mto(DEVICE)\n\u001b[1;32m      9\u001b[0m \u001b[38;5;66;03m# rollout_fn = rollout_fn_select('nn-phyx-kbm', dynamics_nn, DT, L, LR)\u001b[39;00m\n",
      "File \u001b[0;32m~/Dropbox/School/Graduate/LeCAR/safe-learning-control/playground/car_dynamics/car_dynamics/models_torch/model.py:30\u001b[0m, in \u001b[0;36mModel.load\u001b[0;34m(self, path, map_location)\u001b[0m\n\u001b[1;32m     27\u001b[0m     map_location \u001b[38;5;241m=\u001b[39m \u001b[38;5;124m\"\u001b[39m\u001b[38;5;124mcuda\u001b[39m\u001b[38;5;124m\"\u001b[39m \u001b[38;5;28;01mif\u001b[39;00m torch\u001b[38;5;241m.\u001b[39mcuda\u001b[38;5;241m.\u001b[39mis_available() \u001b[38;5;28;01melse\u001b[39;00m \u001b[38;5;124m\"\u001b[39m\u001b[38;5;124mcpu\u001b[39m\u001b[38;5;124m\"\u001b[39m\n\u001b[1;32m     29\u001b[0m \u001b[38;5;66;03m# Load the combined dictionary\u001b[39;00m\n\u001b[0;32m---> 30\u001b[0m combined_dict \u001b[38;5;241m=\u001b[39m \u001b[43mtorch\u001b[49m\u001b[38;5;241;43m.\u001b[39;49m\u001b[43mload\u001b[49m\u001b[43m(\u001b[49m\u001b[43mpath\u001b[49m\u001b[43m,\u001b[49m\u001b[43m \u001b[49m\u001b[43mmap_location\u001b[49m\u001b[38;5;241;43m=\u001b[39;49m\u001b[43mmap_location\u001b[49m\u001b[43m)\u001b[49m\n\u001b[1;32m     32\u001b[0m \u001b[38;5;66;03m# Set the model state dict\u001b[39;00m\n\u001b[1;32m     33\u001b[0m \u001b[38;5;28mself\u001b[39m\u001b[38;5;241m.\u001b[39mload_state_dict(combined_dict[\u001b[38;5;124m'\u001b[39m\u001b[38;5;124mstate_dict\u001b[39m\u001b[38;5;124m'\u001b[39m])\n",
      "File \u001b[0;32m~/miniforge3/envs/rtk/lib/python3.8/site-packages/torch/serialization.py:986\u001b[0m, in \u001b[0;36mload\u001b[0;34m(f, map_location, pickle_module, weights_only, mmap, **pickle_load_args)\u001b[0m\n\u001b[1;32m    983\u001b[0m \u001b[38;5;28;01mif\u001b[39;00m \u001b[38;5;124m'\u001b[39m\u001b[38;5;124mencoding\u001b[39m\u001b[38;5;124m'\u001b[39m \u001b[38;5;129;01mnot\u001b[39;00m \u001b[38;5;129;01min\u001b[39;00m pickle_load_args\u001b[38;5;241m.\u001b[39mkeys():\n\u001b[1;32m    984\u001b[0m     pickle_load_args[\u001b[38;5;124m'\u001b[39m\u001b[38;5;124mencoding\u001b[39m\u001b[38;5;124m'\u001b[39m] \u001b[38;5;241m=\u001b[39m \u001b[38;5;124m'\u001b[39m\u001b[38;5;124mutf-8\u001b[39m\u001b[38;5;124m'\u001b[39m\n\u001b[0;32m--> 986\u001b[0m \u001b[38;5;28;01mwith\u001b[39;00m \u001b[43m_open_file_like\u001b[49m\u001b[43m(\u001b[49m\u001b[43mf\u001b[49m\u001b[43m,\u001b[49m\u001b[43m \u001b[49m\u001b[38;5;124;43m'\u001b[39;49m\u001b[38;5;124;43mrb\u001b[39;49m\u001b[38;5;124;43m'\u001b[39;49m\u001b[43m)\u001b[49m \u001b[38;5;28;01mas\u001b[39;00m opened_file:\n\u001b[1;32m    987\u001b[0m     \u001b[38;5;28;01mif\u001b[39;00m _is_zipfile(opened_file):\n\u001b[1;32m    988\u001b[0m         \u001b[38;5;66;03m# The zipfile reader is going to advance the current file position.\u001b[39;00m\n\u001b[1;32m    989\u001b[0m         \u001b[38;5;66;03m# If we want to actually tail call to torch.jit.load, we need to\u001b[39;00m\n\u001b[1;32m    990\u001b[0m         \u001b[38;5;66;03m# reset back to the original position.\u001b[39;00m\n\u001b[1;32m    991\u001b[0m         orig_position \u001b[38;5;241m=\u001b[39m opened_file\u001b[38;5;241m.\u001b[39mtell()\n",
      "File \u001b[0;32m~/miniforge3/envs/rtk/lib/python3.8/site-packages/torch/serialization.py:435\u001b[0m, in \u001b[0;36m_open_file_like\u001b[0;34m(name_or_buffer, mode)\u001b[0m\n\u001b[1;32m    433\u001b[0m \u001b[38;5;28;01mdef\u001b[39;00m \u001b[38;5;21m_open_file_like\u001b[39m(name_or_buffer, mode):\n\u001b[1;32m    434\u001b[0m     \u001b[38;5;28;01mif\u001b[39;00m _is_path(name_or_buffer):\n\u001b[0;32m--> 435\u001b[0m         \u001b[38;5;28;01mreturn\u001b[39;00m \u001b[43m_open_file\u001b[49m\u001b[43m(\u001b[49m\u001b[43mname_or_buffer\u001b[49m\u001b[43m,\u001b[49m\u001b[43m \u001b[49m\u001b[43mmode\u001b[49m\u001b[43m)\u001b[49m\n\u001b[1;32m    436\u001b[0m     \u001b[38;5;28;01melse\u001b[39;00m:\n\u001b[1;32m    437\u001b[0m         \u001b[38;5;28;01mif\u001b[39;00m \u001b[38;5;124m'\u001b[39m\u001b[38;5;124mw\u001b[39m\u001b[38;5;124m'\u001b[39m \u001b[38;5;129;01min\u001b[39;00m mode:\n",
      "File \u001b[0;32m~/miniforge3/envs/rtk/lib/python3.8/site-packages/torch/serialization.py:416\u001b[0m, in \u001b[0;36m_open_file.__init__\u001b[0;34m(self, name, mode)\u001b[0m\n\u001b[1;32m    415\u001b[0m \u001b[38;5;28;01mdef\u001b[39;00m \u001b[38;5;21m__init__\u001b[39m(\u001b[38;5;28mself\u001b[39m, name, mode):\n\u001b[0;32m--> 416\u001b[0m     \u001b[38;5;28msuper\u001b[39m()\u001b[38;5;241m.\u001b[39m\u001b[38;5;21m__init__\u001b[39m(\u001b[38;5;28;43mopen\u001b[39;49m\u001b[43m(\u001b[49m\u001b[43mname\u001b[49m\u001b[43m,\u001b[49m\u001b[43m \u001b[49m\u001b[43mmode\u001b[49m\u001b[43m)\u001b[49m)\n",
      "\u001b[0;31mFileNotFoundError\u001b[0m: [Errno 2] No such file or directory: '/Users/wenlixiao/Dropbox/School/Graduate/LeCAR/safe-learning-control/playground/offroad/tmp/20240212-101637/model.pt'"
     ]
    }
   ],
   "source": [
    "len_history = 2\n",
    "# model_dir = os.path.join(PROJ_DIR, 'tmp', '20240211-171037', 'model.pt')\n",
    "model_dir = os.path.join(PROJ_DIR, 'tmp', '20240212-101637', 'model.pt')\n",
    "\n",
    "# model_dir = os.path.join(PROJ_DIR, 'tmp', '20240131-142206', 'model.pt')\n",
    "dynamics_nn = MLP(input_size=6*len_history, hidden_size=128, output_size=4)\n",
    "dynamics_nn.load(model_dir)\n",
    "dynamics_nn.to(DEVICE)\n",
    "# rollout_fn = rollout_fn_select('nn-phyx-kbm', dynamics_nn, DT, L, LR)\n",
    "rollout_fn = rollout_fn_select('nn-end2end', dynamics_nn, DT, L, LR)\n",
    "# rollout_fn = rollout_fn_select('nn-end2end-trunk', dynamics_nn, DT, L, LR)\n",
    "\n",
    "def rollout_start_nn():\n",
    "    ...\n",
    "\n",
    "sigmas = torch.tensor([SIGMA] * 2)\n",
    "a_cov_per_step = torch.diag(sigmas**2)\n",
    "a_cov_init = a_cov_per_step.unsqueeze(0).repeat(H, 1, 1)\n",
    "# a_cov_prev =  torch.full((H, 2, 2), 3.0**2) * torch.eye(2).unsqueeze(0).repeat(H, 1, 1)\n",
    "\n",
    "# import pdb; pdb.set_trace()\n",
    "\n",
    "mppi = MPPIController(\n",
    "    gamma_mean=1.0,\n",
    "    gamma_sigma=0.0,\n",
    "    discount=1,\n",
    "    sample_sigma = 0.5,\n",
    "    lam = 0.01,\n",
    "    a_mean=torch.zeros(H, 2, device=DEVICE),\n",
    "    a_cov = a_cov_init.to(DEVICE),\n",
    "    n_rollouts=N_ROLLOUTS,\n",
    "    H=H,\n",
    "    device=DEVICE,\n",
    "    rollout_fn=rollout_fn,\n",
    "    a_min = [-1., -1],\n",
    "    a_max = [1., 1.],\n",
    "    a_mag = [.25, 1.],\n",
    "    a_shift= [0.25, 0.],\n",
    "    delay=0,\n",
    "    len_history=len_history,\n",
    "    rollout_start_fn=rollout_start_nn,\n",
    "    debug=False,\n",
    "    fix_history=False,\n",
    ")\n",
    "\n",
    "def plot(N=570, show_idx=0):\n",
    "    target_N = np.array(targets[N])\n",
    "    for i in range(N):\n",
    "        mppi.feed_hist(obs_np[i, :4], torch.tensor(action_list[i, :2], device=DEVICE))\n",
    "\n",
    "    target_pos_tensor = torch.Tensor(targets[N]).to(DEVICE).squeeze(dim=-1)\n",
    "    action, mppi_info = mppi(obs_np[N, :4], reward_track_fn(target_pos_tensor, SPEED), vis_all_traj=True, vis_optim_traj=True, use_nn=True, nominal_actions = action_list[N:N+H+1, :2])\n",
    "    print(len(mppi_info['x_all']))\n",
    "    all_traj = mppi_info['all_trajectory']\n",
    "    optim_traj = mppi_info['trajectory']\n",
    "    all_actions = mppi_info['action_candidate']\n",
    "    optim_action = mppi_info['action']\n",
    "    \n",
    "    # plt.plot(obs_np[max(0,N-20):, 0], obs_np[max(0,N-20):, 1], alpha=0.5)\n",
    "    fig, axs = plt.subplots(1, 3, figsize=(20, 5))\n",
    "    axs[0].plot(obs_np[:, 0], obs_np[:, 1], alpha=0.5)\n",
    "    for i in range(H+1):\n",
    "        axs[0].scatter(all_traj[i][:, 0], all_traj[i][:, 1], s=1, alpha=0.2)\n",
    "    axs[0].plot(optim_traj[:, 0], optim_traj[:, 1], 'cyan', marker='o', )\n",
    "    axs[0].set_aspect('equal')\n",
    "    \n",
    "    for i in range(H+1):\n",
    "        axs[1].scatter(all_traj[i][:, 0], all_traj[i][:, 1], s=1, alpha=0.2,)\n",
    "    axs[1].plot(target_N[:, 0], target_N[:, 1], 'pink', marker='^', label='reference')\n",
    "    axs[1].plot(optim_traj[:, 0], optim_traj[:, 1], 'cyan', marker='o', label='optim traj')\n",
    "    axs[1].plot(obs_np[N:N+H+1, 0], obs_np[N:N+H+1, 1], alpha=1, marker='x', color='black', label='real traj')\n",
    "    axs[1].set_aspect('equal')\n",
    "    axs[1].legend()\n",
    "    \n",
    "    axs[2].scatter(optim_action[0][0], optim_action[0][1], marker='o', color='cyan', label='optim action')\n",
    "    axs[2].scatter(action_list[N, 0], action_list[N, 1], marker='x', color='black', label='real action')\n",
    "    axs[2].set_xlim([0,1])\n",
    "    axs[2].set_ylim([-1,1])\n",
    "    axs[2].legend()\n",
    "    \n",
    "    # axs[2].hist2d(all_actions[:, 0,0], all_actions[:, 0, 1],norm=colors.LogNorm())\n",
    "    plt.suptitle(\"mppi-NN-phyx-kbm\")\n",
    "    plt.tight_layout()\n",
    "interact(\n",
    "    plot,\n",
    "    N=(0, len(obs_np)),\n",
    "    show_idx = [0,1,2,3],\n",
    ")\n"
   ]
  },
  {
   "cell_type": "code",
   "execution_count": null,
   "metadata": {},
   "outputs": [],
   "source": []
  },
  {
   "cell_type": "code",
   "execution_count": 75,
   "metadata": {},
   "outputs": [
    {
     "data": {
      "text/plain": [
       "[<matplotlib.lines.Line2D at 0x7f0f610dd760>]"
      ]
     },
     "execution_count": 75,
     "metadata": {},
     "output_type": "execute_result"
    },
    {
     "data": {
      "image/png": "[encoded data removed]",
      "text/plain": [
       "<Figure size 640x480 with 1 Axes>"
      ]
     },
     "metadata": {},
     "output_type": "display_data"
    }
   ],
   "source": [
    "# mppi_info['x_all'][0][-2:] == mppi_info['x_all'][2][-2:]\n",
    "y_all = np.array(mppi_info['y_all'])\n",
    "plt.plot(y_all[:100, 1]**2)"
   ]
  },
  {
   "cell_type": "code",
   "execution_count": 32,
   "metadata": {},
   "outputs": [
    {
     "data": {
      "text/html": [
       "<pre style=\"white-space:pre;overflow-x:auto;line-height:normal;font-family:Menlo,'DejaVu Sans Mono',consolas,'Courier New',monospace\">\n",
       "</pre>\n"
      ],
      "text/plain": [
       "\n"
      ]
     },
     "metadata": {},
     "output_type": "display_data"
    },
    {
     "data": {
      "application/vnd.jupyter.widget-view+json": {
       "model_id": "d9e2b89e9d954a0581549c927ed20aae",
       "version_major": 2,
       "version_minor": 0
      },
      "text/plain": [
       "interactive(children=(IntSlider(value=0, description='elev', max=90, min=-90), IntSlider(value=0, description=…"
      ]
     },
     "metadata": {},
     "output_type": "display_data"
    },
    {
     "data": {
      "text/plain": [
       "<function __main__.plot(elev, azim)>"
      ]
     },
     "execution_count": 32,
     "metadata": {},
     "output_type": "execute_result"
    }
   ],
   "source": [
    "from sklearn.preprocessing import StandardScaler\n",
    "PROJ_DIR = '/home/wenli-run/car_collect'\n",
    "log_dir = 'data/'\n",
    "dt = 0.05\n",
    "H = 4\n",
    "train_data_list = [\n",
    "#    dict(name='real-random', dir='data-20240201-200427', range=[5, 480]),\n",
    "#    dict(name='real-random', dir='data-20240201-202035', range=[5, 489]),\n",
    "#    dict(name='real-random', dir='data-20240201-221923', range=[5, 689]),\n",
    "   dict(name='sim-random', dir='sim-data-20240131-134617', range=[0, 1]),\n",
    "]\n",
    "X_train, _ = parse_data_end2end_norm(H, train_data_list, load_state, PROJ_DIR, log_dir, dt)\n",
    "X_test = torch.tensor(mppi_info['x_all'])\n",
    "scaler = StandardScaler()\n",
    "X_train_scaled = scaler.fit_transform(X_train)\n",
    "X_test_scaled = scaler.transform(X_test)\n",
    "\n",
    "# Convert to PyTorch tensors\n",
    "X_train_tensor = torch.tensor(X_train_scaled, dtype=torch.float32)\n",
    "X_test_tensor = torch.tensor(X_test_scaled, dtype=torch.float32)\n",
    "\n",
    "def pca(data, n_components):\n",
    "    # Centering the data (subtract the mean)\n",
    "    mean = torch.mean(data, 0)\n",
    "    data = data - mean.expand_as(data)\n",
    "\n",
    "    # SVD\n",
    "    U, S, V = torch.svd(torch.t(data))\n",
    "    return torch.mm(data, U[:, :n_components])\n",
    "\n",
    "# Apply PCA to both datasets (choose the number of components, e.g., 2)\n",
    "n_components = 3\n",
    "train_pca = pca(X_train_tensor, n_components)\n",
    "test_pca = pca(X_test_tensor, n_components)\n",
    "\n",
    "def plot(elev, azim):\n",
    "    # Create a 3D plot\n",
    "    fig = plt.figure(figsize=(10, 7))\n",
    "    ax = fig.add_subplot(111, projection='3d')\n",
    "\n",
    "    # Scatter plot for training and testing data\n",
    "    ax.scatter(train_pca[:, 0], train_pca[:, 1], train_pca[:, 2], label='Sim Data', alpha=0.5, s=1)\n",
    "    ax.scatter(test_pca[:, 0], test_pca[:, 1], test_pca[:, 2], label='MPPI Data', alpha=0.1, s=1)\n",
    "\n",
    "    # Labels and title\n",
    "    ax.set_xlabel('Principal Component 1')\n",
    "    ax.set_ylabel('Principal Component 2')\n",
    "    ax.set_zlabel('Principal Component 3')\n",
    "    # elev = 30 # Elevation in degrees\n",
    "    # azim = 45 # Azimuthal angle in degrees\n",
    "    ax.view_init(elev=elev, azim=azim)\n",
    "    plt.legend()\n",
    "    plt.title('3D PCA of Training and Testing Datasets')\n",
    "    plt.show()\n",
    "interact(plot, elev=(-90, 90, 1), azim=(-180, 180, 1))\n",
    "\n",
    "# # Labels and title\n",
    "# plt.figure(figsize=(10, 6))\n",
    "# plt.scatter(train_pca[:, 0], train_pca[:, 1], label='Training Data', alpha=0.5, s=1)\n",
    "# plt.scatter(test_pca[:, 0], test_pca[:, 1], label='Testing Data', alpha=0.5, s=1)\n",
    "# plt.xlabel('Principal Component 1')\n",
    "# plt.ylabel('Principal Component 2')\n",
    "# plt.legend()\n",
    "# plt.title('PCA of Training and Testing Datasets')\n",
    "# plt.show()"
   ]
  },
  {
   "cell_type": "code",
   "execution_count": null,
   "metadata": {},
   "outputs": [],
   "source": []
  }
 ],
 "metadata": {
  "kernelspec": {
   "display_name": "offroad",
   "language": "python",
   "name": "python3"
  },
  "language_info": {
   "codemirror_mode": {
    "name": "ipython",
    "version": 3
   },
   "file_extension": ".py",
   "mimetype": "text/x-python",
   "name": "python",
   "nbconvert_exporter": "python",
   "pygments_lexer": "ipython3",
   "version": "3.8.18"
  }
 },
 "nbformat": 4,
 "nbformat_minor": 2
}
