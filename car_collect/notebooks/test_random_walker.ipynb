{
 "cells": [
  {
   "cell_type": "markdown",
   "id": "46ebbe82-c5bc-4e56-8cae-15b8a09b09cc",
   "metadata": {},
   "source": [
    "# Test Random Walker"
   ]
  },
  {
   "cell_type": "code",
   "execution_count": 1,
   "id": "e987ddb1-ad94-48e3-9b67-f5e97abe8df7",
   "metadata": {},
   "outputs": [],
   "source": [
    "## Random Walk + Drive Back to Center\n",
    "    1. Measure the size of the field\n",
    "    2. Set the Boundary\n",
    "    3. Generate Trajectory (Just set the Center as goal) for Navigate Back to Center, then use PID"
   ]
  },
  {
   "cell_type": "code",
   "execution_count": null,
   "id": "716bfad5-342c-41d0-9560-60a7f733538c",
   "metadata": {},
   "outputs": [],
   "source": []
  }
 ],
 "metadata": {
  "kernelspec": {
   "display_name": "Python 3 (ipykernel)",
   "language": "python",
   "name": "python3"
  },
  "language_info": {
   "codemirror_mode": {
    "name": "ipython",
    "version": 3
   },
   "file_extension": ".py",
   "mimetype": "text/x-python",
   "name": "python",
   "nbconvert_exporter": "python",
   "pygments_lexer": "ipython3",
   "version": "3.8.18"
  }
 },
 "nbformat": 4,
 "nbformat_minor": 5
}
