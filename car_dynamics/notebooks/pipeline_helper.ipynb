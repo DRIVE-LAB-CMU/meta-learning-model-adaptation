{
 "cells": [
  {
   "cell_type": "code",
   "execution_count": 1,
   "id": "f82a0749-ea5a-4ffb-865a-e0a7a2048d1f",
   "metadata": {},
   "outputs": [
    {
     "name": "stdout",
     "output_type": "stream",
     "text": [
      "/home/wenli/car_dynamics\n"
     ]
    }
   ],
   "source": [
    "%cd .."
   ]
  },
  {
   "cell_type": "markdown",
   "id": "bf598152-994b-4ad4-bcfa-7cdfd476ef9b",
   "metadata": {},
   "source": [
    "# Dyn-Learning"
   ]
  },
  {
   "cell_type": "markdown",
   "id": "0cf88879-2593-48b6-87d3-1cf17ba782e1",
   "metadata": {},
   "source": [
    "## Single-Env"
   ]
  },
  {
   "cell_type": "code",
   "execution_count": 16,
   "id": "c693067a-552e-4e71-9ee3-73598cdbe3a0",
   "metadata": {},
   "outputs": [
    {
     "name": "stdout",
     "output_type": "stream",
     "text": [
      "The autoreload extension is already loaded. To reload it, use:\n",
      "  %reload_ext autoreload\n"
     ]
    }
   ],
   "source": [
    "import ray\n",
    "import wandb\n",
    "import torch\n",
    "from env_utils import make_env\n",
    "from modules.dynamics import DynamicsLearning, VanillaDynamics, EncDynamics\n",
    "from jax import random\n",
    "import jax\n",
    "from datetime import datetime\n",
    "import string\n",
    "%load_ext autoreload\n",
    "%autoreload 2\n",
    "    \n",
    "DEBUG=False"
   ]
  },
  {
   "cell_type": "code",
   "execution_count": 23,
   "id": "7530275b-59e1-4688-aabd-6ac085938a9e",
   "metadata": {},
   "outputs": [
    {
     "name": "stderr",
     "output_type": "stream",
     "text": [
      "2023-10-21 18:11:59,837\tINFO worker.py:1476 -- Calling ray.init() again after it has already been called.\n"
     ]
    },
    {
     "name": "stdout",
     "output_type": "stream",
     "text": [
      "device [gpu(id=0)]\n"
     ]
    },
    {
     "data": {
      "text/html": [
       "Finishing last run (ID:egwetgf1) before initializing another..."
      ],
      "text/plain": [
       "<IPython.core.display.HTML object>"
      ]
     },
     "metadata": {},
     "output_type": "display_data"
    },
    {
     "data": {
      "text/html": [
       "Waiting for W&B process to finish... <strong style=\"color:green\">(success).</strong>"
      ],
      "text/plain": [
       "<IPython.core.display.HTML object>"
      ]
     },
     "metadata": {},
     "output_type": "display_data"
    },
    {
     "name": "stderr",
     "output_type": "stream",
     "text": [
      "wandb: WARNING Source type is set to 'repo' but some required information is missing from the environment. A job will not be created from this run. See https://docs.wandb.ai/guides/launch/create-job\n"
     ]
    },
    {
     "data": {
      "text/html": [
       "<style>\n",
       "    table.wandb td:nth-child(1) { padding: 0 10px; text-align: left ; width: auto;} td:nth-child(2) {text-align: left ; width: 100%}\n",
       "    .wandb-row { display: flex; flex-direction: row; flex-wrap: wrap; justify-content: flex-start; width: 100% }\n",
       "    .wandb-col { display: flex; flex-direction: column; flex-basis: 100%; flex: 1; padding: 10px; }\n",
       "    </style>\n",
       "<div class=\"wandb-row\"><div class=\"wandb-col\"><h3>Run history:</h3><br/><table class=\"wandb\"><tr><td>evaluating/validation_error0</td><td>█▆█▃▆▃▃▃▄▃▂▂▂▄▁▁▂▁▃▁▂▂▂▃▄▁▂▁▂▂▂▁▁▂▁▁▁▂▁▁</td></tr><tr><td>evaluating/validation_error1</td><td>▇▄▁▃▄▃▃▄▅▄▄▅▅▆▆▇█▇▆▇▆▆▅▅▄▃▃▄▄▅▄▄▄▅▅▅▄▄▄▅</td></tr><tr><td>evaluating/validation_error2</td><td>█▄▄▂▂▂▁▂▁▂▁▁▁▁▁▁▁▁▂▁▁▁▁▁▁▁▁▁▁▁▁▁▁▁▁▁▁▁▁▁</td></tr><tr><td>evaluating/validation_error3</td><td>█▂▁▂▂▁▁▂▁▁▁▂▂▁▁▁▁▁▂▁▁▁▁▂▁▁▁▁▁▁▁▁▁▁▁▁▁▁▁▁</td></tr><tr><td>evaluating/validation_error4</td><td>█▄▄▄▄▃▃▃▂▂▂▂▂▃▂▂▁▂▂▂▁▁▂▂▂▁▁▂▁▁▁▂▂▁▁▁▁▂▁▁</td></tr><tr><td>testing/delta0</td><td>▃▃▅▅▃▃▃▂▃▄▅▃▅▃▃█▄▄▂▄▅▄▄▅▄▄▃▃▃▃▄▄▅▄▅▁▆▃▄▄</td></tr><tr><td>testing/delta1</td><td>▄▄█▆█▃▃▁▄▄▆▃▅▄▄▇▅▆▆▄▄▄▄▄▄▄▄▃▄▇▄▄▅▅▆▃▆▄▄▆</td></tr><tr><td>testing/delta2</td><td>▅▅▇▄█▅▅▁▄▄▄▆▄▄▄▂▄▆▅▅▅▄▄▄▄▅▅▅▅▃▄▄▅▄▃▅▅▅▅▃</td></tr><tr><td>testing/delta3</td><td>▂▂▁▃▃▂▂▄▂▂▅▁▄▃▃█▃▂▃▂▃▂▁▂▃▂▂▂▂▂▂▂▁▃▄▂▂▂▂▃</td></tr><tr><td>testing/delta4</td><td>▆▃▃▃█▇▃▇▅▅▃▄▇▇▄▃▃▄▃▆▆▃▄▃▃▆▇▃▇▅▃▃▆▃▃█▁▆▄▆</td></tr><tr><td>testing/deltaReal0</td><td>▃▃▅▅▃▃▃▂▃▄▅▃▅▃▃█▄▄▂▄▅▄▄▅▄▄▃▃▃▃▄▄▅▄▅▁▆▃▄▄</td></tr><tr><td>testing/deltaReal1</td><td>▄▄█▆█▃▃▁▄▄▆▃▅▄▄▇▅▆▆▄▄▄▄▄▄▄▄▃▄▇▄▄▅▅▆▃▆▄▄▆</td></tr><tr><td>testing/deltaReal2</td><td>▅▅█▅█▆▅▁▅▅▄▆▄▅▅▂▄▆▅▅▅▅▄▅▅▅▅▆▅▃▄▅▆▅▄▅▅▅▅▄</td></tr><tr><td>testing/deltaReal3</td><td>▂▂▁▃▄▂▂▄▂▂▅▁▅▃▃█▃▂▃▃▃▂▁▂▃▂▃▂▃▂▂▂▁▃▄▂▂▂▂▃</td></tr><tr><td>testing/deltaReal4</td><td>▅▃▁▁█▆▂▅▄▄▃▃▆▅▃▃▁▂▃▄▄▃▃▂▃▄▆▃▅▄▃▃▅▂▁█▁▅▃▄</td></tr><tr><td>testing/error0</td><td>▁▁▁▁▅█▂▁▁▂▁▂▁▁▁▁▁▂▁▁▁▂▂▁▂▂█▂▄▁▂▁▁▃▁▁▁▁▃▁</td></tr><tr><td>testing/error1</td><td>▂▂▁▁▁▁▁▁█▁▁▁▁▂▃▂▁▁▁▁▅▂▁▁▃▁▆▁▅▁▁▂▁▁▁▁▂▂▄▁</td></tr><tr><td>testing/error2</td><td>▁▁▁▂▁▁▁▁▁▁▁▁▁▁▁▁▁▁▁█▁▁▁▂▁▁▄▁▁▁▁▁▁▂▁▁▂▁▁▁</td></tr><tr><td>testing/error3</td><td>▁▁▁▁▁▂▂▁▂▂▁▁▁▁▂▂▁▁▁█▂▁▁▁▂▂▅▂▂▁▁▁▁▂▁▁▂▁▄▁</td></tr><tr><td>testing/error4</td><td>▃▂▂▂▂▂▁▂▂▂▁▁▂▁▂▃▂▂▄▃▂▂▁▁▆▅▁▂▁▂▂▃▁▁▂▂▂▂▃█</td></tr><tr><td>testing/total_test_step</td><td>▁▁▁▁▂▂▂▂▂▂▃▃▃▃▄▄▄▄▄▄▅▅▅▅▅▅▆▆▆▆▇▇▇▇▇▇████</td></tr><tr><td>train/total_epoch</td><td>▁▁▁▂▂▂▂▂▂▃▃▃▃▃▄▄▄▄▄▄▅▅▅▅▅▅▆▆▆▆▆▇▇▇▇▇▇███</td></tr><tr><td>training/loss</td><td>█▅▄▃▃▂▂▂▂▂▂▂▂▁▁▁▁▁▁▁▁▁▁▁▁▁▁▁▁▁▁▁▁▁▁▁▁▁▁▁</td></tr></table><br/></div><div class=\"wandb-col\"><h3>Run summary:</h3><br/><table class=\"wandb\"><tr><td>evaluating/validation_error0</td><td>0.00136</td></tr><tr><td>evaluating/validation_error1</td><td>1.26019</td></tr><tr><td>evaluating/validation_error2</td><td>0.00474</td></tr><tr><td>evaluating/validation_error3</td><td>0.00501</td></tr><tr><td>evaluating/validation_error4</td><td>0.04989</td></tr><tr><td>testing/delta0</td><td>0.00621</td></tr><tr><td>testing/delta1</td><td>0.01183</td></tr><tr><td>testing/delta2</td><td>-0.00632</td></tr><tr><td>testing/delta3</td><td>0.00183</td></tr><tr><td>testing/delta4</td><td>-1.35154</td></tr><tr><td>testing/deltaReal0</td><td>0.00563</td></tr><tr><td>testing/deltaReal1</td><td>0.01197</td></tr><tr><td>testing/deltaReal2</td><td>-0.0061</td></tr><tr><td>testing/deltaReal3</td><td>0.00352</td></tr><tr><td>testing/deltaReal4</td><td>-0.65282</td></tr><tr><td>testing/error0</td><td>0.10311</td></tr><tr><td>testing/error1</td><td>0.01136</td></tr><tr><td>testing/error2</td><td>0.0359</td></tr><tr><td>testing/error3</td><td>0.48046</td></tr><tr><td>testing/error4</td><td>1.07032</td></tr><tr><td>testing/total_test_step</td><td>2000</td></tr><tr><td>train/total_epoch</td><td>1000</td></tr><tr><td>training/loss</td><td>0.00022</td></tr></table><br/></div></div>"
      ],
      "text/plain": [
       "<IPython.core.display.HTML object>"
      ]
     },
     "metadata": {},
     "output_type": "display_data"
    },
    {
     "data": {
      "text/html": [
       " View run <strong style=\"color:#cdcd00\">clear-blaze-45</strong> at: <a href='https://wandb.ai/randyxiao/car-dynamics/runs/egwetgf1' target=\"_blank\">https://wandb.ai/randyxiao/car-dynamics/runs/egwetgf1</a><br/>Synced 6 W&B file(s), 0 media file(s), 0 artifact file(s) and 0 other file(s)"
      ],
      "text/plain": [
       "<IPython.core.display.HTML object>"
      ]
     },
     "metadata": {},
     "output_type": "display_data"
    },
    {
     "data": {
      "text/html": [
       "Find logs at: <code>./wandb/run-20231021_164934-egwetgf1/logs</code>"
      ],
      "text/plain": [
       "<IPython.core.display.HTML object>"
      ]
     },
     "metadata": {},
     "output_type": "display_data"
    },
    {
     "data": {
      "text/html": [
       "Successfully finished last run (ID:egwetgf1). Initializing new run:<br/>"
      ],
      "text/plain": [
       "<IPython.core.display.HTML object>"
      ]
     },
     "metadata": {},
     "output_type": "display_data"
    },
    {
     "data": {
      "application/vnd.jupyter.widget-view+json": {
       "model_id": "daa9f3b077c54fad8698e4e41f75b073",
       "version_major": 2,
       "version_minor": 0
      },
      "text/plain": [
       "VBox(children=(Label(value='Waiting for wandb.init()...\\r'), FloatProgress(value=0.01111276125561239, max=1.0)…"
      ]
     },
     "metadata": {},
     "output_type": "display_data"
    },
    {
     "data": {
      "text/html": [
       "Tracking run with wandb version 0.15.12"
      ],
      "text/plain": [
       "<IPython.core.display.HTML object>"
      ]
     },
     "metadata": {},
     "output_type": "display_data"
    },
    {
     "data": {
      "text/html": [
       "Run data is saved locally in <code>/home/wenli/car_dynamics/wandb/run-20231021_181159-b9a1vgmt</code>"
      ],
      "text/plain": [
       "<IPython.core.display.HTML object>"
      ]
     },
     "metadata": {},
     "output_type": "display_data"
    },
    {
     "data": {
      "text/html": [
       "Syncing run <strong><a href='https://wandb.ai/randyxiao/car-dynamics/runs/b9a1vgmt' target=\"_blank\">ruby-night-46</a></strong> to <a href='https://wandb.ai/randyxiao/car-dynamics' target=\"_blank\">Weights & Biases</a> (<a href='https://wandb.me/run' target=\"_blank\">docs</a>)<br/>"
      ],
      "text/plain": [
       "<IPython.core.display.HTML object>"
      ]
     },
     "metadata": {},
     "output_type": "display_data"
    },
    {
     "data": {
      "text/html": [
       " View project at <a href='https://wandb.ai/randyxiao/car-dynamics' target=\"_blank\">https://wandb.ai/randyxiao/car-dynamics</a>"
      ],
      "text/plain": [
       "<IPython.core.display.HTML object>"
      ]
     },
     "metadata": {},
     "output_type": "display_data"
    },
    {
     "data": {
      "text/html": [
       " View run at <a href='https://wandb.ai/randyxiao/car-dynamics/runs/b9a1vgmt' target=\"_blank\">https://wandb.ai/randyxiao/car-dynamics/runs/b9a1vgmt</a>"
      ],
      "text/plain": [
       "<IPython.core.display.HTML object>"
      ]
     },
     "metadata": {},
     "output_type": "display_data"
    },
    {
     "data": {
      "application/vnd.jupyter.widget-view+json": {
       "model_id": "51f418f105f64d858d8d8a2a74393b75",
       "version_major": 2,
       "version_minor": 0
      },
      "text/plain": [
       "Output()"
      ]
     },
     "metadata": {},
     "output_type": "display_data"
    },
    {
     "name": "stdout",
     "output_type": "stream",
     "text": [
      "num data: 1000000, data_chunk: 10000\n"
     ]
    },
    {
     "data": {
      "text/html": [
       "<pre style=\"white-space:pre;overflow-x:auto;line-height:normal;font-family:Menlo,'DejaVu Sans Mono',consolas,'Courier New',monospace\"></pre>\n"
      ],
      "text/plain": []
     },
     "metadata": {},
     "output_type": "display_data"
    },
    {
     "data": {
      "text/html": [
       "<pre style=\"white-space:pre;overflow-x:auto;line-height:normal;font-family:Menlo,'DejaVu Sans Mono',consolas,'Courier New',monospace\">\n",
       "</pre>\n"
      ],
      "text/plain": [
       "\n"
      ]
     },
     "metadata": {},
     "output_type": "display_data"
    },
    {
     "name": "stdout",
     "output_type": "stream",
     "text": [
      "data size 1000000 cnt 1000000\n",
      "\u001b[34m[INFO] Create path:dataset/2023-10-21-18:11:59\u001b[0m\n",
      "\u001b[34m[INFO] On_train_start, data size: 1000000\u001b[0m\n"
     ]
    },
    {
     "data": {
      "application/vnd.jupyter.widget-view+json": {
       "model_id": "737231e538dd4f778d1a66aa60b599f0",
       "version_major": 2,
       "version_minor": 0
      },
      "text/plain": [
       "Output()"
      ]
     },
     "metadata": {},
     "output_type": "display_data"
    },
    {
     "data": {
      "text/html": [
       "<pre style=\"white-space:pre;overflow-x:auto;line-height:normal;font-family:Menlo,'DejaVu Sans Mono',consolas,'Courier New',monospace\"></pre>\n"
      ],
      "text/plain": []
     },
     "metadata": {},
     "output_type": "display_data"
    },
    {
     "data": {
      "text/html": [
       "<pre style=\"white-space:pre;overflow-x:auto;line-height:normal;font-family:Menlo,'DejaVu Sans Mono',consolas,'Courier New',monospace\">\n",
       "</pre>\n"
      ],
      "text/plain": [
       "\n"
      ]
     },
     "metadata": {},
     "output_type": "display_data"
    },
    {
     "data": {
      "application/vnd.jupyter.widget-view+json": {
       "model_id": "7a8f2ff7f25941b89809f61d474d65ae",
       "version_major": 2,
       "version_minor": 0
      },
      "text/plain": [
       "Output()"
      ]
     },
     "metadata": {},
     "output_type": "display_data"
    },
    {
     "name": "stderr",
     "output_type": "stream",
     "text": [
      "/home/wenli/miniforge3/envs/safeDPA/lib/python3.8/site-packages/gym/spaces/box.py:127: UserWarning: \u001b[33mWARN: Box bound precision lowered by casting to float32\u001b[0m\n",
      "  logger.warn(f\"Box bound precision lowered by casting to {self.dtype}\")\n"
     ]
    },
    {
     "data": {
      "text/html": [
       "<pre style=\"white-space:pre;overflow-x:auto;line-height:normal;font-family:Menlo,'DejaVu Sans Mono',consolas,'Courier New',monospace\"></pre>\n"
      ],
      "text/plain": []
     },
     "metadata": {},
     "output_type": "display_data"
    },
    {
     "data": {
      "text/html": [
       "<pre style=\"white-space:pre;overflow-x:auto;line-height:normal;font-family:Menlo,'DejaVu Sans Mono',consolas,'Courier New',monospace\">\n",
       "</pre>\n"
      ],
      "text/plain": [
       "\n"
      ]
     },
     "metadata": {},
     "output_type": "display_data"
    }
   ],
   "source": [
    "ray.init(ignore_reinit_error=True, local_mode=DEBUG)\n",
    "\n",
    "print(\"device\", jax.devices())\n",
    "\n",
    "NUM_DATA = 1_000_000\n",
    "# NUM_DATA = 1_0_000\n",
    "DATA_CHUNK = 10000\n",
    "DATA_DIR = './'\n",
    "INPUT_DIMS = 11\n",
    "OUTPUT_DIMS = 5\n",
    "ACTION_DIMS = 2\n",
    "REPR_DIMS = 2 \n",
    "BATCH_SIZE = 10_000\n",
    "ENV_DIMS=4\n",
    "\n",
    "now = datetime.now()\n",
    "FILE_NAME = f'{now.strftime(\"%Y\")}-{now.strftime(\"%m\")}-{now.strftime(\"%d\")}-{now.strftime(\"%H:%M:%S\")}'\n",
    "DYN_MODEL_DIR = f'models/dyn_model/{FILE_NAME}/'\n",
    "\n",
    "\n",
    "DYN_DATA_DIR = f'dataset/{FILE_NAME}'\n",
    "\n",
    "def env_gen():\n",
    "    # return make_env('point-wind-v0')\n",
    "    # return make_env('point-reach-goal-multi-v3', wind_list=WIND_LIST)\n",
    "    return make_env('car-base-single')\n",
    "\n",
    "\n",
    "run = wandb.init(\n",
    "    project=\"car-dynamics\",\n",
    "    config= {\n",
    "        'mode': 'dynamics',\n",
    "        'num_data': NUM_DATA,\n",
    "        'dyn_model_dir': DYN_MODEL_DIR,\n",
    "        'dyn_data_dir': DYN_DATA_DIR,\n",
    "        'single_env': True,\n",
    "    },\n",
    "    mode = \"disabled\" if DEBUG else \"online\",\n",
    ")\n",
    "\n",
    "key1 = random.PRNGKey(123)\n",
    "# dyn_model = EncDynamics(INPUT_DIMS, OUTPUT_DIMS, ACTION_DIMS, key1,\n",
    "#         env_dims=ENV_DIMS, model_dir=DYN_MODEL_DIR,DEBUG=DEBUG,batch_size=BATCH_SIZE, repr_dims=REPR_DIMS)\n",
    "\n",
    "fix_model = VanillaDynamics(INPUT_DIMS, OUTPUT_DIMS, ACTION_DIMS, \n",
    "                            key1, model_dir=DYN_MODEL_DIR,DEBUG=DEBUG,\n",
    "                            batch_size=BATCH_SIZE, env_dims=ENV_DIMS)\n",
    "\n",
    "fix_learner = DynamicsLearning(fix_model, env_gen, run, DEBUG=DEBUG)\n",
    "fix_learner.learn(num_data = NUM_DATA, train_epoches=1000, evaluate_episodes=20, data_chunk=DATA_CHUNK, save_data_dir=DYN_DATA_DIR)\n"
   ]
  },
  {
   "cell_type": "markdown",
   "id": "3e8611dc-2778-49b2-922b-5cbccf0f0acf",
   "metadata": {},
   "source": [
    "## Multi-Env"
   ]
  },
  {
   "cell_type": "code",
   "execution_count": 2,
   "id": "d7ffc7d9-4ae0-4c2d-a395-d5a3bd552766",
   "metadata": {},
   "outputs": [],
   "source": [
    "import ray\n",
    "import wandb\n",
    "import torch\n",
    "from env_utils import make_env\n",
    "from modules.dynamics import DynamicsLearning, VanillaDynamics, EncDynamics\n",
    "from jax import random\n",
    "import jax\n",
    "from datetime import datetime\n",
    "import string\n",
    "%load_ext autoreload\n",
    "%autoreload 2\n",
    "    \n",
    "DEBUG=False"
   ]
  },
  {
   "cell_type": "code",
   "execution_count": 3,
   "id": "cb8f81d5-d347-4847-80b6-be80e419cb39",
   "metadata": {},
   "outputs": [
    {
     "data": {
      "text/plain": [
       "'0.4.13'"
      ]
     },
     "execution_count": 3,
     "metadata": {},
     "output_type": "execute_result"
    }
   ],
   "source": [
    "jax.__version__"
   ]
  },
  {
   "cell_type": "code",
   "execution_count": null,
   "id": "3d465109-bd3c-4587-b372-b1049289fe39",
   "metadata": {},
   "outputs": [],
   "source": []
  },
  {
   "cell_type": "code",
   "execution_count": 11,
   "id": "3c3a9f03-9b62-4f03-9352-7c199ede7721",
   "metadata": {},
   "outputs": [
    {
     "name": "stdout",
     "output_type": "stream",
     "text": [
      "['dataset', '1123', 'data.npz']\n"
     ]
    }
   ],
   "source": [
    "import os\n",
    "directory = 'dataset/1123/data.npz'\n",
    "paths = directory.split('/')\n",
    "print(paths)\n",
    "if not os.path.exists(os.path.join(paths[:-1])):\n",
    "    os.makedirs(directory)"
   ]
  },
  {
   "cell_type": "code",
   "execution_count": 15,
   "id": "b508f4b5-5f7c-4498-912a-195341dd15a3",
   "metadata": {},
   "outputs": [
    {
     "name": "stderr",
     "output_type": "stream",
     "text": [
      "2023-10-21 12:01:14,314\tINFO worker.py:1476 -- Calling ray.init() again after it has already been called.\n"
     ]
    },
    {
     "name": "stdout",
     "output_type": "stream",
     "text": [
      "device [gpu(id=0)]\n"
     ]
    },
    {
     "data": {
      "text/html": [
       "Finishing last run (ID:aash6abr) before initializing another..."
      ],
      "text/plain": [
       "<IPython.core.display.HTML object>"
      ]
     },
     "metadata": {},
     "output_type": "display_data"
    },
    {
     "data": {
      "text/html": [
       "Waiting for W&B process to finish... <strong style=\"color:green\">(success).</strong>"
      ],
      "text/plain": [
       "<IPython.core.display.HTML object>"
      ]
     },
     "metadata": {},
     "output_type": "display_data"
    },
    {
     "name": "stderr",
     "output_type": "stream",
     "text": [
      "wandb: WARNING Source type is set to 'repo' but some required information is missing from the environment. A job will not be created from this run. See https://docs.wandb.ai/guides/launch/create-job\n"
     ]
    },
    {
     "data": {
      "application/vnd.jupyter.widget-view+json": {
       "model_id": "c9526fe685e84b15be99fca52efcaa3c",
       "version_major": 2,
       "version_minor": 0
      },
      "text/plain": [
       "VBox(children=(Label(value='0.004 MB of 0.004 MB uploaded (0.000 MB deduped)\\r'), FloatProgress(value=1.0, max…"
      ]
     },
     "metadata": {},
     "output_type": "display_data"
    },
    {
     "data": {
      "text/html": [
       " View run <strong style=\"color:#cdcd00\">pretty-jazz-39</strong> at: <a href='https://wandb.ai/randyxiao/car-dynamics/runs/aash6abr' target=\"_blank\">https://wandb.ai/randyxiao/car-dynamics/runs/aash6abr</a><br/>Synced 6 W&B file(s), 0 media file(s), 0 artifact file(s) and 0 other file(s)"
      ],
      "text/plain": [
       "<IPython.core.display.HTML object>"
      ]
     },
     "metadata": {},
     "output_type": "display_data"
    },
    {
     "data": {
      "text/html": [
       "Find logs at: <code>./wandb/run-20231021_120021-aash6abr/logs</code>"
      ],
      "text/plain": [
       "<IPython.core.display.HTML object>"
      ]
     },
     "metadata": {},
     "output_type": "display_data"
    },
    {
     "data": {
      "text/html": [
       "Successfully finished last run (ID:aash6abr). Initializing new run:<br/>"
      ],
      "text/plain": [
       "<IPython.core.display.HTML object>"
      ]
     },
     "metadata": {},
     "output_type": "display_data"
    },
    {
     "data": {
      "application/vnd.jupyter.widget-view+json": {
       "model_id": "4be672ff21dd4583b71901245f0495f7",
       "version_major": 2,
       "version_minor": 0
      },
      "text/plain": [
       "VBox(children=(Label(value='Waiting for wandb.init()...\\r'), FloatProgress(value=0.011112471644042266, max=1.0…"
      ]
     },
     "metadata": {},
     "output_type": "display_data"
    },
    {
     "data": {
      "text/html": [
       "Tracking run with wandb version 0.15.12"
      ],
      "text/plain": [
       "<IPython.core.display.HTML object>"
      ]
     },
     "metadata": {},
     "output_type": "display_data"
    },
    {
     "data": {
      "text/html": [
       "Run data is saved locally in <code>/home/wenli/car_dynamics/wandb/run-20231021_120114-pbk1630x</code>"
      ],
      "text/plain": [
       "<IPython.core.display.HTML object>"
      ]
     },
     "metadata": {},
     "output_type": "display_data"
    },
    {
     "data": {
      "text/html": [
       "Syncing run <strong><a href='https://wandb.ai/randyxiao/car-dynamics/runs/pbk1630x' target=\"_blank\">flowing-hill-40</a></strong> to <a href='https://wandb.ai/randyxiao/car-dynamics' target=\"_blank\">Weights & Biases</a> (<a href='https://wandb.me/run' target=\"_blank\">docs</a>)<br/>"
      ],
      "text/plain": [
       "<IPython.core.display.HTML object>"
      ]
     },
     "metadata": {},
     "output_type": "display_data"
    },
    {
     "data": {
      "text/html": [
       " View project at <a href='https://wandb.ai/randyxiao/car-dynamics' target=\"_blank\">https://wandb.ai/randyxiao/car-dynamics</a>"
      ],
      "text/plain": [
       "<IPython.core.display.HTML object>"
      ]
     },
     "metadata": {},
     "output_type": "display_data"
    },
    {
     "data": {
      "text/html": [
       " View run at <a href='https://wandb.ai/randyxiao/car-dynamics/runs/pbk1630x' target=\"_blank\">https://wandb.ai/randyxiao/car-dynamics/runs/pbk1630x</a>"
      ],
      "text/plain": [
       "<IPython.core.display.HTML object>"
      ]
     },
     "metadata": {},
     "output_type": "display_data"
    },
    {
     "data": {
      "application/vnd.jupyter.widget-view+json": {
       "model_id": "bc936502887a405abd8b03335e4ee4e5",
       "version_major": 2,
       "version_minor": 0
      },
      "text/plain": [
       "Output()"
      ]
     },
     "metadata": {},
     "output_type": "display_data"
    },
    {
     "name": "stdout",
     "output_type": "stream",
     "text": [
      "num data: 10000000, data_chunk: 10000\n"
     ]
    },
    {
     "data": {
      "text/html": [
       "<pre style=\"white-space:pre;overflow-x:auto;line-height:normal;font-family:Menlo,'DejaVu Sans Mono',consolas,'Courier New',monospace\"></pre>\n"
      ],
      "text/plain": []
     },
     "metadata": {},
     "output_type": "display_data"
    },
    {
     "data": {
      "text/html": [
       "<pre style=\"white-space:pre;overflow-x:auto;line-height:normal;font-family:Menlo,'DejaVu Sans Mono',consolas,'Courier New',monospace\">\n",
       "</pre>\n"
      ],
      "text/plain": [
       "\n"
      ]
     },
     "metadata": {},
     "output_type": "display_data"
    },
    {
     "name": "stdout",
     "output_type": "stream",
     "text": [
      "data size 10000000 cnt 10000000\n",
      "\u001b[34m[INFO] Create path:dataset/2023-10-21-12:01:14\u001b[0m\n",
      "\u001b[34m[INFO] On_train_start, data size: 10000000\u001b[0m\n"
     ]
    },
    {
     "data": {
      "application/vnd.jupyter.widget-view+json": {
       "model_id": "747161d37db24131bbf3f2a170053fa2",
       "version_major": 2,
       "version_minor": 0
      },
      "text/plain": [
       "Output()"
      ]
     },
     "metadata": {},
     "output_type": "display_data"
    },
    {
     "data": {
      "text/html": [
       "<pre style=\"white-space:pre;overflow-x:auto;line-height:normal;font-family:Menlo,'DejaVu Sans Mono',consolas,'Courier New',monospace\"></pre>\n"
      ],
      "text/plain": []
     },
     "metadata": {},
     "output_type": "display_data"
    },
    {
     "data": {
      "text/html": [
       "<pre style=\"white-space:pre;overflow-x:auto;line-height:normal;font-family:Menlo,'DejaVu Sans Mono',consolas,'Courier New',monospace\">\n",
       "</pre>\n"
      ],
      "text/plain": [
       "\n"
      ]
     },
     "metadata": {},
     "output_type": "display_data"
    },
    {
     "data": {
      "application/vnd.jupyter.widget-view+json": {
       "model_id": "f8d809d6cf524653b7f6df3ac394cb06",
       "version_major": 2,
       "version_minor": 0
      },
      "text/plain": [
       "Output()"
      ]
     },
     "metadata": {},
     "output_type": "display_data"
    },
    {
     "name": "stderr",
     "output_type": "stream",
     "text": [
      "/home/wenli/miniforge3/envs/safeDPA/lib/python3.8/site-packages/gym/spaces/box.py:127: UserWarning: \u001b[33mWARN: Box bound precision lowered by casting to float32\u001b[0m\n",
      "  logger.warn(f\"Box bound precision lowered by casting to {self.dtype}\")\n"
     ]
    },
    {
     "data": {
      "text/html": [
       "<pre style=\"white-space:pre;overflow-x:auto;line-height:normal;font-family:Menlo,'DejaVu Sans Mono',consolas,'Courier New',monospace\"></pre>\n"
      ],
      "text/plain": []
     },
     "metadata": {},
     "output_type": "display_data"
    },
    {
     "data": {
      "text/html": [
       "<pre style=\"white-space:pre;overflow-x:auto;line-height:normal;font-family:Menlo,'DejaVu Sans Mono',consolas,'Courier New',monospace\">\n",
       "</pre>\n"
      ],
      "text/plain": [
       "\n"
      ]
     },
     "metadata": {},
     "output_type": "display_data"
    }
   ],
   "source": [
    "ray.init(ignore_reinit_error=True, local_mode=DEBUG)\n",
    "\n",
    "print(\"device\", jax.devices())\n",
    "\n",
    "TASK = 'stage-3'\n",
    "NUM_DATA = 10_000_000\n",
    "# NUM_DATA = 1_0_000\n",
    "DATA_CHUNK = 10000\n",
    "DATA_DIR = './'\n",
    "INPUT_DIMS = 11\n",
    "OUTPUT_DIMS = 5\n",
    "ACTION_DIMS = 2\n",
    "REPR_DIMS = 2 \n",
    "BATCH_SIZE = 10_000\n",
    "ENV_DIMS=4\n",
    "\n",
    "now = datetime.now()\n",
    "FILE_NAME = f'{now.strftime(\"%Y\")}-{now.strftime(\"%m\")}-{now.strftime(\"%d\")}-{now.strftime(\"%H:%M:%S\")}'\n",
    "DYN_MODEL_DIR = f'models/dyn_model/{FILE_NAME}/'\n",
    "\n",
    "\n",
    "DYN_DATA_DIR = f'dataset/{FILE_NAME}'\n",
    "\n",
    "def env_gen():\n",
    "    # return make_env('point-wind-v0')\n",
    "    # return make_env('point-reach-goal-multi-v3', wind_list=WIND_LIST)\n",
    "    return make_env('car-base')\n",
    "\n",
    "\n",
    "run = wandb.init(\n",
    "    project=\"car-dynamics\",\n",
    "    config= {\n",
    "        'mode': 'dynamics',\n",
    "        'num_data': NUM_DATA,\n",
    "        'dyn_model_dir': DYN_MODEL_DIR,\n",
    "        'dyn_data_dir': DYN_DATA_DIR,\n",
    "    },\n",
    "    mode = \"disabled\" if DEBUG else \"online\",\n",
    ")\n",
    "\n",
    "key1 = random.PRNGKey(123)\n",
    "dyn_model = EncDynamics(INPUT_DIMS, OUTPUT_DIMS, ACTION_DIMS, key1,\n",
    "        env_dims=ENV_DIMS, model_dir=DYN_MODEL_DIR,DEBUG=DEBUG,batch_size=BATCH_SIZE, repr_dims=REPR_DIMS)\n",
    "# dyn_model = VanillaDynamics(INPUT_DIMS, OUTPUT_DIMS, ACTION_DIMS, \n",
    "#                                 key1, model_dir=DYN_MODEL_DIR,DEBUG=DEBUG,batch_size=BATCH_SIZE)\n",
    "dyn_learner = DynamicsLearning(dyn_model, env_gen, run, DEBUG=DEBUG)\n",
    "# dyn_learner.learn(num_data = NUM_DATA, evaluate_episodes=10, train_epoches=1000, )\n",
    "dyn_learner.learn(evaluate_episodes=10, train_epoches=1000, num_data=NUM_DATA,data_chunk=DATA_CHUNK, save_data_dir=DYN_DATA_DIR)\n"
   ]
  },
  {
   "cell_type": "code",
   "execution_count": null,
   "id": "5964029b-58c1-435f-9917-82f57b514203",
   "metadata": {},
   "outputs": [],
   "source": []
  }
 ],
 "metadata": {
  "kernelspec": {
   "display_name": "Python 3 (ipykernel)",
   "language": "python",
   "name": "python3"
  },
  "language_info": {
   "codemirror_mode": {
    "name": "ipython",
    "version": 3
   },
   "file_extension": ".py",
   "mimetype": "text/x-python",
   "name": "python",
   "nbconvert_exporter": "python",
   "pygments_lexer": "ipython3",
   "version": "3.8.18"
  }
 },
 "nbformat": 4,
 "nbformat_minor": 5
}
