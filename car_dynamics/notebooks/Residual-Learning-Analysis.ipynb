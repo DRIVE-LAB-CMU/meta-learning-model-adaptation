{
 "cells": [
  {
   "cell_type": "markdown",
   "id": "a1851b02-36ec-4b6c-94b2-d4033cdad0fa",
   "metadata": {},
   "source": [
    "# Prerequisite"
   ]
  },
  {
   "cell_type": "code",
   "execution_count": 2,
   "id": "f34353b3-0803-46bb-bfc2-158d02123124",
   "metadata": {},
   "outputs": [
    {
     "name": "stdout",
     "output_type": "stream",
     "text": [
      "/home/wenli/car_dynamics\n"
     ]
    }
   ],
   "source": [
    "%cd .."
   ]
  },
  {
   "cell_type": "code",
   "execution_count": 3,
   "id": "6bab8924-b2a1-42f6-b4b1-e41109ba6fc0",
   "metadata": {},
   "outputs": [],
   "source": [
    "import os\n",
    "import numpy as np"
   ]
  },
  {
   "cell_type": "markdown",
   "id": "f00405e0-b544-46f6-98f6-fbfa7b4be4b0",
   "metadata": {},
   "source": [
    "# Single-Env"
   ]
  },
  {
   "cell_type": "markdown",
   "id": "0c5a87b5-2f81-4a67-a2ad-c2fe1e2123e8",
   "metadata": {},
   "source": [
    "## Learn f, g"
   ]
  },
  {
   "cell_type": "markdown",
   "id": "a0a1fe9c-0ecb-4bc7-bbcd-a0f4ec678308",
   "metadata": {},
   "source": [
    "### Pre-train model in simulation"
   ]
  },
  {
   "cell_type": "code",
   "execution_count": 5,
   "id": "04cdb957-9427-4569-a035-e8253c9cfeb7",
   "metadata": {},
   "outputs": [],
   "source": [
    "import ray\n",
    "import wandb\n",
    "import torch\n",
    "from env_utils import make_env\n",
    "from modules.dynamics import DynamicsLearning, VanillaDynamics, EncDynamics\n",
    "from jax import random\n",
    "import jax\n",
    "from datetime import datetime\n",
    "import string\n",
    "%load_ext autoreload\n",
    "%autoreload 2\n",
    "    \n",
    "DEBUG=False"
   ]
  },
  {
   "cell_type": "code",
   "execution_count": null,
   "id": "f12e78e4-8bc9-4a63-a465-0f5c841fa12a",
   "metadata": {},
   "outputs": [],
   "source": [
    "ray.init(ignore_reinit_error=True, local_mode=DEBUG)\n",
    "\n",
    "print(\"device\", jax.devices())\n",
    "\n",
    "NUM_DATA = 10_000_000\n",
    "# NUM_DATA = 1_0_000\n",
    "DATA_CHUNK = 10000\n",
    "DATA_DIR = './'\n",
    "INPUT_DIMS = 11\n",
    "OUTPUT_DIMS = 5\n",
    "ACTION_DIMS = 2\n",
    "REPR_DIMS = 2 \n",
    "BATCH_SIZE = 10_000\n",
    "ENV_DIMS=4\n",
    "\n",
    "now = datetime.now()\n",
    "FILE_NAME = f'{now.strftime(\"%Y\")}-{now.strftime(\"%m\")}-{now.strftime(\"%d\")}-{now.strftime(\"%H:%M:%S\")}'\n",
    "DYN_MODEL_DIR = f'models/dyn_model/{FILE_NAME}/'\n",
    "\n",
    "\n",
    "# DYN_DATA_DIR = f'dataset/{FILE_NAME}'\n",
    "DYN_DATA_DIR = 'dataset/2023-10-21-18:25:06'\n",
    "\n",
    "def env_gen():\n",
    "    # return make_env('point-wind-v0')\n",
    "    # return make_env('point-reach-goal-multi-v3', wind_list=WIND_LIST)\n",
    "    return make_env('car-base-single')\n",
    "\n",
    "\n",
    "run = wandb.init(\n",
    "    project=\"car-dynamics\",\n",
    "    config= {\n",
    "        'mode': 'dynamics',\n",
    "        'num_data': NUM_DATA,\n",
    "        'dyn_model_dir': DYN_MODEL_DIR,\n",
    "        'dyn_data_dir': DYN_DATA_DIR,\n",
    "        'single_env': True,\n",
    "    },\n",
    "    mode = \"disabled\" if DEBUG else \"online\",\n",
    ")\n",
    "\n",
    "key1 = random.PRNGKey(123)\n",
    "# dyn_model = EncDynamics(INPUT_DIMS, OUTPUT_DIMS, ACTION_DIMS, key1,\n",
    "#         env_dims=ENV_DIMS, model_dir=DYN_MODEL_DIR,DEBUG=DEBUG,batch_size=BATCH_SIZE, repr_dims=REPR_DIMS)\n",
    "\n",
    "fix_model = VanillaDynamics(INPUT_DIMS, OUTPUT_DIMS, ACTION_DIMS, \n",
    "                            key1, model_dir=DYN_MODEL_DIR,DEBUG=DEBUG,\n",
    "                            batch_size=BATCH_SIZE, env_dims=ENV_DIMS)\n",
    "\n",
    "fix_learner = DynamicsLearning(fix_model, env_gen, run, DEBUG=DEBUG)\n",
    "fix_learner.learn(num_data = NUM_DATA, train_epoches=1000, evaluate_episodes=20, data_chunk=DATA_CHUNK, \n",
    "                  # save_data_dir=DYN_DATA_DIR)\n",
    "                  load_data={'file_name':DYN_DATA_DIR})\n"
   ]
  },
  {
   "cell_type": "markdown",
   "id": "64c635bb-1705-4b3c-8447-48a0c29bf257",
   "metadata": {},
   "source": [
    "### Fine-tune with real-data"
   ]
  },
  {
   "cell_type": "markdown",
   "id": "a2976ca7-4685-4176-8f0c-5cbfd4ab7778",
   "metadata": {},
   "source": [
    "#### prepare real dataset"
   ]
  },
  {
   "cell_type": "code",
   "execution_count": 65,
   "id": "65c18c3e-1d65-4a26-ae20-a689f87889d0",
   "metadata": {},
   "outputs": [],
   "source": [
    "### Create Dataset **FROM REAL-WORLD DATA** ###\n",
    "TUNE_DATA_DIR = './dataset/tune-dataset/'\n",
    "files = os.listdir(TUNE_DATA_DIR)\n",
    "files.sort()\n",
    "\n",
    "data_list = []\n",
    "label_list = []\n",
    "for f in files:\n",
    "    if 'csv' not in f:\n",
    "        continue\n",
    "    real_traj = np.loadtxt(f'{TUNE_DATA_DIR}/{f}',delimiter=',')\n",
    "    #REF: self.frames.append(np.concatenate((state,[goal_x, goal_y], [throttle,str_val, time.time()]),axis=0))\n",
    "    state_list = []\n",
    "    action_list = []\n",
    "    for i, data_i in enumerate(real_traj):\n",
    "        assert data_i.shape[0] == 9\n",
    "        x = data_i[0]\n",
    "        y = data_i[1]\n",
    "        yaw = data_i[2]\n",
    "        yaw_x = np.cos(yaw)\n",
    "        yaw_y = np.sin(yaw)\n",
    "        vel = data_i[3]\n",
    "        a0 = data_i[6]\n",
    "        a1 = data_i[7]\n",
    "        state_list.append(np.array([x,y,yaw_x,yaw_y,vel]))\n",
    "        action_list.append([a0,a1])\n",
    "\n",
    "        if i > 0:\n",
    "            data_list.append(np.concatenate((state_list[i-1], [7., .02, .34, 5.], action_list[i-1])))\n",
    "            label_list.append(state_list[i] - state_list[i-1])\n",
    "\n",
    "data_list = np.array(data_list)\n",
    "label_list = np.array(label_list)\n",
    "\n",
    "data_size = data_list.shape[0]\n",
    "\n",
    "## Shuffle, ortherwise there's overfitting problem\n",
    "idxs = list(range(data_size))\n",
    "np.random.shuffle(idxs)\n",
    "\n",
    "tune_train_data, tune_test_data = data_list[idxs[:int(data_size*.7)]], data_list[idxs[int(data_size*.7):]]\n",
    "tune_train_label, tune_test_label = label_list[idxs[:int(data_size*.7)]], label_list[idxs[int(data_size*.7):]]"
   ]
  },
  {
   "cell_type": "markdown",
   "id": "1a9d6ee1-fb78-4e83-89a8-bfbdb4655953",
   "metadata": {},
   "source": [
    "#### Tune model\n",
    "\n",
    "- Also evalutate the performance of the tuned model\n",
    "- Search lr, batch_size, and epoches"
   ]
  },
  {
   "cell_type": "code",
   "execution_count": null,
   "id": "a5ea1413-adce-4396-a532-e53e4500af2f",
   "metadata": {
    "scrolled": true
   },
   "outputs": [],
   "source": [
    "DEBUG = False\n",
    "from modules.data_utils import convert_to_dataset\n",
    "from modules.dynamics import VanillaDynamics\n",
    "from datetime import datetime\n",
    "import wandb\n",
    "from jax import random\n",
    "\n",
    "\n",
    "\n",
    "LEARNING_RATE = 1e-4\n",
    "EPOCHES = 1000\n",
    "BATCH_SIZE = 512\n",
    "for LEARNING_RATE in [1e-4]:\n",
    "    for EPOCHES in [500]:\n",
    "        for BATCH_SIZE in [256]:\n",
    "\n",
    "            now = datetime.now()\n",
    "            FILE_NAME = f'{now.strftime(\"%Y\")}-{now.strftime(\"%m\")}-{now.strftime(\"%d\")}-{now.strftime(\"%H:%M:%S\")}'\n",
    "            TUNE_MODEL_DIR = f'models/tune_model/{FILE_NAME}/'\n",
    "            run = wandb.init(\n",
    "                project=\"car-dynamics\",\n",
    "                config= {\n",
    "                    'mode': 'tune',\n",
    "                    'tune_model_dir': TUNE_MODEL_DIR,\n",
    "                    'single_env': True,\n",
    "                    'lr': LEARNING_RATE,\n",
    "                    'batch_size': BATCH_SIZE,\n",
    "                    'epoches': EPOCHES,\n",
    "                },\n",
    "                mode = \"disabled\" if DEBUG else \"online\",\n",
    "            )\n",
    "            \n",
    "            ## Load learned dynamics model\n",
    "            INPUT_DIMS = 11\n",
    "            OUTPUT_DIMS = 5\n",
    "            ACTION_DIMS = 2\n",
    "            ENV_DIMS=4\n",
    "            FIX_MODEL_DIR = 'models/dyn_model/2023-10-21-19:25:56/'\n",
    "            key1 = random.PRNGKey(123)\n",
    "            fix_model = VanillaDynamics(INPUT_DIMS, OUTPUT_DIMS, ACTION_DIMS, key1,\n",
    "                        env_dims=ENV_DIMS, model_dir=FIX_MODEL_DIR,DEBUG=DEBUG,)\n",
    "            fix_model.load()\n",
    "            \n",
    "            ## Normalize data\n",
    "            data_min = fix_model._data_min\n",
    "            data_max = fix_model._data_max\n",
    "            label_min = fix_model._labels_min\n",
    "            label_max = fix_model._labels_max\n",
    "            tune_train_data = (tune_train_data - data_min) / (data_max - data_min + 1e-8)\n",
    "            tune_train_label = (tune_train_label - label_min) / (label_max - label_min + 1e-8)\n",
    "            \n",
    "            dataset = convert_to_dataset(tune_train_data, tune_train_label)\n",
    "            \n",
    "            print(f\"[INFO] DATA PREPARED. SIZE: {dataset.length}\")\n",
    "            \n",
    "            ## Tunning pipeline\n",
    "            fix_model.tune(run, dataset, epoches=EPOCHES, learning_rate=LEARNING_RATE, \n",
    "                           batch_size=BATCH_SIZE, tune_model_dir=TUNE_MODEL_DIR)\n",
    "            \n",
    "            ## Evaluate the tuned model\n",
    "            y_tune = fix_model.predict(tune_test_data)\n",
    "            error_tune = np.abs(y_tune - tune_test_label)\n",
    "            log_dict = {}\n",
    "            for i in range(5):\n",
    "                log_dict[f'eval_error_mean_{i}'] = np.mean(error_tune[:,i]) \n",
    "                log_dict[f'eval_error_std_{i}'] = np.std(error_tune[:,i]) \n",
    "            run.log(log_dict)"
   ]
  },
  {
   "cell_type": "markdown",
   "id": "793ddf36-c2be-4efd-b46b-4c773f141744",
   "metadata": {},
   "source": [
    "### Evaluate Models (w/,w/o tune on new data)"
   ]
  },
  {
   "cell_type": "markdown",
   "id": "af862fea-82ca-4863-9829-1cbd8bd57243",
   "metadata": {},
   "source": [
    "#### Load models\n",
    "\n",
    "> tuned model learning curve: https://wandb.ai/randyxiao/car-dynamics/runs/ynj4bv9i/overview?workspace=user-randyxiao\n",
    "\n",
    "> w/o tune model learning curve: https://wandb.ai/randyxiao/car-dynamics/runs/b58wteld/overview?workspace=user-randyxiao"
   ]
  },
  {
   "cell_type": "code",
   "execution_count": 67,
   "id": "ba8d0194-8126-4552-a26a-236c36c2ccaf",
   "metadata": {},
   "outputs": [
    {
     "name": "stdout",
     "output_type": "stream",
     "text": [
      "[Info] Loading from models/dyn_model/2023-10-21-19:25:56 ...\n",
      "[Info] Loading from models/tune_model/2023-10-22-17:18:26 ...\n"
     ]
    }
   ],
   "source": [
    "DEBUG = False\n",
    "INPUT_DIMS = 11\n",
    "OUTPUT_DIMS = 5\n",
    "ACTION_DIMS = 2\n",
    "ENV_DIMS=4\n",
    "\n",
    "\n",
    "from modules.dynamics import VanillaDynamics\n",
    "from datetime import datetime\n",
    "import wandb\n",
    "\n",
    "\n",
    "woTUNE_MODEL_DIR = 'models/dyn_model/2023-10-21-19:25:56'\n",
    "TUNE_MODEL_DIR = 'models/tune_model/2023-10-22-17:18:26'\n",
    "key = random.PRNGKey(123)\n",
    "key_wo_tune, key_tune = random.split(key, 2)\n",
    "# load model wo tune\n",
    "wo_tune_model = VanillaDynamics(INPUT_DIMS, OUTPUT_DIMS, ACTION_DIMS, key_wo_tune,\n",
    "            env_dims=ENV_DIMS, model_dir=woTUNE_MODEL_DIR,DEBUG=DEBUG,)\n",
    "wo_tune_model.load()\n",
    "# load model tune\n",
    "tune_model = VanillaDynamics(INPUT_DIMS, OUTPUT_DIMS, ACTION_DIMS, key_tune,\n",
    "            env_dims=ENV_DIMS, model_dir=TUNE_MODEL_DIR,DEBUG=DEBUG,)\n",
    "tune_model.load()"
   ]
  },
  {
   "cell_type": "markdown",
   "id": "ebd1b4f0-0f73-472c-92cc-e783725e1eb3",
   "metadata": {},
   "source": [
    "### Evaluate on Sim-Synthesized data"
   ]
  },
  {
   "cell_type": "code",
   "execution_count": 86,
   "id": "97dea35a-9c5d-4de6-9e79-c7f5f6078eb0",
   "metadata": {},
   "outputs": [],
   "source": [
    "from env_utils import make_env\n",
    "sim_data = []\n",
    "sim_label = []\n",
    "prev_state = None\n",
    "\n",
    "env = make_env('car-base-single')\n",
    "for i in range(100):\n",
    "    prev_state = env.reset()\n",
    "    done = False\n",
    "    while not done:\n",
    "        action = env.action_space.sample()\n",
    "        state, _, done, _ = env.step(action)\n",
    "        sim_data.append(np.concatenate((prev_state,action),axis=0))\n",
    "        sim_label.append(state[:5]-prev_state[:5])\n",
    "        prev_state = state + .0\n",
    "sim_data = np.array(sim_data)\n",
    "sim_label = np.array(sim_label)\n"
   ]
  },
  {
   "cell_type": "code",
   "execution_count": 111,
   "id": "09ce0c0f-fb2d-41d1-a5c7-d110df446d77",
   "metadata": {},
   "outputs": [
    {
     "data": {
      "image/png": "[encoded data removed]",
      "text/plain": [
       "<Figure size 640x480 with 1 Axes>"
      ]
     },
     "metadata": {},
     "output_type": "display_data"
    }
   ],
   "source": [
    "from rich.progress import track\n",
    "\n",
    "test_data = sim_data\n",
    "test_label = sim_label\n",
    "\n",
    "error_tune = []\n",
    "error_wo_tune = []\n",
    "\n",
    "y_tune = tune_model.predict(test_data)\n",
    "error_tune = (y_tune - test_label) / (test_label + 1e-3)\n",
    "\n",
    "y_wo_tune = wo_tune_model.predict(test_data)\n",
    "error_wo_tune = (y_wo_tune - test_label) /(test_label + 1e-3)\n",
    "\n",
    "%matplotlib inline\n",
    "import matplotlib.pyplot as plt\n",
    "# width of the bars\n",
    "barWidth = 0.3\n",
    "\n",
    "bars1 = [np.mean(np.abs(error_wo_tune[:,i])) for i in range(5)]\n",
    " \n",
    "# Choose the height of the cyan bars\n",
    "bars2 = [np.mean(np.abs(error_tune[:,i])) for i in range(5)]\n",
    " \n",
    "# Choose the height of the error bars (bars1)\n",
    "yer1 = [np.std(np.abs(error_wo_tune[:,i])) for i in range(5)]\n",
    " \n",
    "# Choose the height of the error bars (bars2)\n",
    "yer2 = [np.std(np.abs(error_tune[:,i])) for i in range(5)]\n",
    " \n",
    "# The x position of bars\n",
    "r1 = np.arange(len(bars1))\n",
    "r2 = [x + barWidth for x in r1]\n",
    " \n",
    "# Create blue bars\n",
    "plt.bar(r1, bars1, width = barWidth, color = 'blue', edgecolor = 'black', yerr=yer1, capsize=7, label='wo tune')\n",
    "\n",
    "# Create cyan bars\n",
    "plt.bar(r2, bars2, width = barWidth, color = 'cyan', edgecolor = 'black', yerr=yer2, capsize=7, label='tune')\n",
    " \n",
    "# general layout\n",
    "plt.xticks([r + barWidth for r in range(len(bars1))], ['x','y','yaw_x','yaw_y','vel'])\n",
    "plt.ylabel('error')\n",
    "plt.legend()\n",
    "plt.yscale('log')\n",
    " \n",
    "# Show graphic\n",
    "plt.show()"
   ]
  },
  {
   "cell_type": "markdown",
   "id": "cce1e628-ce06-491b-ada2-e4fac3174eca",
   "metadata": {},
   "source": [
    "#### Evaluate on Tuning-Test dataset"
   ]
  },
  {
   "cell_type": "markdown",
   "id": "0ce42a04-b5d6-4d51-a933-0c27d0579d94",
   "metadata": {},
   "source": [
    "We first calculate the raw error between y and $\\hat y$"
   ]
  },
  {
   "cell_type": "code",
   "execution_count": 112,
   "id": "6d4eacc7-d217-4b73-a957-3d650f427dd7",
   "metadata": {},
   "outputs": [
    {
     "data": {
      "image/png": "[encoded data removed]",
      "text/plain": [
       "<Figure size 640x480 with 1 Axes>"
      ]
     },
     "metadata": {},
     "output_type": "display_data"
    }
   ],
   "source": [
    "from rich.progress import track\n",
    "error_tune = []\n",
    "error_wo_tune = []\n",
    "\n",
    "y_tune = tune_model.predict(tune_test_data)\n",
    "error_tune = (y_tune - tune_test_label) / (tune_test_label + 1e-3)\n",
    "\n",
    "y_wo_tune = wo_tune_model.predict(tune_test_data)\n",
    "error_wo_tune = (y_wo_tune - tune_test_label) / (tune_test_label + 1e-3)\n",
    "\n",
    "%matplotlib inline\n",
    "import matplotlib.pyplot as plt\n",
    "# width of the bars\n",
    "barWidth = 0.3\n",
    "\n",
    "bars1 = [np.mean(np.abs(error_wo_tune[:,i])) for i in range(5)]\n",
    " \n",
    "# Choose the height of the cyan bars\n",
    "bars2 = [np.mean(np.abs(error_tune[:,i])) for i in range(5)]\n",
    " \n",
    "# Choose the height of the error bars (bars1)\n",
    "yer1 = [np.std(np.abs(error_wo_tune[:,i])) for i in range(5)]\n",
    " \n",
    "# Choose the height of the error bars (bars2)\n",
    "yer2 = [np.std(np.abs(error_tune[:,i])) for i in range(5)]\n",
    " \n",
    "# The x position of bars\n",
    "r1 = np.arange(len(bars1))\n",
    "r2 = [x + barWidth for x in r1]\n",
    " \n",
    "# Create blue bars\n",
    "plt.bar(r1, bars1, width = barWidth, color = 'blue', edgecolor = 'black', yerr=yer1, capsize=7, label='wo tune')\n",
    " \n",
    "# Create cyan bars\n",
    "plt.bar(r2, bars2, width = barWidth, color = 'cyan', edgecolor = 'black', yerr=yer2, capsize=7, label='tune')\n",
    " \n",
    "# general layout\n",
    "plt.xticks([r + barWidth for r in range(len(bars1))], ['x','y','yaw_x','yaw_y','vel'])\n",
    "plt.ylabel('error')\n",
    "plt.legend()\n",
    "plt.yscale('log')\n",
    " \n",
    "# Show graphic\n",
    "plt.show()"
   ]
  },
  {
   "cell_type": "markdown",
   "id": "21bf6969-d8b7-4132-950c-2e62a551f3ec",
   "metadata": {},
   "source": [
    "#### Evaluate on Evaluate (Car/Box/Chair) Data"
   ]
  },
  {
   "cell_type": "code",
   "execution_count": 70,
   "id": "5a334cb6-d092-480d-89e4-cb2a70a91567",
   "metadata": {},
   "outputs": [],
   "source": [
    "def rotate_180(angles):\n",
    "    new_angles = np.zeros_like(angles)\n",
    "    for i, angle in enumerate(angles):   \n",
    "        xs = np.cos(angle)\n",
    "        ys = np.sin(angle)\n",
    "        new_angles[i] = np.arctan2(-ys,-xs)\n",
    "    return new_angles\n",
    "\n",
    "def calc_vel(data):\n",
    "    vel_calc = [0.]\n",
    "    for i in range(1,len(data)):\n",
    "        dist = np.linalg.norm(data[i][:2] - data[i-1][:2])\n",
    "        vel_calc.append(dist/(data[i,-1]-data[i-1,-1]))\n",
    "    return np.array(vel_calc)"
   ]
  },
  {
   "cell_type": "code",
   "execution_count": 71,
   "id": "3e472f7f-7f02-4999-afc9-3ddd63ae1755",
   "metadata": {},
   "outputs": [],
   "source": [
    "import os\n",
    "import numpy as np\n",
    "import matplotlib.pyplot as plt\n",
    "data_dir = './dataset/car-data-x/'\n",
    "\n",
    "files = {\n",
    "    'throw': [\n",
    "        {'path':'2023-10-10-22_11_11-wqf.txt','st':1,'ed':-1},\n",
    "    ],\n",
    "    'drag': [\n",
    "        {'path':'2023-10-10-22_19_29-ek4.txt','st':1,'ed':-1},\n",
    "    ],\n",
    "    'box': [\n",
    "        {'path':'2023-10-10-22_15_14-hwd.txt','st':1,'ed':-1},\n",
    "    ],\n",
    "    'car': [\n",
    "        {'path':'2023-10-10-21_35_06-pvg.txt','st':1,'ed':-1},\n",
    "        {'path':'2023-10-10-21_38_31-572.txt','st':1,'ed':-1},\n",
    "        \n",
    "    ],\n",
    "}"
   ]
  },
  {
   "cell_type": "code",
   "execution_count": 72,
   "id": "c66c7391-e44a-4fcc-a414-8764937a9c43",
   "metadata": {
    "scrolled": true
   },
   "outputs": [],
   "source": [
    "eval_data_dict = {}\n",
    "for EXP_TYPE in ['car','box','drag','throw']:    \n",
    "    f = files[EXP_TYPE][0]['path']\n",
    "    st = files[EXP_TYPE][0]['st']\n",
    "    ed = files[EXP_TYPE][0]['ed']\n",
    "    data = np.loadtxt(os.path.join(data_dir,f))\n",
    "    data = data[st:ed]\n",
    "    data[:,2] = rotate_180(data[:,2])\n",
    "    data[:,3] = calc_vel(data)\n",
    "    data[:,-1] -= data[0,-1]\n",
    "    X = []\n",
    "    y = []\n",
    "    for i in range(1, len(data)):\n",
    "        # print(data.shape)\n",
    "        pos_x, pos_y, yaw, vel, throttle, str_val, _= data[i-1]\n",
    "        yaw_x, yaw_y = np.cos(yaw), np.sin(yaw)\n",
    "        xt_1 = np.array([pos_x,pos_y,yaw_x,yaw_y,vel])\n",
    "        x_t = np.array([data[i][0],data[i][1],np.cos(data[i][2]),np.sin(data[i][2]),data[i][3]])\n",
    "        \n",
    "        X.append([pos_x,pos_y,yaw_x,yaw_y,vel,7., .02, .34, 5.,throttle,str_val])\n",
    "        y.append(x_t - xt_1)\n",
    "    eval_data_dict[EXP_TYPE] = dict()\n",
    "    eval_data_dict[EXP_TYPE]['data'] = np.array(X)\n",
    "    eval_data_dict[EXP_TYPE]['label'] = np.array(y)"
   ]
  },
  {
   "cell_type": "code",
   "execution_count": 117,
   "id": "d76e8461-a536-4222-99f2-39c855cc0abf",
   "metadata": {},
   "outputs": [
    {
     "name": "stdout",
     "output_type": "stream",
     "text": [
      "car 2.4203376801593715\n"
     ]
    },
    {
     "data": {
      "image/png": "[encoded data removed]",
      "text/plain": [
       "<Figure size 640x480 with 1 Axes>"
      ]
     },
     "metadata": {},
     "output_type": "display_data"
    },
    {
     "name": "stdout",
     "output_type": "stream",
     "text": [
      "box 3.1347819785560023\n"
     ]
    },
    {
     "data": {
      "image/png": "[encoded data removed]",
      "text/plain": [
       "<Figure size 640x480 with 1 Axes>"
      ]
     },
     "metadata": {},
     "output_type": "display_data"
    },
    {
     "name": "stdout",
     "output_type": "stream",
     "text": [
      "drag 12.642606735594212\n"
     ]
    },
    {
     "data": {
      "image/png": "[encoded data removed]",
      "text/plain": [
       "<Figure size 640x480 with 1 Axes>"
      ]
     },
     "metadata": {},
     "output_type": "display_data"
    },
    {
     "name": "stdout",
     "output_type": "stream",
     "text": [
      "throw 4.451103324841319\n"
     ]
    },
    {
     "data": {
      "image/png": "[encoded data removed]",
      "text/plain": [
       "<Figure size 640x480 with 1 Axes>"
      ]
     },
     "metadata": {},
     "output_type": "display_data"
    }
   ],
   "source": [
    "from rich.progress import track\n",
    "for EXP_TYPE in ['car','box','drag','throw']:\n",
    "    test_data = eval_data_dict[EXP_TYPE]['data']\n",
    "    test_label = eval_data_dict[EXP_TYPE]['label']\n",
    "    \n",
    "    error_tune = []\n",
    "    error_wo_tune = []\n",
    "    \n",
    "    y_tune = tune_model.predict(test_data)\n",
    "    error_tune = (y_tune - test_label) / (test_label + 1e-3)\n",
    "    \n",
    "    y_wo_tune = wo_tune_model.predict(test_data)\n",
    "    error_wo_tune = (y_wo_tune - test_label) / (test_label + 1e-3)\n",
    "    \n",
    "    %matplotlib inline\n",
    "    import matplotlib.pyplot as plt\n",
    "    \n",
    "    plt.figure()\n",
    "    # width of the bars\n",
    "    barWidth = 0.3\n",
    "    \n",
    "    bars1 = [np.mean(np.abs(error_wo_tune[:,i])) for i in range(5)]\n",
    "     \n",
    "    # Choose the height of the cyan bars\n",
    "    bars2 = [np.mean(np.abs(error_tune[:,i])) for i in range(5)]\n",
    "     \n",
    "    # Choose the height of the error bars (bars1)\n",
    "    yer1 = [np.std(np.abs(error_wo_tune[:,i])) for i in range(5)]\n",
    "     \n",
    "    # Choose the height of the error bars (bars2)\n",
    "    yer2 = [np.std(np.abs(error_tune[:,i])) for i in range(5)]\n",
    "     \n",
    "    # The x position of bars\n",
    "    r1 = np.arange(len(bars1))\n",
    "    r2 = [x + barWidth for x in r1]\n",
    "     \n",
    "    # Create blue bars\n",
    "    plt.bar(r1, bars1, width = barWidth, color = 'blue', edgecolor = 'black', yerr=yer1, capsize=7, label='wo tune')\n",
    "     \n",
    "    # Create cyan bars\n",
    "    plt.bar(r2, bars2, width = barWidth, color = 'cyan', edgecolor = 'black', yerr=yer2, capsize=7, label='tune')\n",
    "     \n",
    "    # general layout\n",
    "    plt.xticks([r + barWidth for r in range(len(bars1))], ['x','y','yaw_x','yaw_y','vel'])\n",
    "    plt.ylabel('error')\n",
    "    plt.legend()\n",
    "    plt.yscale('log')\n",
    "    print(EXP_TYPE, np.mean(np.abs(error_tune[:,4])))\n",
    "    plt.title(EXP_TYPE)\n",
    "    # Show graphic\n",
    "    plt.show()"
   ]
  },
  {
   "cell_type": "code",
   "execution_count": null,
   "id": "21310f8c-556a-4758-82b8-3eea33fb5cd8",
   "metadata": {},
   "outputs": [],
   "source": []
  },
  {
   "cell_type": "markdown",
   "id": "eb73f45a-722b-4c79-9e4a-4ef7d8d0518f",
   "metadata": {},
   "source": [
    "### Evaluate on Mix data"
   ]
  },
  {
   "cell_type": "markdown",
   "id": "c850bd21-5d99-4ed5-a3c4-0493097f08a1",
   "metadata": {},
   "source": [
    "# Multi-Env"
   ]
  },
  {
   "cell_type": "markdown",
   "id": "b79b253c-5ef3-4e04-94b3-e1f493bca6c9",
   "metadata": {},
   "source": [
    "## Learn f, g"
   ]
  },
  {
   "cell_type": "markdown",
   "id": "94e2ec11-f6e6-490c-b7c7-24f2a691e861",
   "metadata": {},
   "source": [
    "### Pre-train Model in Simulation "
   ]
  },
  {
   "cell_type": "code",
   "execution_count": 7,
   "id": "228e8b1b-3bb2-482a-8826-80505df9ed11",
   "metadata": {},
   "outputs": [
    {
     "name": "stdout",
     "output_type": "stream",
     "text": [
      "The autoreload extension is already loaded. To reload it, use:\n",
      "  %reload_ext autoreload\n"
     ]
    }
   ],
   "source": [
    "import ray\n",
    "import wandb\n",
    "import torch\n",
    "from env_utils import make_env\n",
    "from modules.dynamics import DynamicsLearning, EncDynamics\n",
    "from modules.adaptation import AdaptationDynamics, AdaptationLearning\n",
    "from jax import random\n",
    "import jax\n",
    "from datetime import datetime\n",
    "import string\n",
    "\n",
    "%load_ext autoreload\n",
    "%autoreload 2\n",
    "    \n",
    "DEBUG=False\n",
    "\n",
    "def env_gen():\n",
    "    return make_env('car-base')\n",
    "\n",
    "WINDOW_LENGTH = 5"
   ]
  },
  {
   "cell_type": "markdown",
   "id": "74d4b0e6-019b-4086-9711-be6a3c472014",
   "metadata": {},
   "source": [
    "#### Dyn Model"
   ]
  },
  {
   "cell_type": "code",
   "execution_count": null,
   "id": "985b3c5d-1a8b-4e3c-b178-39499047f442",
   "metadata": {},
   "outputs": [],
   "source": [
    "ray.init(ignore_reinit_error=True, local_mode=DEBUG)\n",
    "\n",
    "print(\"device\", jax.devices())\n",
    "\n",
    "NUM_DATA = 1_000_000\n",
    "# NUM_DATA = 1_0_000\n",
    "DATA_CHUNK = 10000\n",
    "DATA_DIR = './'\n",
    "INPUT_DIMS = 11\n",
    "OUTPUT_DIMS = 5\n",
    "ACTION_DIMS = 2\n",
    "REPR_DIMS = 2 \n",
    "BATCH_SIZE = 10_000\n",
    "ENV_DIMS=4\n",
    "\n",
    "now = datetime.now()\n",
    "FILE_NAME = f'{now.strftime(\"%Y\")}-{now.strftime(\"%m\")}-{now.strftime(\"%d\")}-{now.strftime(\"%H:%M:%S\")}'\n",
    "DYN_MODEL_DIR = f'models/dyn_model/{FILE_NAME}/'\n",
    "\n",
    "DYN_DATA_DIR = f'dataset/{FILE_NAME}'\n",
    "# DYN_DATA_DIR = 'dataset/2023-10-21-18:25:06'\n",
    "\n",
    "run = wandb.init(\n",
    "    project=\"car-dynamics\",\n",
    "    config= {\n",
    "        'mode': 'dynamics',\n",
    "        'num_data': NUM_DATA,\n",
    "        'dyn_model_dir': DYN_MODEL_DIR,\n",
    "        'dyn_data_dir': DYN_DATA_DIR,\n",
    "        'single_env': False,\n",
    "    },\n",
    "    mode = \"disabled\" if DEBUG else \"online\",\n",
    ")\n",
    "\n",
    "key1 = random.PRNGKey(123)\n",
    "dyn_model = EncDynamics(INPUT_DIMS, OUTPUT_DIMS, ACTION_DIMS, key1,\n",
    "        env_dims=ENV_DIMS, model_dir=DYN_MODEL_DIR,DEBUG=DEBUG,batch_size=BATCH_SIZE, repr_dims=REPR_DIMS)\n",
    "\n",
    "# fix_model = VanillaDynamics(INPUT_DIMS, OUTPUT_DIMS, ACTION_DIMS, \n",
    "#                             key1, model_dir=DYN_MODEL_DIR,DEBUG=DEBUG,\n",
    "#                             batch_size=BATCH_SIZE, env_dims=ENV_DIMS)\n",
    "\n",
    "dyn_learner = DynamicsLearning(dyn_model, env_gen, run, DEBUG=DEBUG)\n",
    "dyn_learner.learn(num_data = NUM_DATA, train_epoches=1000, evaluate_episodes=20, data_chunk=DATA_CHUNK, \n",
    "                  save_data_dir=DYN_DATA_DIR)\n",
    "                  # load_data={'file_name':DYN_DATA_DIR})\n"
   ]
  },
  {
   "cell_type": "markdown",
   "id": "3e5e1038-ace5-4a8d-85d0-85415af8bc10",
   "metadata": {},
   "source": [
    "#### Adapt Model"
   ]
  },
  {
   "cell_type": "code",
   "execution_count": 6,
   "id": "7f669a38-6405-469f-ada9-7c175f67dbc1",
   "metadata": {
    "scrolled": true
   },
   "outputs": [
    {
     "name": "stderr",
     "output_type": "stream",
     "text": [
      "2023-10-23 11:17:44,421\tINFO worker.py:1476 -- Calling ray.init() again after it has already been called.\n"
     ]
    },
    {
     "name": "stdout",
     "output_type": "stream",
     "text": [
      "device [gpu(id=0)]\n"
     ]
    },
    {
     "data": {
      "text/html": [
       "Finishing last run (ID:v4h7s0a3) before initializing another..."
      ],
      "text/plain": [
       "<IPython.core.display.HTML object>"
      ]
     },
     "metadata": {},
     "output_type": "display_data"
    },
    {
     "data": {
      "text/html": [
       "Waiting for W&B process to finish... <strong style=\"color:green\">(success).</strong>"
      ],
      "text/plain": [
       "<IPython.core.display.HTML object>"
      ]
     },
     "metadata": {},
     "output_type": "display_data"
    },
    {
     "name": "stderr",
     "output_type": "stream",
     "text": [
      "wandb: WARNING Source type is set to 'repo' but some required information is missing from the environment. A job will not be created from this run. See https://docs.wandb.ai/guides/launch/create-job\n"
     ]
    },
    {
     "data": {
      "text/html": [
       "<style>\n",
       "    table.wandb td:nth-child(1) { padding: 0 10px; text-align: left ; width: auto;} td:nth-child(2) {text-align: left ; width: 100%}\n",
       "    .wandb-row { display: flex; flex-direction: row; flex-wrap: wrap; justify-content: flex-start; width: 100% }\n",
       "    .wandb-col { display: flex; flex-direction: column; flex-basis: 100%; flex: 1; padding: 10px; }\n",
       "    </style>\n",
       "<div class=\"wandb-row\"><div class=\"wandb-col\"><h3>Run history:</h3><br/><table class=\"wandb\"><tr><td>evaluating/validation_mse_error0</td><td>█▃▃▂▂▂▂▂▂▁▁▁▁▂▁▂▁▁▁▁▁▁▁▁▁▁▁▁▁▁▁▁▁▁▁▁▁▁▁▁</td></tr><tr><td>evaluating/validation_mse_error1</td><td>█▆▇▇▆▆▆▆▆▆▆▆▆▅▆▅▅▅▅▅▄▄▄▅▄▃▃▃▅▃▄▃▃▂▃▂▂▃▂▁</td></tr><tr><td>testing/delta0</td><td>▄▃▃▁▄▃▅▆▄▇▄▂▄▆▅▆▇▃▁▃▄▇▅▆▆█▅▃▃▂▃▄▄▆▇▄▄▅▅▃</td></tr><tr><td>testing/delta1</td><td>▄▅▅▅▄▄▄▂▄▃▄▄▄▄▄▄▄▄▁▂▄▅▄▄▆█▄▄▃▁▂▃▃▆▅▃▃▄▄▂</td></tr><tr><td>testing/delta2</td><td>▅▄▅▆▅▅▅▄▅▆▄▅▅▆▅▅▅▄▇▆▄▅▅▇▅▁▅▄▆▆▆▅▆▅█▅▅▅▅▄</td></tr><tr><td>testing/delta3</td><td>▅▄▄▅▄▅▅▃▅▅▄▄▅▃▅▄▄▅▁▃▅▅▅▃▄█▅▆▃▄▃▄▃▅▂▄▅▅▄▅</td></tr><tr><td>testing/delta4</td><td>▇▆▆▁▃▁▁▇▁▇▇▅▄▇▆▄▆▆▂▃▂▆▂▅▂█▅▅▅▆▄▅▂▂▄▃▅▆▅▅</td></tr><tr><td>testing/deltaReal0</td><td>▄▃▃▁▄▃▅▆▄▇▄▂▄▆▅▆▇▃▁▃▄▇▅▆▆█▅▃▃▂▃▄▄▆▇▄▄▅▅▃</td></tr><tr><td>testing/deltaReal1</td><td>▄▅▅▅▄▄▄▂▄▃▄▄▄▃▄▄▄▄▁▂▄▅▄▄▆█▄▄▃▁▂▃▃▆▅▃▃▄▄▂</td></tr><tr><td>testing/deltaReal2</td><td>▄▃▄▅▄▄▄▃▄▅▄▄▄▅▄▄▅▄█▆▄▄▄▆▄▁▄▄▅▅▆▅▆▄█▅▄▄▅▃</td></tr><tr><td>testing/deltaReal3</td><td>▅▄▄▅▄▄▄▃▄▅▄▄▅▃▅▄▄▅▁▃▅▄▄▃▄█▅▆▃▄▃▄▃▅▂▄▅▄▄▅</td></tr><tr><td>testing/deltaReal4</td><td>▇▆▆▁▃▁▁▇▁▇▆▄▄▇▆▄▆▆▂▃▂▆▂▅▂█▅▅▅▅▄▅▂▂▄▃▅▅▅▅</td></tr><tr><td>testing/error0</td><td>▂▁▁▁▁▁▆▁▁▁▁▁▂▁▂▁▁▁▁▁▁▁█▁▁▁▂▁▁▁▁▁▁▁▁▁▁▄▃▁</td></tr><tr><td>testing/error1</td><td>▁▁▁▁▁▁▁▁▁▁▁▁▁▁▁▁▁▁▁▁▁▁█▁▁▁▁▁▁▁▁▁▁▁▁▁▁▁▁▁</td></tr><tr><td>testing/error2</td><td>▁▁▁▁▁▂▂▁█▁▁▁▁▁▁▁▁▁▁▁▁▁▁▁▁▁▁▁▁▁▁▁▁▁▁▁▁▁▁▁</td></tr><tr><td>testing/error3</td><td>▁▁▁▁▁▂▂▁█▁▁▂▁▁▁▁▁▁▁▁▁▁▁▁▁▁▁▁▁▁▁▁▁▁▁▁▁▁▁▁</td></tr><tr><td>testing/error4</td><td>▂▁▁▁▁▁▁▂▁▂▁▂▂▂▁█▂▁▁▁▂▂▁▂▁▂▂▂▁▂▁▂▁▂▃▂▁▁▁▁</td></tr><tr><td>testing/total_test_step</td><td>▁▁▁▁▁▁▁▁▁▁▁▁▁▁▁▁▁▁▁▁▁▁▁▁▁▁▁▁▁▁▁▁▁▁▁▁▁▁▁▁</td></tr><tr><td>train/total_epoch</td><td>▁▁▁▂▂▂▂▂▂▃▃▃▃▃▄▄▄▄▄▄▅▅▅▅▅▅▆▆▆▆▆▇▇▇▇▇▇███</td></tr><tr><td>training/loss</td><td>█▃▂▂▂▂▂▂▂▂▂▂▂▂▂▂▁▁▁▁▁▁▁▁▁▁▁▁▁▁▁▁▁▁▁▁▁▁▁▁</td></tr></table><br/></div><div class=\"wandb-col\"><h3>Run summary:</h3><br/><table class=\"wandb\"><tr><td>evaluating/validation_mse_error0</td><td>0.0189</td></tr><tr><td>evaluating/validation_mse_error1</td><td>0.14685</td></tr><tr><td>testing/delta0</td><td>-0.12264</td></tr><tr><td>testing/delta1</td><td>-0.04666</td></tr><tr><td>testing/delta2</td><td>-0.03397</td></tr><tr><td>testing/delta3</td><td>0.07233</td></tr><tr><td>testing/delta4</td><td>0.56481</td></tr><tr><td>testing/deltaReal0</td><td>-0.1218</td></tr><tr><td>testing/deltaReal1</td><td>-0.04468</td></tr><tr><td>testing/deltaReal2</td><td>-0.03392</td></tr><tr><td>testing/deltaReal3</td><td>0.07849</td></tr><tr><td>testing/deltaReal4</td><td>0.47802</td></tr><tr><td>testing/error0</td><td>0.00691</td></tr><tr><td>testing/error1</td><td>0.04446</td></tr><tr><td>testing/error2</td><td>0.00153</td></tr><tr><td>testing/error3</td><td>0.07856</td></tr><tr><td>testing/error4</td><td>0.18156</td></tr><tr><td>testing/total_test_step</td><td>100</td></tr><tr><td>train/total_epoch</td><td>1000</td></tr><tr><td>training/loss</td><td>0.01422</td></tr></table><br/></div></div>"
      ],
      "text/plain": [
       "<IPython.core.display.HTML object>"
      ]
     },
     "metadata": {},
     "output_type": "display_data"
    },
    {
     "data": {
      "text/html": [
       " View run <strong style=\"color:#cdcd00\">graceful-waterfall-270</strong> at: <a href='https://wandb.ai/randyxiao/car-dynamics/runs/v4h7s0a3' target=\"_blank\">https://wandb.ai/randyxiao/car-dynamics/runs/v4h7s0a3</a><br/>Synced 6 W&B file(s), 0 media file(s), 0 artifact file(s) and 0 other file(s)"
      ],
      "text/plain": [
       "<IPython.core.display.HTML object>"
      ]
     },
     "metadata": {},
     "output_type": "display_data"
    },
    {
     "data": {
      "text/html": [
       "Find logs at: <code>./wandb/run-20231023_111433-v4h7s0a3/logs</code>"
      ],
      "text/plain": [
       "<IPython.core.display.HTML object>"
      ]
     },
     "metadata": {},
     "output_type": "display_data"
    },
    {
     "data": {
      "text/html": [
       "Successfully finished last run (ID:v4h7s0a3). Initializing new run:<br/>"
      ],
      "text/plain": [
       "<IPython.core.display.HTML object>"
      ]
     },
     "metadata": {},
     "output_type": "display_data"
    },
    {
     "data": {
      "application/vnd.jupyter.widget-view+json": {
       "model_id": "1933f54503fc400899cb41ca88d9e0d5",
       "version_major": 2,
       "version_minor": 0
      },
      "text/plain": [
       "VBox(children=(Label(value='Waiting for wandb.init()...\\r'), FloatProgress(value=0.011113371778952165, max=1.0…"
      ]
     },
     "metadata": {},
     "output_type": "display_data"
    },
    {
     "data": {
      "text/html": [
       "Tracking run with wandb version 0.15.12"
      ],
      "text/plain": [
       "<IPython.core.display.HTML object>"
      ]
     },
     "metadata": {},
     "output_type": "display_data"
    },
    {
     "data": {
      "text/html": [
       "Run data is saved locally in <code>/home/wenli/car_dynamics/wandb/run-20231023_111744-dkyudhb8</code>"
      ],
      "text/plain": [
       "<IPython.core.display.HTML object>"
      ]
     },
     "metadata": {},
     "output_type": "display_data"
    },
    {
     "data": {
      "text/html": [
       "Syncing run <strong><a href='https://wandb.ai/randyxiao/car-dynamics/runs/dkyudhb8' target=\"_blank\">zany-grass-271</a></strong> to <a href='https://wandb.ai/randyxiao/car-dynamics' target=\"_blank\">Weights & Biases</a> (<a href='https://wandb.me/run' target=\"_blank\">docs</a>)<br/>"
      ],
      "text/plain": [
       "<IPython.core.display.HTML object>"
      ]
     },
     "metadata": {},
     "output_type": "display_data"
    },
    {
     "data": {
      "text/html": [
       " View project at <a href='https://wandb.ai/randyxiao/car-dynamics' target=\"_blank\">https://wandb.ai/randyxiao/car-dynamics</a>"
      ],
      "text/plain": [
       "<IPython.core.display.HTML object>"
      ]
     },
     "metadata": {},
     "output_type": "display_data"
    },
    {
     "data": {
      "text/html": [
       " View run at <a href='https://wandb.ai/randyxiao/car-dynamics/runs/dkyudhb8' target=\"_blank\">https://wandb.ai/randyxiao/car-dynamics/runs/dkyudhb8</a>"
      ],
      "text/plain": [
       "<IPython.core.display.HTML object>"
      ]
     },
     "metadata": {},
     "output_type": "display_data"
    },
    {
     "name": "stdout",
     "output_type": "stream",
     "text": [
      "[Info] Loading from models/dyn_model/2023-10-22-21:59:51 ...\n"
     ]
    },
    {
     "data": {
      "application/vnd.jupyter.widget-view+json": {
       "model_id": "154b1270572b44ae8b3f2f5adbe9931d",
       "version_major": 2,
       "version_minor": 0
      },
      "text/plain": [
       "Output()"
      ]
     },
     "metadata": {},
     "output_type": "display_data"
    },
    {
     "data": {
      "text/html": [
       "<pre style=\"white-space:pre;overflow-x:auto;line-height:normal;font-family:Menlo,'DejaVu Sans Mono',consolas,'Courier New',monospace\"></pre>\n"
      ],
      "text/plain": []
     },
     "metadata": {},
     "output_type": "display_data"
    },
    {
     "data": {
      "text/html": [
       "<pre style=\"white-space:pre;overflow-x:auto;line-height:normal;font-family:Menlo,'DejaVu Sans Mono',consolas,'Courier New',monospace\">\n",
       "</pre>\n"
      ],
      "text/plain": [
       "\n"
      ]
     },
     "metadata": {},
     "output_type": "display_data"
    },
    {
     "name": "stdout",
     "output_type": "stream",
     "text": [
      "\u001b[34m[INFO] Create path:dataset/adapt-2023-10-23-11:17:44\u001b[0m\n",
      "\u001b[34m[INFO] On_train_start, data size: 960000\u001b[0m\n"
     ]
    },
    {
     "data": {
      "application/vnd.jupyter.widget-view+json": {
       "model_id": "f779168b166c4486a52797f36f1a9ea1",
       "version_major": 2,
       "version_minor": 0
      },
      "text/plain": [
       "Output()"
      ]
     },
     "metadata": {},
     "output_type": "display_data"
    },
    {
     "data": {
      "text/html": [
       "<pre style=\"white-space:pre;overflow-x:auto;line-height:normal;font-family:Menlo,'DejaVu Sans Mono',consolas,'Courier New',monospace\"></pre>\n"
      ],
      "text/plain": []
     },
     "metadata": {},
     "output_type": "display_data"
    },
    {
     "data": {
      "text/html": [
       "<pre style=\"white-space:pre;overflow-x:auto;line-height:normal;font-family:Menlo,'DejaVu Sans Mono',consolas,'Courier New',monospace\">\n",
       "</pre>\n"
      ],
      "text/plain": [
       "\n"
      ]
     },
     "metadata": {},
     "output_type": "display_data"
    },
    {
     "data": {
      "application/vnd.jupyter.widget-view+json": {
       "model_id": "8b089a9f97bc4821b6993164330a411f",
       "version_major": 2,
       "version_minor": 0
      },
      "text/plain": [
       "Output()"
      ]
     },
     "metadata": {},
     "output_type": "display_data"
    },
    {
     "data": {
      "text/html": [
       "<pre style=\"white-space:pre;overflow-x:auto;line-height:normal;font-family:Menlo,'DejaVu Sans Mono',consolas,'Courier New',monospace\">(96,) 3.747396984198911\n",
       "</pre>\n"
      ],
      "text/plain": [
       "(96,) 3.747396984198911\n"
      ]
     },
     "metadata": {},
     "output_type": "display_data"
    },
    {
     "data": {
      "text/html": [
       "<pre style=\"white-space:pre;overflow-x:auto;line-height:normal;font-family:Menlo,'DejaVu Sans Mono',consolas,'Courier New',monospace\">(96,) 0.35111600557548\n",
       "</pre>\n"
      ],
      "text/plain": [
       "(96,) 0.35111600557548\n"
      ]
     },
     "metadata": {},
     "output_type": "display_data"
    },
    {
     "name": "stderr",
     "output_type": "stream",
     "text": [
      "/home/wenli/miniforge3/envs/safeDPA/lib/python3.8/site-packages/gym/spaces/box.py:127: UserWarning: \u001b[33mWARN: Box bound precision lowered by casting to float32\u001b[0m\n",
      "  logger.warn(f\"Box bound precision lowered by casting to {self.dtype}\")\n"
     ]
    },
    {
     "data": {
      "text/html": [
       "<pre style=\"white-space:pre;overflow-x:auto;line-height:normal;font-family:Menlo,'DejaVu Sans Mono',consolas,'Courier New',monospace\">(96,) 0.09502367616390446\n",
       "</pre>\n"
      ],
      "text/plain": [
       "(96,) 0.09502367616390446\n"
      ]
     },
     "metadata": {},
     "output_type": "display_data"
    },
    {
     "data": {
      "text/html": [
       "<pre style=\"white-space:pre;overflow-x:auto;line-height:normal;font-family:Menlo,'DejaVu Sans Mono',consolas,'Courier New',monospace\">(96,) 0.23054788546549823\n",
       "</pre>\n"
      ],
      "text/plain": [
       "(96,) 0.23054788546549823\n"
      ]
     },
     "metadata": {},
     "output_type": "display_data"
    },
    {
     "data": {
      "text/html": [
       "<pre style=\"white-space:pre;overflow-x:auto;line-height:normal;font-family:Menlo,'DejaVu Sans Mono',consolas,'Courier New',monospace\">(96,) 0.03396635039941459\n",
       "</pre>\n"
      ],
      "text/plain": [
       "(96,) 0.03396635039941459\n"
      ]
     },
     "metadata": {},
     "output_type": "display_data"
    },
    {
     "data": {
      "text/html": [
       "<pre style=\"white-space:pre;overflow-x:auto;line-height:normal;font-family:Menlo,'DejaVu Sans Mono',consolas,'Courier New',monospace\">(96,) 0.058741429631004725\n",
       "</pre>\n"
      ],
      "text/plain": [
       "(96,) 0.058741429631004725\n"
      ]
     },
     "metadata": {},
     "output_type": "display_data"
    },
    {
     "data": {
      "text/html": [
       "<pre style=\"white-space:pre;overflow-x:auto;line-height:normal;font-family:Menlo,'DejaVu Sans Mono',consolas,'Courier New',monospace\">(96,) 0.07461829782074521\n",
       "</pre>\n"
      ],
      "text/plain": [
       "(96,) 0.07461829782074521\n"
      ]
     },
     "metadata": {},
     "output_type": "display_data"
    },
    {
     "data": {
      "text/html": [
       "<pre style=\"white-space:pre;overflow-x:auto;line-height:normal;font-family:Menlo,'DejaVu Sans Mono',consolas,'Courier New',monospace\">(96,) 0.12620596001244108\n",
       "</pre>\n"
      ],
      "text/plain": [
       "(96,) 0.12620596001244108\n"
      ]
     },
     "metadata": {},
     "output_type": "display_data"
    },
    {
     "data": {
      "text/html": [
       "<pre style=\"white-space:pre;overflow-x:auto;line-height:normal;font-family:Menlo,'DejaVu Sans Mono',consolas,'Courier New',monospace\">(96,) 0.20346455088234194\n",
       "</pre>\n"
      ],
      "text/plain": [
       "(96,) 0.20346455088234194\n"
      ]
     },
     "metadata": {},
     "output_type": "display_data"
    },
    {
     "data": {
      "text/html": [
       "<pre style=\"white-space:pre;overflow-x:auto;line-height:normal;font-family:Menlo,'DejaVu Sans Mono',consolas,'Courier New',monospace\">(96,) 0.05187453295094119\n",
       "</pre>\n"
      ],
      "text/plain": [
       "(96,) 0.05187453295094119\n"
      ]
     },
     "metadata": {},
     "output_type": "display_data"
    },
    {
     "data": {
      "text/html": [
       "<pre style=\"white-space:pre;overflow-x:auto;line-height:normal;font-family:Menlo,'DejaVu Sans Mono',consolas,'Courier New',monospace\">(96,) 0.08057552435330993\n",
       "</pre>\n"
      ],
      "text/plain": [
       "(96,) 0.08057552435330993\n"
      ]
     },
     "metadata": {},
     "output_type": "display_data"
    },
    {
     "data": {
      "text/html": [
       "<pre style=\"white-space:pre;overflow-x:auto;line-height:normal;font-family:Menlo,'DejaVu Sans Mono',consolas,'Courier New',monospace\">(96,) 0.05115510947309424\n",
       "</pre>\n"
      ],
      "text/plain": [
       "(96,) 0.05115510947309424\n"
      ]
     },
     "metadata": {},
     "output_type": "display_data"
    },
    {
     "data": {
      "text/html": [
       "<pre style=\"white-space:pre;overflow-x:auto;line-height:normal;font-family:Menlo,'DejaVu Sans Mono',consolas,'Courier New',monospace\">(96,) 7.274941096161769\n",
       "</pre>\n"
      ],
      "text/plain": [
       "(96,) 7.274941096161769\n"
      ]
     },
     "metadata": {},
     "output_type": "display_data"
    },
    {
     "data": {
      "text/html": [
       "<pre style=\"white-space:pre;overflow-x:auto;line-height:normal;font-family:Menlo,'DejaVu Sans Mono',consolas,'Courier New',monospace\">(96,) 0.0481719694203157\n",
       "</pre>\n"
      ],
      "text/plain": [
       "(96,) 0.0481719694203157\n"
      ]
     },
     "metadata": {},
     "output_type": "display_data"
    },
    {
     "data": {
      "text/html": [
       "<pre style=\"white-space:pre;overflow-x:auto;line-height:normal;font-family:Menlo,'DejaVu Sans Mono',consolas,'Courier New',monospace\">(96,) 0.07086091082100565\n",
       "</pre>\n"
      ],
      "text/plain": [
       "(96,) 0.07086091082100565\n"
      ]
     },
     "metadata": {},
     "output_type": "display_data"
    },
    {
     "data": {
      "text/html": [
       "<pre style=\"white-space:pre;overflow-x:auto;line-height:normal;font-family:Menlo,'DejaVu Sans Mono',consolas,'Courier New',monospace\">(96,) 0.3035098695873718\n",
       "</pre>\n"
      ],
      "text/plain": [
       "(96,) 0.3035098695873718\n"
      ]
     },
     "metadata": {},
     "output_type": "display_data"
    },
    {
     "data": {
      "text/html": [
       "<pre style=\"white-space:pre;overflow-x:auto;line-height:normal;font-family:Menlo,'DejaVu Sans Mono',consolas,'Courier New',monospace\">(96,) 1.0866611145489742\n",
       "</pre>\n"
      ],
      "text/plain": [
       "(96,) 1.0866611145489742\n"
      ]
     },
     "metadata": {},
     "output_type": "display_data"
    },
    {
     "data": {
      "text/html": [
       "<pre style=\"white-space:pre;overflow-x:auto;line-height:normal;font-family:Menlo,'DejaVu Sans Mono',consolas,'Courier New',monospace\">(96,) 0.04877806693862118\n",
       "</pre>\n"
      ],
      "text/plain": [
       "(96,) 0.04877806693862118\n"
      ]
     },
     "metadata": {},
     "output_type": "display_data"
    },
    {
     "data": {
      "text/html": [
       "<pre style=\"white-space:pre;overflow-x:auto;line-height:normal;font-family:Menlo,'DejaVu Sans Mono',consolas,'Courier New',monospace\">(96,) 0.0904551661952987\n",
       "</pre>\n"
      ],
      "text/plain": [
       "(96,) 0.0904551661952987\n"
      ]
     },
     "metadata": {},
     "output_type": "display_data"
    },
    {
     "data": {
      "text/html": [
       "<pre style=\"white-space:pre;overflow-x:auto;line-height:normal;font-family:Menlo,'DejaVu Sans Mono',consolas,'Courier New',monospace\">(96,) 0.06533265379356214\n",
       "</pre>\n"
      ],
      "text/plain": [
       "(96,) 0.06533265379356214\n"
      ]
     },
     "metadata": {},
     "output_type": "display_data"
    },
    {
     "data": {
      "text/html": [
       "<pre style=\"white-space:pre;overflow-x:auto;line-height:normal;font-family:Menlo,'DejaVu Sans Mono',consolas,'Courier New',monospace\"></pre>\n"
      ],
      "text/plain": []
     },
     "metadata": {},
     "output_type": "display_data"
    },
    {
     "data": {
      "text/html": [
       "<pre style=\"white-space:pre;overflow-x:auto;line-height:normal;font-family:Menlo,'DejaVu Sans Mono',consolas,'Courier New',monospace\">\n",
       "</pre>\n"
      ],
      "text/plain": [
       "\n"
      ]
     },
     "metadata": {},
     "output_type": "display_data"
    }
   ],
   "source": [
    "DEBUG = False\n",
    "\n",
    "ray.init(ignore_reinit_error=True, local_mode=DEBUG)\n",
    "\n",
    "\n",
    "now = datetime.now()\n",
    "FILE_NAME = f'{now.strftime(\"%Y\")}-{now.strftime(\"%m\")}-{now.strftime(\"%d\")}-{now.strftime(\"%H:%M:%S\")}'\n",
    "ADAPT_MODEL_DIR = f'models/adapt_model/{FILE_NAME}/'\n",
    "ADAPT_DATA_DIR = f'dataset/adapt-{FILE_NAME}'\n",
    "\n",
    "print(\"device\", jax.devices())\n",
    "\n",
    "NUM_DATA = 1_000_000\n",
    "DATA_CHUNK = 10_000\n",
    "DATA_DIR = './'\n",
    "DYN_INPUT_DIMS = 11\n",
    "TRAIN_EPOCHES = 500\n",
    "OUTPUT_DIMS = 5\n",
    "ACTION_DIMS = 2\n",
    "REPR_DIMS = 2 \n",
    "BATCH_SIZE = 10_000\n",
    "DYN_ENV_DIMS= 4\n",
    "LEARNING_RATE = 1e-3\n",
    "ADAPT_ENV_DIMS = (DYN_INPUT_DIMS - DYN_ENV_DIMS)*WINDOW_LENGTH - ACTION_DIMS\n",
    "ADAPT_INPUT_DIMS =  ADAPT_ENV_DIMS + DYN_INPUT_DIMS - DYN_ENV_DIMS\n",
    "# DYN_MODEL_DIR = 'models/test/dyn_model/'\n",
    "DYN_MODEL_DIR = 'models/dyn_model/2023-10-22-21:59:51'\n",
    "\n",
    "run = wandb.init(\n",
    "    project=\"car-dynamics\",\n",
    "    config= {\n",
    "        'mode': 'adaptation',\n",
    "        'num_data': NUM_DATA,\n",
    "        'dyn_model_dir': DYN_MODEL_DIR,\n",
    "        'adapt_data_dir': ADAPT_DATA_DIR,\n",
    "        'adapt_model_dir': ADAPT_MODEL_DIR,\n",
    "        'window_length': WINDOW_LENGTH,\n",
    "        'lr': LEARNING_RATE,\n",
    "        'single_env': False,\n",
    "    },\n",
    "    mode = \"disabled\" if DEBUG else \"online\",\n",
    ")\n",
    "\n",
    "key1 = random.PRNGKey(123)\n",
    "key_dyn, key_adapt = random.split(key1, 2)\n",
    "dyn_model = EncDynamics(DYN_INPUT_DIMS, OUTPUT_DIMS, ACTION_DIMS, key_dyn,\n",
    "        env_dims=DYN_ENV_DIMS, model_dir=DYN_MODEL_DIR,DEBUG=DEBUG,repr_dims=REPR_DIMS)\n",
    "dyn_model.load()\n",
    "\n",
    "target_enc = dyn_model.export_enc()\n",
    "head_info = dyn_model.export_head()\n",
    "\n",
    "adapt_model = AdaptationDynamics(ADAPT_INPUT_DIMS, OUTPUT_DIMS, ACTION_DIMS, key_adapt,\n",
    "        env_dims=ADAPT_ENV_DIMS, model_dir=ADAPT_MODEL_DIR,DEBUG=DEBUG,env_params_dims=DYN_ENV_DIMS,\n",
    "        learning_rate=LEARNING_RATE, repr_dims=REPR_DIMS,batch_size=BATCH_SIZE, dyn_head_info=head_info)   \n",
    "\n",
    "adapt_learner = AdaptationLearning(adapt_model, env_gen, run, \n",
    "        DEBUG=DEBUG,window_length=WINDOW_LENGTH, target_enc=target_enc)\n",
    "\n",
    "\n",
    "adapt_learner.learn(num_data = NUM_DATA, evaluate_episodes=20, train_epoches=1000, \n",
    "                       save_data_dir=ADAPT_DATA_DIR)"
   ]
  },
  {
   "cell_type": "markdown",
   "id": "8b61d6aa-a573-42c0-a017-45d31501d860",
   "metadata": {},
   "source": [
    "### Fine-tune with real-data"
   ]
  },
  {
   "cell_type": "markdown",
   "id": "e96323cc-2275-4a3e-a13d-1a214fbfc14a",
   "metadata": {},
   "source": [
    "#### prepare real dataset"
   ]
  },
  {
   "cell_type": "code",
   "execution_count": 28,
   "id": "c1f5ab17-b995-4946-803b-ba66909cc48e",
   "metadata": {},
   "outputs": [],
   "source": [
    "### Create Dataset **FROM REAL-WORLD DATA** ###\n",
    "TUNE_DATA_DIR = './dataset/tune-dataset/'\n",
    "files = os.listdir(TUNE_DATA_DIR)\n",
    "files.sort()\n",
    "\n",
    "data_list = []\n",
    "label_list = []\n",
    "for f in files:\n",
    "    if 'csv' not in f:\n",
    "        continue\n",
    "    real_traj = np.loadtxt(f'{TUNE_DATA_DIR}/{f}',delimiter=',')\n",
    "    #REF: self.frames.append(np.concatenate((state,[goal_x, goal_y], [throttle,str_val, time.time()]),axis=0))\n",
    "    state_list = []\n",
    "    action_list = []\n",
    "    for i, data_i in enumerate(real_traj):\n",
    "        assert data_i.shape[0] == 9\n",
    "        x = data_i[0]\n",
    "        y = data_i[1]\n",
    "        yaw = data_i[2]\n",
    "        yaw_x = np.cos(yaw)\n",
    "        yaw_y = np.sin(yaw)\n",
    "        vel = data_i[3]\n",
    "        a0 = data_i[6]\n",
    "        a1 = data_i[7]\n",
    "        state_list.append(np.array([x,y,yaw_x,yaw_y,vel]))\n",
    "        action_list.append([a0,a1])\n",
    "\n",
    "        if i >= WINDOW_LENGTH:\n",
    "            X = np.concatenate((state_list[i-WINDOW_LENGTH:i], \n",
    "                                action_list[i-WINDOW_LENGTH:i]), axis=1)\n",
    "            X = np.concatenate(X, axis=0)\n",
    "            X = X[:-2]\n",
    "            X = np.concatenate((state_list[i-1], X, action_list[i-1]), axis=0)\n",
    "            data_list.append(X)\n",
    "            label_list.append(state_list[i] - state_list[i-1])\n",
    "\n",
    "data_list = np.array(data_list)\n",
    "label_list = np.array(label_list)\n",
    "\n",
    "data_size = data_list.shape[0]\n",
    "\n",
    "## Shuffle, ortherwise there's overfitting problem\n",
    "idxs = list(range(data_size))\n",
    "np.random.shuffle(idxs)\n",
    "\n",
    "tune_train_data, tune_test_data = data_list[idxs[:int(data_size*.7)]], data_list[idxs[int(data_size*.7):]]\n",
    "tune_train_label, tune_test_label = label_list[idxs[:int(data_size*.7)]], label_list[idxs[int(data_size*.7):]]"
   ]
  },
  {
   "cell_type": "code",
   "execution_count": 29,
   "id": "11894f79-c5eb-4d61-8865-abd30c7c1839",
   "metadata": {},
   "outputs": [
    {
     "data": {
      "text/plain": [
       "(9571, 40)"
      ]
     },
     "execution_count": 29,
     "metadata": {},
     "output_type": "execute_result"
    }
   ],
   "source": [
    "tune_train_data.shape"
   ]
  },
  {
   "cell_type": "markdown",
   "id": "c707f865-6092-4378-86f9-ca02ca1947e2",
   "metadata": {},
   "source": [
    "#### Tune adapt model\n",
    "\n",
    "- Also evalutate the performance of the tuned model\n",
    "- Search lr, batch_size, and epoches"
   ]
  },
  {
   "cell_type": "markdown",
   "id": "42e37282-a3ca-4912-9da7-3d533b675002",
   "metadata": {},
   "source": [
    "First, load the trained adapt model"
   ]
  },
  {
   "cell_type": "code",
   "execution_count": 30,
   "id": "09998f4f-06a3-4fc8-9db5-1323d3396841",
   "metadata": {},
   "outputs": [
    {
     "name": "stdout",
     "output_type": "stream",
     "text": [
      "[Info] Loading from models/dyn_model/2023-10-22-21:59:51 ...\n",
      "[Info] Loading from models/adapt_model/2023-10-23-11:17:44 ...\n"
     ]
    }
   ],
   "source": [
    "DYN_MODEL_DIR = 'models/dyn_model/2023-10-22-21:59:51'\n",
    "ADAPT_MODEL_DIR = 'models/adapt_model/2023-10-23-11:17:44'\n",
    "\n",
    "key1 = random.PRNGKey(123)\n",
    "key_dyn, key_adapt = random.split(key1, 2)\n",
    "dyn_model = EncDynamics(DYN_INPUT_DIMS, OUTPUT_DIMS, ACTION_DIMS, key_dyn,\n",
    "        env_dims=DYN_ENV_DIMS, model_dir=DYN_MODEL_DIR,DEBUG=DEBUG,repr_dims=REPR_DIMS)\n",
    "dyn_model.load()\n",
    "# target_enc = dyn_model.export_enc()\n",
    "head_info = dyn_model.export_head()\n",
    "\n",
    "adapt_model = AdaptationDynamics(ADAPT_INPUT_DIMS, OUTPUT_DIMS, ACTION_DIMS, key_adapt,\n",
    "        env_dims=ADAPT_ENV_DIMS, model_dir=ADAPT_MODEL_DIR,DEBUG=DEBUG,env_params_dims=DYN_ENV_DIMS,\n",
    "        repr_dims=REPR_DIMS, dyn_head_info=head_info)\n",
    "adapt_model.load()\n",
    "adapt_model.deploy_dynamics()"
   ]
  },
  {
   "cell_type": "code",
   "execution_count": 45,
   "id": "68e309eb-3bef-4da3-aa26-b4a43d3de3f2",
   "metadata": {
    "scrolled": true
   },
   "outputs": [
    {
     "data": {
      "text/html": [
       "Finishing last run (ID:b9hc4mir) before initializing another..."
      ],
      "text/plain": [
       "<IPython.core.display.HTML object>"
      ]
     },
     "metadata": {},
     "output_type": "display_data"
    },
    {
     "data": {
      "text/html": [
       "Waiting for W&B process to finish... <strong style=\"color:green\">(success).</strong>"
      ],
      "text/plain": [
       "<IPython.core.display.HTML object>"
      ]
     },
     "metadata": {},
     "output_type": "display_data"
    },
    {
     "name": "stderr",
     "output_type": "stream",
     "text": [
      "wandb: WARNING Source type is set to 'repo' but some required information is missing from the environment. A job will not be created from this run. See https://docs.wandb.ai/guides/launch/create-job\n"
     ]
    },
    {
     "data": {
      "text/html": [
       " View run <strong style=\"color:#cdcd00\">clean-armadillo-287</strong> at: <a href='https://wandb.ai/randyxiao/car-dynamics/runs/b9hc4mir' target=\"_blank\">https://wandb.ai/randyxiao/car-dynamics/runs/b9hc4mir</a><br/>Synced 6 W&B file(s), 0 media file(s), 0 artifact file(s) and 0 other file(s)"
      ],
      "text/plain": [
       "<IPython.core.display.HTML object>"
      ]
     },
     "metadata": {},
     "output_type": "display_data"
    },
    {
     "data": {
      "text/html": [
       "Find logs at: <code>./wandb/run-20231023_145702-b9hc4mir/logs</code>"
      ],
      "text/plain": [
       "<IPython.core.display.HTML object>"
      ]
     },
     "metadata": {},
     "output_type": "display_data"
    },
    {
     "data": {
      "text/html": [
       "Successfully finished last run (ID:b9hc4mir). Initializing new run:<br/>"
      ],
      "text/plain": [
       "<IPython.core.display.HTML object>"
      ]
     },
     "metadata": {},
     "output_type": "display_data"
    },
    {
     "data": {
      "application/vnd.jupyter.widget-view+json": {
       "model_id": "2346abe72c5f4500a8fe980d74ad50dd",
       "version_major": 2,
       "version_minor": 0
      },
      "text/plain": [
       "VBox(children=(Label(value='Waiting for wandb.init()...\\r'), FloatProgress(value=0.011112427866707245, max=1.0…"
      ]
     },
     "metadata": {},
     "output_type": "display_data"
    },
    {
     "data": {
      "text/html": [
       "Tracking run with wandb version 0.15.12"
      ],
      "text/plain": [
       "<IPython.core.display.HTML object>"
      ]
     },
     "metadata": {},
     "output_type": "display_data"
    },
    {
     "data": {
      "text/html": [
       "Run data is saved locally in <code>/home/wenli/car_dynamics/wandb/run-20231023_145830-9qzdpw6o</code>"
      ],
      "text/plain": [
       "<IPython.core.display.HTML object>"
      ]
     },
     "metadata": {},
     "output_type": "display_data"
    },
    {
     "data": {
      "text/html": [
       "Syncing run <strong><a href='https://wandb.ai/randyxiao/car-dynamics/runs/9qzdpw6o' target=\"_blank\">neat-spaceship-288</a></strong> to <a href='https://wandb.ai/randyxiao/car-dynamics' target=\"_blank\">Weights & Biases</a> (<a href='https://wandb.me/run' target=\"_blank\">docs</a>)<br/>"
      ],
      "text/plain": [
       "<IPython.core.display.HTML object>"
      ]
     },
     "metadata": {},
     "output_type": "display_data"
    },
    {
     "data": {
      "text/html": [
       " View project at <a href='https://wandb.ai/randyxiao/car-dynamics' target=\"_blank\">https://wandb.ai/randyxiao/car-dynamics</a>"
      ],
      "text/plain": [
       "<IPython.core.display.HTML object>"
      ]
     },
     "metadata": {},
     "output_type": "display_data"
    },
    {
     "data": {
      "text/html": [
       " View run at <a href='https://wandb.ai/randyxiao/car-dynamics/runs/9qzdpw6o' target=\"_blank\">https://wandb.ai/randyxiao/car-dynamics/runs/9qzdpw6o</a>"
      ],
      "text/plain": [
       "<IPython.core.display.HTML object>"
      ]
     },
     "metadata": {},
     "output_type": "display_data"
    },
    {
     "data": {
      "application/vnd.jupyter.widget-view+json": {
       "model_id": "d64ae1b3c4924f6d984c99f48047751d",
       "version_major": 2,
       "version_minor": 0
      },
      "text/plain": [
       "Output()"
      ]
     },
     "metadata": {},
     "output_type": "display_data"
    },
    {
     "data": {
      "text/html": [
       "<pre style=\"white-space:pre;overflow-x:auto;line-height:normal;font-family:Menlo,'DejaVu Sans Mono',consolas,'Courier New',monospace\">(1024, 40)\n",
       "</pre>\n"
      ],
      "text/plain": [
       "(1024, 40)\n"
      ]
     },
     "metadata": {},
     "output_type": "display_data"
    },
    {
     "data": {
      "text/html": [
       "<pre style=\"white-space:pre;overflow-x:auto;line-height:normal;font-family:Menlo,'DejaVu Sans Mono',consolas,'Courier New',monospace\">(1024, 33)\n",
       "</pre>\n"
      ],
      "text/plain": [
       "(1024, 33)\n"
      ]
     },
     "metadata": {},
     "output_type": "display_data"
    },
    {
     "name": "stdout",
     "output_type": "stream",
     "text": [
      "[INFO] DATA PREPARED. SIZE: 9571\n"
     ]
    },
    {
     "data": {
      "text/html": [
       "<pre style=\"white-space:pre;overflow-x:auto;line-height:normal;font-family:Menlo,'DejaVu Sans Mono',consolas,'Courier New',monospace\"></pre>\n"
      ],
      "text/plain": []
     },
     "metadata": {},
     "output_type": "display_data"
    },
    {
     "data": {
      "text/html": [
       "<pre style=\"white-space:pre;overflow-x:auto;line-height:normal;font-family:Menlo,'DejaVu Sans Mono',consolas,'Courier New',monospace\">\n",
       "</pre>\n"
      ],
      "text/plain": [
       "\n"
      ]
     },
     "metadata": {},
     "output_type": "display_data"
    },
    {
     "ename": "ScopeParamNotFoundError",
     "evalue": "Could not find parameter named \"kernel\" in scope \"/enc/layers_0\". (https://flax.readthedocs.io/en/latest/api_reference/flax.errors.html#flax.errors.ScopeParamNotFoundError)",
     "output_type": "error",
     "traceback": [
      "\u001b[0;31m---------------------------------------------------------------------------\u001b[0m",
      "\u001b[0;31mScopeParamNotFoundError\u001b[0m                   Traceback (most recent call last)",
      "Cell \u001b[0;32mIn[45], line 45\u001b[0m\n\u001b[1;32m     42\u001b[0m \u001b[38;5;28mprint\u001b[39m(\u001b[38;5;124mf\u001b[39m\u001b[38;5;124m\"\u001b[39m\u001b[38;5;124m[INFO] DATA PREPARED. SIZE: \u001b[39m\u001b[38;5;132;01m{\u001b[39;00mdataset\u001b[38;5;241m.\u001b[39mlength\u001b[38;5;132;01m}\u001b[39;00m\u001b[38;5;124m\"\u001b[39m)\n\u001b[1;32m     44\u001b[0m \u001b[38;5;66;03m## Tunning pipeline\u001b[39;00m\n\u001b[0;32m---> 45\u001b[0m \u001b[43madapt_model\u001b[49m\u001b[38;5;241;43m.\u001b[39;49m\u001b[43mtune\u001b[49m\u001b[43m(\u001b[49m\u001b[38;5;124;43m'\u001b[39;49m\u001b[38;5;124;43mall\u001b[39;49m\u001b[38;5;124;43m'\u001b[39;49m\u001b[43m,\u001b[49m\u001b[43m \u001b[49m\u001b[43mrun\u001b[49m\u001b[43m,\u001b[49m\u001b[43m \u001b[49m\u001b[43mdataset\u001b[49m\u001b[43m,\u001b[49m\u001b[43m \u001b[49m\u001b[43mepoches\u001b[49m\u001b[38;5;241;43m=\u001b[39;49m\u001b[43mEPOCHES\u001b[49m\u001b[43m,\u001b[49m\u001b[43m \u001b[49m\u001b[43mlearning_rate\u001b[49m\u001b[38;5;241;43m=\u001b[39;49m\u001b[43mLEARNING_RATE\u001b[49m\u001b[43m,\u001b[49m\u001b[43m \u001b[49m\n\u001b[1;32m     46\u001b[0m \u001b[43m               \u001b[49m\u001b[43mbatch_size\u001b[49m\u001b[38;5;241;43m=\u001b[39;49m\u001b[43mBATCH_SIZE\u001b[49m\u001b[43m,\u001b[49m\u001b[43m \u001b[49m\u001b[43mtune_model_dir\u001b[49m\u001b[38;5;241;43m=\u001b[39;49m\u001b[43mTUNE_MODEL_DIR\u001b[49m\u001b[43m,\u001b[49m\u001b[43m \u001b[49m\u001b[43mtune_head_dir\u001b[49m\u001b[38;5;241;43m=\u001b[39;49m\u001b[43mTUNE_HEAD_DIR\u001b[49m\u001b[43m,\u001b[49m\n\u001b[1;32m     47\u001b[0m \u001b[43m                \u001b[49m\u001b[43mdata_split_rate\u001b[49m\u001b[38;5;241;43m=\u001b[39;49m\u001b[38;5;241;43m0.8\u001b[39;49m\u001b[43m)\u001b[49m\n\u001b[1;32m     49\u001b[0m \u001b[38;5;66;03m## Evaluate the tuned model\u001b[39;00m\n\u001b[1;32m     50\u001b[0m y_tune \u001b[38;5;241m=\u001b[39m adapt_model\u001b[38;5;241m.\u001b[39mpredict_dynamics(tune_test_data)\n",
      "File \u001b[0;32m~/car_dynamics/modules/adaptation.py:160\u001b[0m, in \u001b[0;36mAdaptationDynamics.tune\u001b[0;34m(self, mode, logger, dataset, epoches, learning_rate, batch_size, tune_model_dir, tune_head_dir, data_split_rate)\u001b[0m\n\u001b[1;32m    156\u001b[0m eval_loader \u001b[38;5;241m=\u001b[39m FastLoader(eval_dataset, \u001b[38;5;28mself\u001b[39m\u001b[38;5;241m.\u001b[39mbatch_size, key2)\n\u001b[1;32m    158\u001b[0m \u001b[38;5;28mself\u001b[39m\u001b[38;5;241m.\u001b[39m_total_training_epoch \u001b[38;5;241m+\u001b[39m\u001b[38;5;241m=\u001b[39m \u001b[38;5;241m1\u001b[39m\n\u001b[0;32m--> 160\u001b[0m train_log \u001b[38;5;241m=\u001b[39m \u001b[38;5;28;43mself\u001b[39;49m\u001b[38;5;241;43m.\u001b[39;49m\u001b[43mtune_model\u001b[49m\u001b[43m(\u001b[49m\u001b[43mtrain_loader\u001b[49m\u001b[43m,\u001b[49m\u001b[43m \u001b[49m\u001b[43mmode\u001b[49m\u001b[43m)\u001b[49m\n\u001b[1;32m    162\u001b[0m \u001b[38;5;66;03m## Evaluate\u001b[39;00m\n\u001b[1;32m    163\u001b[0m \u001b[38;5;66;03m# t2 = time.time()\u001b[39;00m\n\u001b[1;32m    164\u001b[0m \u001b[38;5;66;03m# eval_log = self.evaluate_model(eval_loader,)\u001b[39;00m\n\u001b[1;32m    165\u001b[0m \n\u001b[1;32m    166\u001b[0m \u001b[38;5;66;03m## Others\u001b[39;00m\n\u001b[1;32m    167\u001b[0m \u001b[38;5;66;03m# t3 = time.time()\u001b[39;00m\n\u001b[1;32m    168\u001b[0m log \u001b[38;5;241m=\u001b[39m {\u001b[38;5;124m'\u001b[39m\u001b[38;5;124mtrain/total_epoch\u001b[39m\u001b[38;5;124m'\u001b[39m: \u001b[38;5;28mself\u001b[39m\u001b[38;5;241m.\u001b[39m_total_training_epoch}\n",
      "File \u001b[0;32m~/car_dynamics/modules/adaptation.py:188\u001b[0m, in \u001b[0;36mAdaptationDynamics.tune_model\u001b[0;34m(self, data_loader, mode)\u001b[0m\n\u001b[1;32m    186\u001b[0m \u001b[38;5;28mprint\u001b[39m(history\u001b[38;5;241m.\u001b[39mshape)\n\u001b[1;32m    187\u001b[0m \u001b[38;5;28;01mif\u001b[39;00m mode \u001b[38;5;241m==\u001b[39m \u001b[38;5;124m'\u001b[39m\u001b[38;5;124mall\u001b[39m\u001b[38;5;124m'\u001b[39m:\n\u001b[0;32m--> 188\u001b[0m     \u001b[38;5;28mself\u001b[39m\u001b[38;5;241m.\u001b[39mstate, \u001b[38;5;28mself\u001b[39m\u001b[38;5;241m.\u001b[39mhead_state, loss \u001b[38;5;241m=\u001b[39m \u001b[43mtune_all_step\u001b[49m\u001b[43m(\u001b[49m\u001b[38;5;28;43mself\u001b[39;49m\u001b[38;5;241;43m.\u001b[39;49m\u001b[43mstate\u001b[49m\u001b[43m,\u001b[49m\u001b[43m \u001b[49m\u001b[38;5;28;43mself\u001b[39;49m\u001b[38;5;241;43m.\u001b[39;49m\u001b[43mhead_state\u001b[49m\u001b[43m,\u001b[49m\u001b[43m \u001b[49m\u001b[43mstate\u001b[49m\u001b[43m,\u001b[49m\u001b[43m \u001b[49m\u001b[43mhistory\u001b[49m\u001b[43m,\u001b[49m\u001b[43m \u001b[49m\u001b[43maction\u001b[49m\u001b[43m,\u001b[49m\u001b[43m \u001b[49m\u001b[43mlabels\u001b[49m\u001b[43m,\u001b[49m\u001b[43m \u001b[49m\n\u001b[1;32m    189\u001b[0m \u001b[43m                                                      \u001b[49m\u001b[38;5;28;43mself\u001b[39;49m\u001b[38;5;241;43m.\u001b[39;49m\u001b[43m_labels_min\u001b[49m\u001b[43m,\u001b[49m\u001b[43m \u001b[49m\u001b[38;5;28;43mself\u001b[39;49m\u001b[38;5;241;43m.\u001b[39;49m\u001b[43m_labels_max\u001b[49m\u001b[43m)\u001b[49m\n\u001b[1;32m    190\u001b[0m \u001b[38;5;28;01melif\u001b[39;00m mode \u001b[38;5;241m==\u001b[39m \u001b[38;5;124m'\u001b[39m\u001b[38;5;124madapt\u001b[39m\u001b[38;5;124m'\u001b[39m:\n\u001b[1;32m    191\u001b[0m     \u001b[38;5;28mself\u001b[39m\u001b[38;5;241m.\u001b[39mstate, \u001b[38;5;28mself\u001b[39m\u001b[38;5;241m.\u001b[39mhead_state, loss \u001b[38;5;241m=\u001b[39m tune_enc_step(\u001b[38;5;28mself\u001b[39m\u001b[38;5;241m.\u001b[39mstate, \u001b[38;5;28mself\u001b[39m\u001b[38;5;241m.\u001b[39mhead_state, state, history, action, labels, \n\u001b[1;32m    192\u001b[0m                                                       \u001b[38;5;28mself\u001b[39m\u001b[38;5;241m.\u001b[39m_labels_min, \u001b[38;5;28mself\u001b[39m\u001b[38;5;241m.\u001b[39m_labels_max)\n",
      "    \u001b[0;31m[... skipping hidden 12 frame]\u001b[0m\n",
      "File \u001b[0;32m~/car_dynamics/modules/adaptation.py:39\u001b[0m, in \u001b[0;36mtune_all_step\u001b[0;34m(state_adapt, state_head, state, history, action, labels, latent_min, latent_max)\u001b[0m\n\u001b[1;32m     36\u001b[0m params_adapt \u001b[38;5;241m=\u001b[39m state_adapt\u001b[38;5;241m.\u001b[39mparams\n\u001b[1;32m     37\u001b[0m params_head \u001b[38;5;241m=\u001b[39m state_head\u001b[38;5;241m.\u001b[39mparams\n\u001b[0;32m---> 39\u001b[0m (loss, _), grads_adapt, grads_head \u001b[38;5;241m=\u001b[39m \u001b[43mgradient_fn\u001b[49m\u001b[43m(\u001b[49m\u001b[43mparams_adapt\u001b[49m\u001b[43m,\u001b[49m\u001b[43m \u001b[49m\u001b[43mparams_head\u001b[49m\u001b[43m)\u001b[49m\n\u001b[1;32m     41\u001b[0m state_adapt \u001b[38;5;241m=\u001b[39m state_adapt\u001b[38;5;241m.\u001b[39mapply_gradients(grads\u001b[38;5;241m=\u001b[39mgrads_adapt)\n\u001b[1;32m     42\u001b[0m state_head \u001b[38;5;241m=\u001b[39m state_head\u001b[38;5;241m.\u001b[39mapply_gradients(grads\u001b[38;5;241m=\u001b[39mgrads_head)\n",
      "    \u001b[0;31m[... skipping hidden 8 frame]\u001b[0m\n",
      "File \u001b[0;32m~/car_dynamics/modules/adaptation.py:30\u001b[0m, in \u001b[0;36mtune_all_step.<locals>.loss_fn\u001b[0;34m(params_adapt, params_head)\u001b[0m\n\u001b[1;32m     28\u001b[0m latent \u001b[38;5;241m=\u001b[39m latent \u001b[38;5;241m*\u001b[39m (latent_max \u001b[38;5;241m-\u001b[39m latent_min \u001b[38;5;241m+\u001b[39m \u001b[38;5;241m1e-8\u001b[39m) \u001b[38;5;241m+\u001b[39m latent_min\n\u001b[1;32m     29\u001b[0m inputs_dyn \u001b[38;5;241m=\u001b[39m jnp\u001b[38;5;241m.\u001b[39mconcatenate([state, latent, action], axis\u001b[38;5;241m=\u001b[39m\u001b[38;5;241m-\u001b[39m\u001b[38;5;241m1\u001b[39m) \n\u001b[0;32m---> 30\u001b[0m outputs \u001b[38;5;241m=\u001b[39m \u001b[43mstate_head\u001b[49m\u001b[38;5;241;43m.\u001b[39;49m\u001b[43mapply_fn\u001b[49m\u001b[43m(\u001b[49m\u001b[43m{\u001b[49m\u001b[38;5;124;43m'\u001b[39;49m\u001b[38;5;124;43mparams\u001b[39;49m\u001b[38;5;124;43m'\u001b[39;49m\u001b[43m:\u001b[49m\u001b[43m \u001b[49m\u001b[43mparams_head\u001b[49m\u001b[43m}\u001b[49m\u001b[43m,\u001b[49m\u001b[43m \u001b[49m\u001b[43minputs_dyn\u001b[49m\u001b[43m)\u001b[49m\n\u001b[1;32m     31\u001b[0m loss \u001b[38;5;241m=\u001b[39m jnp\u001b[38;5;241m.\u001b[39mmean((outputs \u001b[38;5;241m-\u001b[39m labels) \u001b[38;5;241m*\u001b[39m\u001b[38;5;241m*\u001b[39m \u001b[38;5;241m2\u001b[39m)\n\u001b[1;32m     32\u001b[0m \u001b[38;5;28;01mreturn\u001b[39;00m loss, (latent, outputs)\n",
      "    \u001b[0;31m[... skipping hidden 6 frame]\u001b[0m\n",
      "File \u001b[0;32m~/car_dynamics/modules/networks.py:109\u001b[0m, in \u001b[0;36mAffineControlEncNN.__call__\u001b[0;34m(self, input)\u001b[0m\n\u001b[1;32m    107\u001b[0m x, a \u001b[38;5;241m=\u001b[39m \u001b[38;5;28minput\u001b[39m[:, :\u001b[38;5;241m-\u001b[39m\u001b[38;5;28mself\u001b[39m\u001b[38;5;241m.\u001b[39maction_dims], \u001b[38;5;28minput\u001b[39m[:, \u001b[38;5;241m-\u001b[39m\u001b[38;5;28mself\u001b[39m\u001b[38;5;241m.\u001b[39maction_dims:]\n\u001b[1;32m    108\u001b[0m x, env_params \u001b[38;5;241m=\u001b[39m x[:, :\u001b[38;5;241m-\u001b[39m\u001b[38;5;28mself\u001b[39m\u001b[38;5;241m.\u001b[39menv_dims], x[:, \u001b[38;5;241m-\u001b[39m\u001b[38;5;28mself\u001b[39m\u001b[38;5;241m.\u001b[39menv_dims:]\n\u001b[0;32m--> 109\u001b[0m encoded_x \u001b[38;5;241m=\u001b[39m \u001b[38;5;28;43mself\u001b[39;49m\u001b[38;5;241;43m.\u001b[39;49m\u001b[43menc\u001b[49m\u001b[43m(\u001b[49m\u001b[43menv_params\u001b[49m\u001b[43m)\u001b[49m \u001b[38;5;66;03m# Encoding step\u001b[39;00m\n\u001b[1;32m    110\u001b[0m \u001b[38;5;28;01massert\u001b[39;00m encoded_x\u001b[38;5;241m.\u001b[39mshape[\u001b[38;5;241m1\u001b[39m] \u001b[38;5;241m==\u001b[39m \u001b[38;5;28mself\u001b[39m\u001b[38;5;241m.\u001b[39mrepr_dims\n\u001b[1;32m    111\u001b[0m x \u001b[38;5;241m=\u001b[39m jnp\u001b[38;5;241m.\u001b[39mconcatenate((x, encoded_x), axis\u001b[38;5;241m=\u001b[39m\u001b[38;5;241m1\u001b[39m)\n",
      "    \u001b[0;31m[... skipping hidden 2 frame]\u001b[0m\n",
      "File \u001b[0;32m~/miniforge3/envs/safeDPA/lib/python3.8/site-packages/flax/linen/combinators.py:86\u001b[0m, in \u001b[0;36mSequential.__call__\u001b[0;34m(self, *args, **kwargs)\u001b[0m\n\u001b[1;32m     83\u001b[0m \u001b[38;5;28;01mif\u001b[39;00m \u001b[38;5;129;01mnot\u001b[39;00m \u001b[38;5;28mself\u001b[39m\u001b[38;5;241m.\u001b[39mlayers:\n\u001b[1;32m     84\u001b[0m   \u001b[38;5;28;01mraise\u001b[39;00m \u001b[38;5;167;01mValueError\u001b[39;00m(\u001b[38;5;124mf\u001b[39m\u001b[38;5;124m\"\u001b[39m\u001b[38;5;124mEmpty Sequential module \u001b[39m\u001b[38;5;132;01m{\u001b[39;00m\u001b[38;5;28mself\u001b[39m\u001b[38;5;241m.\u001b[39mname\u001b[38;5;132;01m}\u001b[39;00m\u001b[38;5;124m.\u001b[39m\u001b[38;5;124m\"\u001b[39m)\n\u001b[0;32m---> 86\u001b[0m outputs \u001b[38;5;241m=\u001b[39m \u001b[38;5;28;43mself\u001b[39;49m\u001b[38;5;241;43m.\u001b[39;49m\u001b[43mlayers\u001b[49m\u001b[43m[\u001b[49m\u001b[38;5;241;43m0\u001b[39;49m\u001b[43m]\u001b[49m\u001b[43m(\u001b[49m\u001b[38;5;241;43m*\u001b[39;49m\u001b[43margs\u001b[49m\u001b[43m,\u001b[49m\u001b[43m \u001b[49m\u001b[38;5;241;43m*\u001b[39;49m\u001b[38;5;241;43m*\u001b[39;49m\u001b[43mkwargs\u001b[49m\u001b[43m)\u001b[49m\n\u001b[1;32m     87\u001b[0m \u001b[38;5;28;01mfor\u001b[39;00m layer \u001b[38;5;129;01min\u001b[39;00m \u001b[38;5;28mself\u001b[39m\u001b[38;5;241m.\u001b[39mlayers[\u001b[38;5;241m1\u001b[39m:]:\n\u001b[1;32m     88\u001b[0m   \u001b[38;5;28;01mif\u001b[39;00m \u001b[38;5;28misinstance\u001b[39m(outputs, \u001b[38;5;28mtuple\u001b[39m):\n",
      "    \u001b[0;31m[... skipping hidden 2 frame]\u001b[0m\n",
      "File \u001b[0;32m~/miniforge3/envs/safeDPA/lib/python3.8/site-packages/flax/linen/linear.py:226\u001b[0m, in \u001b[0;36mDense.__call__\u001b[0;34m(self, inputs)\u001b[0m\n\u001b[1;32m    216\u001b[0m \u001b[38;5;129m@compact\u001b[39m\n\u001b[1;32m    217\u001b[0m \u001b[38;5;28;01mdef\u001b[39;00m \u001b[38;5;21m__call__\u001b[39m(\u001b[38;5;28mself\u001b[39m, inputs: Array) \u001b[38;5;241m-\u001b[39m\u001b[38;5;241m>\u001b[39m Array:\n\u001b[1;32m    218\u001b[0m \u001b[38;5;250m  \u001b[39m\u001b[38;5;124;03m\"\"\"Applies a linear transformation to the inputs along the last dimension.\u001b[39;00m\n\u001b[1;32m    219\u001b[0m \n\u001b[1;32m    220\u001b[0m \u001b[38;5;124;03m  Args:\u001b[39;00m\n\u001b[0;32m   (...)\u001b[0m\n\u001b[1;32m    224\u001b[0m \u001b[38;5;124;03m    The transformed input.\u001b[39;00m\n\u001b[1;32m    225\u001b[0m \u001b[38;5;124;03m  \"\"\"\u001b[39;00m\n\u001b[0;32m--> 226\u001b[0m   kernel \u001b[38;5;241m=\u001b[39m \u001b[38;5;28;43mself\u001b[39;49m\u001b[38;5;241;43m.\u001b[39;49m\u001b[43mparam\u001b[49m\u001b[43m(\u001b[49m\n\u001b[1;32m    227\u001b[0m \u001b[43m      \u001b[49m\u001b[38;5;124;43m'\u001b[39;49m\u001b[38;5;124;43mkernel\u001b[39;49m\u001b[38;5;124;43m'\u001b[39;49m\u001b[43m,\u001b[49m\n\u001b[1;32m    228\u001b[0m \u001b[43m      \u001b[49m\u001b[38;5;28;43mself\u001b[39;49m\u001b[38;5;241;43m.\u001b[39;49m\u001b[43mkernel_init\u001b[49m\u001b[43m,\u001b[49m\n\u001b[1;32m    229\u001b[0m \u001b[43m      \u001b[49m\u001b[43m(\u001b[49m\u001b[43mjnp\u001b[49m\u001b[38;5;241;43m.\u001b[39;49m\u001b[43mshape\u001b[49m\u001b[43m(\u001b[49m\u001b[43minputs\u001b[49m\u001b[43m)\u001b[49m\u001b[43m[\u001b[49m\u001b[38;5;241;43m-\u001b[39;49m\u001b[38;5;241;43m1\u001b[39;49m\u001b[43m]\u001b[49m\u001b[43m,\u001b[49m\u001b[43m \u001b[49m\u001b[38;5;28;43mself\u001b[39;49m\u001b[38;5;241;43m.\u001b[39;49m\u001b[43mfeatures\u001b[49m\u001b[43m)\u001b[49m\u001b[43m,\u001b[49m\n\u001b[1;32m    230\u001b[0m \u001b[43m      \u001b[49m\u001b[38;5;28;43mself\u001b[39;49m\u001b[38;5;241;43m.\u001b[39;49m\u001b[43mparam_dtype\u001b[49m\u001b[43m,\u001b[49m\n\u001b[1;32m    231\u001b[0m \u001b[43m  \u001b[49m\u001b[43m)\u001b[49m\n\u001b[1;32m    232\u001b[0m   \u001b[38;5;28;01mif\u001b[39;00m \u001b[38;5;28mself\u001b[39m\u001b[38;5;241m.\u001b[39muse_bias:\n\u001b[1;32m    233\u001b[0m     bias \u001b[38;5;241m=\u001b[39m \u001b[38;5;28mself\u001b[39m\u001b[38;5;241m.\u001b[39mparam(\n\u001b[1;32m    234\u001b[0m         \u001b[38;5;124m'\u001b[39m\u001b[38;5;124mbias\u001b[39m\u001b[38;5;124m'\u001b[39m, \u001b[38;5;28mself\u001b[39m\u001b[38;5;241m.\u001b[39mbias_init, (\u001b[38;5;28mself\u001b[39m\u001b[38;5;241m.\u001b[39mfeatures,), \u001b[38;5;28mself\u001b[39m\u001b[38;5;241m.\u001b[39mparam_dtype\n\u001b[1;32m    235\u001b[0m     )\n",
      "    \u001b[0;31m[... skipping hidden 1 frame]\u001b[0m\n",
      "File \u001b[0;32m~/miniforge3/envs/safeDPA/lib/python3.8/site-packages/flax/core/scope.py:896\u001b[0m, in \u001b[0;36mScope.param\u001b[0;34m(self, name, init_fn, unbox, *init_args)\u001b[0m\n\u001b[1;32m    894\u001b[0m   \u001b[38;5;28;01mif\u001b[39;00m \u001b[38;5;28mself\u001b[39m\u001b[38;5;241m.\u001b[39mis_collection_empty(\u001b[38;5;124m'\u001b[39m\u001b[38;5;124mparams\u001b[39m\u001b[38;5;124m'\u001b[39m):\n\u001b[1;32m    895\u001b[0m     \u001b[38;5;28;01mraise\u001b[39;00m errors\u001b[38;5;241m.\u001b[39mScopeCollectionNotFound(\u001b[38;5;124m'\u001b[39m\u001b[38;5;124mparams\u001b[39m\u001b[38;5;124m'\u001b[39m, name, \u001b[38;5;28mself\u001b[39m\u001b[38;5;241m.\u001b[39mpath_text)\n\u001b[0;32m--> 896\u001b[0m   \u001b[38;5;28;01mraise\u001b[39;00m errors\u001b[38;5;241m.\u001b[39mScopeParamNotFoundError(name, \u001b[38;5;28mself\u001b[39m\u001b[38;5;241m.\u001b[39mpath_text)\n\u001b[1;32m    897\u001b[0m value \u001b[38;5;241m=\u001b[39m init_fn(\u001b[38;5;28mself\u001b[39m\u001b[38;5;241m.\u001b[39mmake_rng(\u001b[38;5;124m'\u001b[39m\u001b[38;5;124mparams\u001b[39m\u001b[38;5;124m'\u001b[39m), \u001b[38;5;241m*\u001b[39minit_args)\n\u001b[1;32m    898\u001b[0m \u001b[38;5;28mself\u001b[39m\u001b[38;5;241m.\u001b[39mput_variable(\u001b[38;5;124m'\u001b[39m\u001b[38;5;124mparams\u001b[39m\u001b[38;5;124m'\u001b[39m, name, value)\n",
      "\u001b[0;31mScopeParamNotFoundError\u001b[0m: Could not find parameter named \"kernel\" in scope \"/enc/layers_0\". (https://flax.readthedocs.io/en/latest/api_reference/flax.errors.html#flax.errors.ScopeParamNotFoundError)"
     ]
    }
   ],
   "source": [
    "DEBUG = False\n",
    "from modules.data_utils import convert_to_dataset\n",
    "# from modules.dynamics import VanillaDynamics\n",
    "from datetime import datetime\n",
    "import wandb\n",
    "from jax import random\n",
    "\n",
    "LEARNING_RATE = 1e-4\n",
    "EPOCHES = 1000\n",
    "BATCH_SIZE = 512\n",
    "for LEARNING_RATE in [1e-4]:\n",
    "    for EPOCHES in [500]:\n",
    "        for BATCH_SIZE in [256]:\n",
    "\n",
    "            now = datetime.now()\n",
    "            FILE_NAME = f'{now.strftime(\"%Y\")}-{now.strftime(\"%m\")}-{now.strftime(\"%d\")}-{now.strftime(\"%H:%M:%S\")}'\n",
    "            TUNE_MODEL_DIR = f'models/tune_model/{FILE_NAME}/'\n",
    "            TUNE_HEAD_DIR = f'models/tune_head/{FILE_NAME}/'\n",
    "            run = wandb.init(\n",
    "                project=\"car-dynamics\",\n",
    "                config= {\n",
    "                    'mode': 'adapt-tune',\n",
    "                    'tune_model_dir': TUNE_MODEL_DIR,\n",
    "                    'single_env': True,\n",
    "                    'lr': LEARNING_RATE,\n",
    "                    'batch_size': BATCH_SIZE,\n",
    "                    'epoches': EPOCHES,\n",
    "                },\n",
    "                mode = \"disabled\" if DEBUG else \"online\",\n",
    "            )\n",
    "            \n",
    "            ## Normalize data\n",
    "            data_min = adapt_model._dyn_data_min\n",
    "            data_max = adapt_model._dyn_data_max\n",
    "            label_min = adapt_model._dyn_labels_min\n",
    "            label_max = adapt_model._dyn_labels_max\n",
    "            tune_train_data = (tune_train_data - data_min) / (data_max - data_min + 1e-8)\n",
    "            tune_train_label = (tune_train_label - label_min) / (label_max - label_min + 1e-8)\n",
    "            \n",
    "            dataset = convert_to_dataset(tune_train_data, tune_train_label)\n",
    "            \n",
    "            print(f\"[INFO] DATA PREPARED. SIZE: {dataset.length}\")\n",
    "            \n",
    "            ## Tunning pipeline\n",
    "            adapt_model.tune('all', run, dataset, epoches=EPOCHES, learning_rate=LEARNING_RATE, \n",
    "                           batch_size=BATCH_SIZE, tune_model_dir=TUNE_MODEL_DIR, tune_head_dir=TUNE_HEAD_DIR,\n",
    "                            data_split_rate=0.8)\n",
    "            \n",
    "            ## Evaluate the tuned model\n",
    "            y_tune = adapt_model.predict_dynamics(tune_test_data)\n",
    "            error_tune = np.abs(y_tune - tune_test_label)\n",
    "            log_dict = {}\n",
    "            for i in range(5):\n",
    "                log_dict[f'eval_error_mean_{i}'] = np.mean(error_tune[:,i]) \n",
    "                log_dict[f'eval_error_std_{i}'] = np.std(error_tune[:,i]) \n",
    "            run.log(log_dict)"
   ]
  },
  {
   "cell_type": "code",
   "execution_count": 43,
   "id": "a95b29f8-dd29-4294-baa3-31046faca878",
   "metadata": {},
   "outputs": [
    {
     "data": {
      "text/plain": [
       "40"
      ]
     },
     "execution_count": 43,
     "metadata": {},
     "output_type": "execute_result"
    }
   ],
   "source": [
    "adapt_model.input_dims"
   ]
  },
  {
   "cell_type": "code",
   "execution_count": null,
   "id": "9ef7cdd3-00cc-48b0-96d9-7f86ff74ece0",
   "metadata": {},
   "outputs": [],
   "source": []
  }
 ],
 "metadata": {
  "kernelspec": {
   "display_name": "Python 3 (ipykernel)",
   "language": "python",
   "name": "python3"
  },
  "language_info": {
   "codemirror_mode": {
    "name": "ipython",
    "version": 3
   },
   "file_extension": ".py",
   "mimetype": "text/x-python",
   "name": "python",
   "nbconvert_exporter": "python",
   "pygments_lexer": "ipython3",
   "version": "3.8.18"
  }
 },
 "nbformat": 4,
 "nbformat_minor": 5
}
